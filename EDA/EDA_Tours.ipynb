{
 "cells": [
  {
   "cell_type": "code",
   "execution_count": 345,
   "metadata": {},
   "outputs": [],
   "source": [
    "# importing libraries\n",
    "import pandas as pd\n",
    "import numpy as np\n",
    "import matplotlib.pyplot as plt\n",
    "import seaborn as sns"
   ]
  },
  {
   "cell_type": "code",
   "execution_count": 346,
   "metadata": {},
   "outputs": [],
   "source": [
    "# reading tour dataframes\n",
    "df = pd.read_csv(r'..\\Tour data\\all_Tours.csv')"
   ]
  },
  {
   "cell_type": "code",
   "execution_count": 347,
   "metadata": {},
   "outputs": [
    {
     "data": {
      "text/html": [
       "<div>\n",
       "<style scoped>\n",
       "    .dataframe tbody tr th:only-of-type {\n",
       "        vertical-align: middle;\n",
       "    }\n",
       "\n",
       "    .dataframe tbody tr th {\n",
       "        vertical-align: top;\n",
       "    }\n",
       "\n",
       "    .dataframe thead th {\n",
       "        text-align: right;\n",
       "    }\n",
       "</style>\n",
       "<table border=\"1\" class=\"dataframe\">\n",
       "  <thead>\n",
       "    <tr style=\"text-align: right;\">\n",
       "      <th></th>\n",
       "      <th>Unnamed: 0</th>\n",
       "      <th>Image</th>\n",
       "      <th>Tour Name</th>\n",
       "      <th>Tour Type</th>\n",
       "      <th>Tour Duration</th>\n",
       "      <th>Tour Price</th>\n",
       "      <th>Price Per</th>\n",
       "      <th>Cancellation</th>\n",
       "      <th>Tour By</th>\n",
       "      <th>City</th>\n",
       "      <th>Country</th>\n",
       "      <th>Link</th>\n",
       "    </tr>\n",
       "  </thead>\n",
       "  <tbody>\n",
       "    <tr>\n",
       "      <th>0</th>\n",
       "      <td>0</td>\n",
       "      <td>NaN</td>\n",
       "      <td>NaN</td>\n",
       "      <td>NaN</td>\n",
       "      <td>NaN</td>\n",
       "      <td>NaN</td>\n",
       "      <td>NaN</td>\n",
       "      <td>NaN</td>\n",
       "      <td>Clear all filters</td>\n",
       "      <td>Abu Dhabi</td>\n",
       "      <td>United Arab Emirates</td>\n",
       "      <td>NaN</td>\n",
       "    </tr>\n",
       "    <tr>\n",
       "      <th>1</th>\n",
       "      <td>1</td>\n",
       "      <td>https://dynamic-media-cdn.tripadvisor.com/medi...</td>\n",
       "      <td>Abu Dhabi Full-Day Sightseeing Tour from Dubai</td>\n",
       "      <td>Bus Tours</td>\n",
       "      <td>6+ hours</td>\n",
       "      <td>$40.00</td>\n",
       "      <td>per adult</td>\n",
       "      <td>Free cancellation</td>\n",
       "      <td>By RAH Tourism</td>\n",
       "      <td>Abu Dhabi</td>\n",
       "      <td>United Arab Emirates</td>\n",
       "      <td>https://www.tripadvisor.com/Attraction_Review-...</td>\n",
       "    </tr>\n",
       "    <tr>\n",
       "      <th>2</th>\n",
       "      <td>2</td>\n",
       "      <td>https://dynamic-media-cdn.tripadvisor.com/medi...</td>\n",
       "      <td>Evening Desert Safari With BBQ Dinner, Camel R...</td>\n",
       "      <td>Shore Excursions</td>\n",
       "      <td>6 hours</td>\n",
       "      <td>$83.00</td>\n",
       "      <td>per adult</td>\n",
       "      <td>Free cancellation</td>\n",
       "      <td>By Emirates Tours and Safaris</td>\n",
       "      <td>Abu Dhabi</td>\n",
       "      <td>United Arab Emirates</td>\n",
       "      <td>https://www.tripadvisor.com/Attraction_Review-...</td>\n",
       "    </tr>\n",
       "    <tr>\n",
       "      <th>3</th>\n",
       "      <td>3</td>\n",
       "      <td>NaN</td>\n",
       "      <td>NaN</td>\n",
       "      <td>Cold feet?</td>\n",
       "      <td>NaN</td>\n",
       "      <td>NaN</td>\n",
       "      <td>NaN</td>\n",
       "      <td>NaN</td>\n",
       "      <td>NaN</td>\n",
       "      <td>Abu Dhabi</td>\n",
       "      <td>United Arab Emirates</td>\n",
       "      <td>NaN</td>\n",
       "    </tr>\n",
       "    <tr>\n",
       "      <th>4</th>\n",
       "      <td>4</td>\n",
       "      <td>https://dynamic-media-cdn.tripadvisor.com/medi...</td>\n",
       "      <td>Dubai to Abu Dhabi Grand Mosque &amp; Qasr Al Wata...</td>\n",
       "      <td>Bus Tours</td>\n",
       "      <td>8–9 hours</td>\n",
       "      <td>$109.00</td>\n",
       "      <td>per adult</td>\n",
       "      <td>Free cancellation</td>\n",
       "      <td>By OceanAir Travels</td>\n",
       "      <td>Abu Dhabi</td>\n",
       "      <td>United Arab Emirates</td>\n",
       "      <td>https://www.tripadvisor.com/Attraction_Review-...</td>\n",
       "    </tr>\n",
       "  </tbody>\n",
       "</table>\n",
       "</div>"
      ],
      "text/plain": [
       "   Unnamed: 0                                              Image  \\\n",
       "0           0                                                NaN   \n",
       "1           1  https://dynamic-media-cdn.tripadvisor.com/medi...   \n",
       "2           2  https://dynamic-media-cdn.tripadvisor.com/medi...   \n",
       "3           3                                                NaN   \n",
       "4           4  https://dynamic-media-cdn.tripadvisor.com/medi...   \n",
       "\n",
       "                                           Tour Name         Tour Type  \\\n",
       "0                                                NaN               NaN   \n",
       "1     Abu Dhabi Full-Day Sightseeing Tour from Dubai         Bus Tours   \n",
       "2  Evening Desert Safari With BBQ Dinner, Camel R...  Shore Excursions   \n",
       "3                                                NaN        Cold feet?   \n",
       "4  Dubai to Abu Dhabi Grand Mosque & Qasr Al Wata...         Bus Tours   \n",
       "\n",
       "  Tour Duration Tour Price  Price Per       Cancellation  \\\n",
       "0           NaN        NaN        NaN                NaN   \n",
       "1      6+ hours     $40.00  per adult  Free cancellation   \n",
       "2       6 hours     $83.00  per adult  Free cancellation   \n",
       "3           NaN        NaN        NaN                NaN   \n",
       "4     8–9 hours    $109.00  per adult  Free cancellation   \n",
       "\n",
       "                         Tour By       City               Country  \\\n",
       "0              Clear all filters  Abu Dhabi  United Arab Emirates   \n",
       "1                 By RAH Tourism  Abu Dhabi  United Arab Emirates   \n",
       "2  By Emirates Tours and Safaris  Abu Dhabi  United Arab Emirates   \n",
       "3                            NaN  Abu Dhabi  United Arab Emirates   \n",
       "4            By OceanAir Travels  Abu Dhabi  United Arab Emirates   \n",
       "\n",
       "                                                Link  \n",
       "0                                                NaN  \n",
       "1  https://www.tripadvisor.com/Attraction_Review-...  \n",
       "2  https://www.tripadvisor.com/Attraction_Review-...  \n",
       "3                                                NaN  \n",
       "4  https://www.tripadvisor.com/Attraction_Review-...  "
      ]
     },
     "execution_count": 347,
     "metadata": {},
     "output_type": "execute_result"
    }
   ],
   "source": [
    "# showing the first 5 rows\n",
    "df.head()"
   ]
  },
  {
   "cell_type": "code",
   "execution_count": 348,
   "metadata": {},
   "outputs": [
    {
     "name": "stdout",
     "output_type": "stream",
     "text": [
      "<class 'pandas.core.frame.DataFrame'>\n",
      "RangeIndex: 16974 entries, 0 to 16973\n",
      "Data columns (total 12 columns):\n",
      " #   Column         Non-Null Count  Dtype \n",
      "---  ------         --------------  ----- \n",
      " 0   Unnamed: 0     16974 non-null  int64 \n",
      " 1   Image          15775 non-null  object\n",
      " 2   Tour Name      15813 non-null  object\n",
      " 3   Tour Type      13984 non-null  object\n",
      " 4   Tour Duration  16336 non-null  object\n",
      " 5   Tour Price     15852 non-null  object\n",
      " 6   Price Per      15813 non-null  object\n",
      " 7   Cancellation   13447 non-null  object\n",
      " 8   Tour By        16160 non-null  object\n",
      " 9   City           16974 non-null  object\n",
      " 10  Country        16974 non-null  object\n",
      " 11  Link           15645 non-null  object\n",
      "dtypes: int64(1), object(11)\n",
      "memory usage: 1.6+ MB\n"
     ]
    }
   ],
   "source": [
    "# information about the dataframe\n",
    "df.info()"
   ]
  },
  {
   "cell_type": "markdown",
   "metadata": {},
   "source": [
    "**Issues**\n",
    "\n",
    "- Remove Unnamed: 0 column\n",
    "- Drop the null values\n",
    "- Remove $ from Tour Price and convert it to float\n",
    "- Replace Image column before the link\n",
    "- Rename the Link column (Agency Link)\n",
    "- Tour Duration convert different unit into one unit (in hour) deal with the different format of the time value."
   ]
  },
  {
   "cell_type": "code",
   "execution_count": 349,
   "metadata": {},
   "outputs": [],
   "source": [
    "# making copy for cleaning\n",
    "df_clean = df.copy()"
   ]
  },
  {
   "cell_type": "markdown",
   "metadata": {},
   "source": [
    "## Cleaning "
   ]
  },
  {
   "cell_type": "markdown",
   "metadata": {},
   "source": [
    "*1. General cleaning* <br>\n",
    "*1.1 Drop the null values*"
   ]
  },
  {
   "cell_type": "code",
   "execution_count": 350,
   "metadata": {},
   "outputs": [],
   "source": [
    "# drop the null value\n",
    "df_clean = df_clean.dropna()"
   ]
  },
  {
   "cell_type": "markdown",
   "metadata": {},
   "source": [
    "*1.2 Rename Tour Name, Tour Type, Tour Duration, Tour Price & Link columns*"
   ]
  },
  {
   "cell_type": "code",
   "execution_count": 351,
   "metadata": {},
   "outputs": [],
   "source": [
    "# renaming the columns\n",
    "df_clean.rename(columns={'Tour Name':'Tour', 'Tour Type':'Type', 'Tour Duration':'Duration', 'Tour Price':'Price', 'Link':'Link to agency'}, inplace=True)"
   ]
  },
  {
   "cell_type": "code",
   "execution_count": 352,
   "metadata": {},
   "outputs": [
    {
     "name": "stdout",
     "output_type": "stream",
     "text": [
      "<class 'pandas.core.frame.DataFrame'>\n",
      "Int64Index: 10913 entries, 1 to 16971\n",
      "Data columns (total 12 columns):\n",
      " #   Column          Non-Null Count  Dtype \n",
      "---  ------          --------------  ----- \n",
      " 0   Unnamed: 0      10913 non-null  int64 \n",
      " 1   Image           10913 non-null  object\n",
      " 2   Tour            10913 non-null  object\n",
      " 3   Type            10913 non-null  object\n",
      " 4   Duration        10913 non-null  object\n",
      " 5   Price           10913 non-null  object\n",
      " 6   Price Per       10913 non-null  object\n",
      " 7   Cancellation    10913 non-null  object\n",
      " 8   Tour By         10913 non-null  object\n",
      " 9   City            10913 non-null  object\n",
      " 10  Country         10913 non-null  object\n",
      " 11  Link to agency  10913 non-null  object\n",
      "dtypes: int64(1), object(11)\n",
      "memory usage: 1.1+ MB\n"
     ]
    }
   ],
   "source": [
    "# check the above\n",
    "df_clean.info()"
   ]
  },
  {
   "cell_type": "markdown",
   "metadata": {},
   "source": [
    "*2. Specific column cleaning*\n",
    "<br>\n",
    "*2.1 Remove unnecessary column*"
   ]
  },
  {
   "cell_type": "code",
   "execution_count": 353,
   "metadata": {},
   "outputs": [],
   "source": [
    "# drop the Unnamed: 0 column\n",
    "df_clean.drop('Unnamed: 0', axis=1, inplace=True)"
   ]
  },
  {
   "cell_type": "markdown",
   "metadata": {},
   "source": [
    "*2.2 Image column*"
   ]
  },
  {
   "cell_type": "code",
   "execution_count": 354,
   "metadata": {},
   "outputs": [],
   "source": [
    "# Replace the image column\n",
    "df_clean = df_clean[['Tour', 'Type', 'Duration', 'Price', 'Price Per', 'Cancellation','Tour By', 'City', 'Country', 'Image', 'Link to agency']]"
   ]
  },
  {
   "cell_type": "markdown",
   "metadata": {},
   "source": [
    "*2.3 Tour Name column*"
   ]
  },
  {
   "cell_type": "code",
   "execution_count": 355,
   "metadata": {},
   "outputs": [
    {
     "data": {
      "text/plain": [
       "10526"
      ]
     },
     "execution_count": 355,
     "metadata": {},
     "output_type": "execute_result"
    }
   ],
   "source": [
    "# check the number of unique values in Tour name\n",
    "df_clean['Tour'].nunique()"
   ]
  },
  {
   "cell_type": "markdown",
   "metadata": {},
   "source": [
    "*Since the number of unique value in the Tour column is not the same number of entries in the dataset. This mean there are so many duplicates in the name. Whereas, the Tour column should be all unique.*"
   ]
  },
  {
   "cell_type": "code",
   "execution_count": 356,
   "metadata": {},
   "outputs": [
    {
     "data": {
      "text/plain": [
       "Abu Dhabi City Tour From Dubai                                                    7\n",
       "4 in 1 package sale (Dubai City tour-Safari-dinner cruise-Abu Dhabi City tour)    6\n",
       "Private Abu Dhabi City Tour                                                       5\n",
       "Abu Dhabi City Tour                                                               4\n",
       "Essaouira Day Trip from Marrakech                                                 4\n",
       "                                                                                 ..\n",
       "Evening Trails Through Diverse Kuala Lumpur                                       1\n",
       "First Day : Arrival Transfer with Malaysia Countryside and Batu Caves Tour        1\n",
       "Kuala Lumpur Sightseeing Tour                                                     1\n",
       "Genting Highland Tour                                                             1\n",
       "Half-Day Vienna City Tour with Entrance to Schonbrunn Palace                      1\n",
       "Name: Tour, Length: 10526, dtype: int64"
      ]
     },
     "execution_count": 356,
     "metadata": {},
     "output_type": "execute_result"
    }
   ],
   "source": [
    "# check the value counts in Tour name\n",
    "df_clean['Tour'].value_counts()"
   ]
  },
  {
   "cell_type": "code",
   "execution_count": 357,
   "metadata": {},
   "outputs": [],
   "source": [
    "# drop the duplicates in Tour column\n",
    "df_clean.drop_duplicates(subset=['Tour'],inplace=True)"
   ]
  },
  {
   "cell_type": "code",
   "execution_count": 358,
   "metadata": {},
   "outputs": [
    {
     "name": "stdout",
     "output_type": "stream",
     "text": [
      "<class 'pandas.core.frame.DataFrame'>\n",
      "Int64Index: 10526 entries, 1 to 16961\n",
      "Data columns (total 11 columns):\n",
      " #   Column          Non-Null Count  Dtype \n",
      "---  ------          --------------  ----- \n",
      " 0   Tour            10526 non-null  object\n",
      " 1   Type            10526 non-null  object\n",
      " 2   Duration        10526 non-null  object\n",
      " 3   Price           10526 non-null  object\n",
      " 4   Price Per       10526 non-null  object\n",
      " 5   Cancellation    10526 non-null  object\n",
      " 6   Tour By         10526 non-null  object\n",
      " 7   City            10526 non-null  object\n",
      " 8   Country         10526 non-null  object\n",
      " 9   Image           10526 non-null  object\n",
      " 10  Link to agency  10526 non-null  object\n",
      "dtypes: object(11)\n",
      "memory usage: 986.8+ KB\n"
     ]
    }
   ],
   "source": [
    "# to check the above\n",
    "df_clean.info()"
   ]
  },
  {
   "cell_type": "markdown",
   "metadata": {},
   "source": [
    "*2.4 Tour Type column*"
   ]
  },
  {
   "cell_type": "code",
   "execution_count": 359,
   "metadata": {},
   "outputs": [
    {
     "data": {
      "text/plain": [
       "129"
      ]
     },
     "execution_count": 359,
     "metadata": {},
     "output_type": "execute_result"
    }
   ],
   "source": [
    "# check the number of unique values in Tour Type\n",
    "df_clean['Type'].nunique()"
   ]
  },
  {
   "cell_type": "code",
   "execution_count": 360,
   "metadata": {},
   "outputs": [
    {
     "data": {
      "image/png": "[encoded data removed]",
      "text/plain": [
       "<Figure size 1440x720 with 1 Axes>"
      ]
     },
     "metadata": {},
     "output_type": "display_data"
    }
   ],
   "source": [
    "# Bar chart for the top 10 Type\n",
    "x = df_clean['Type'].value_counts().head(10).index\n",
    "y = df_clean['Type'].value_counts().head(10)\n",
    "\n",
    "plt.style.use('seaborn-darkgrid')\n",
    "plt.figure(figsize=(20,10))\n",
    "plt.xticks( color ='#000000',fontsize=12, rotation = 15)\n",
    "plt.yticks(color ='#000000',fontsize=12)\n",
    "plt.bar(x, y, color= ('#458B74'), width=0.6)\n",
    "plt.xlabel('Tour Type',fontsize=20, color ='#000000')\n",
    "plt.ylabel('Number of tour',fontsize=20, color ='#000000')\n",
    "plt.title('The top 10 Tour Types',fontsize=22, color ='#000000')\n",
    "plt.show();"
   ]
  },
  {
   "cell_type": "markdown",
   "metadata": {},
   "source": [
    "*Bus Tours is the top type of tour in thid dataset, with more than 3500 Tours.  Followwed by the walking Tours*"
   ]
  },
  {
   "cell_type": "markdown",
   "metadata": {},
   "source": [
    "*2.5 Tour Duration column*"
   ]
  },
  {
   "cell_type": "code",
   "execution_count": 361,
   "metadata": {},
   "outputs": [
    {
     "data": {
      "text/plain": [
       "238"
      ]
     },
     "execution_count": 361,
     "metadata": {},
     "output_type": "execute_result"
    }
   ],
   "source": [
    "# check the number of unique values in Tour Duration\n",
    "df_clean['Duration'].nunique()"
   ]
  },
  {
   "cell_type": "code",
   "execution_count": 362,
   "metadata": {},
   "outputs": [
    {
     "data": {
      "text/plain": [
       "6+ hours           2256\n",
       "3 hours            1235\n",
       "4 hours             903\n",
       "2 hours             794\n",
       "2–3 hours           568\n",
       "                   ... \n",
       "700–750 minutes       1\n",
       "3–30 days             1\n",
       "6–20 minutes          1\n",
       "5–13 hours            1\n",
       "80–90 minutes         1\n",
       "Name: Duration, Length: 238, dtype: int64"
      ]
     },
     "execution_count": 362,
     "metadata": {},
     "output_type": "execute_result"
    }
   ],
   "source": [
    "# check the value count in Tour Duration\n",
    "df_clean['Duration'].value_counts()"
   ]
  },
  {
   "cell_type": "markdown",
   "metadata": {},
   "source": [
    "*The values in this column are in different units: days, hours and minutes.*\n",
    "*So, let separate the units first and then convert them all inot one unit (in hour).*\n",
    "*The values with range I will calculate the average of them. As what I saw back in the tripadvisor.com.*"
   ]
  },
  {
   "cell_type": "markdown",
   "metadata": {},
   "source": [
    "*2.5.1 Separate the time value and the duration unit in two columns*"
   ]
  },
  {
   "cell_type": "code",
   "execution_count": 363,
   "metadata": {},
   "outputs": [
    {
     "data": {
      "text/html": [
       "<div>\n",
       "<style scoped>\n",
       "    .dataframe tbody tr th:only-of-type {\n",
       "        vertical-align: middle;\n",
       "    }\n",
       "\n",
       "    .dataframe tbody tr th {\n",
       "        vertical-align: top;\n",
       "    }\n",
       "\n",
       "    .dataframe thead th {\n",
       "        text-align: right;\n",
       "    }\n",
       "</style>\n",
       "<table border=\"1\" class=\"dataframe\">\n",
       "  <thead>\n",
       "    <tr style=\"text-align: right;\">\n",
       "      <th></th>\n",
       "      <th>Tour</th>\n",
       "      <th>Type</th>\n",
       "      <th>Duration</th>\n",
       "      <th>Price</th>\n",
       "      <th>Price Per</th>\n",
       "      <th>Cancellation</th>\n",
       "      <th>Tour By</th>\n",
       "      <th>City</th>\n",
       "      <th>Country</th>\n",
       "      <th>Image</th>\n",
       "      <th>Link to agency</th>\n",
       "      <th>Time</th>\n",
       "      <th>Unit</th>\n",
       "    </tr>\n",
       "  </thead>\n",
       "  <tbody>\n",
       "    <tr>\n",
       "      <th>1</th>\n",
       "      <td>Abu Dhabi Full-Day Sightseeing Tour from Dubai</td>\n",
       "      <td>Bus Tours</td>\n",
       "      <td>6+ hours</td>\n",
       "      <td>$40.00</td>\n",
       "      <td>per adult</td>\n",
       "      <td>Free cancellation</td>\n",
       "      <td>By RAH Tourism</td>\n",
       "      <td>Abu Dhabi</td>\n",
       "      <td>United Arab Emirates</td>\n",
       "      <td>https://dynamic-media-cdn.tripadvisor.com/medi...</td>\n",
       "      <td>https://www.tripadvisor.com/Attraction_Review-...</td>\n",
       "      <td>6+</td>\n",
       "      <td>hours</td>\n",
       "    </tr>\n",
       "    <tr>\n",
       "      <th>2</th>\n",
       "      <td>Evening Desert Safari With BBQ Dinner, Camel R...</td>\n",
       "      <td>Shore Excursions</td>\n",
       "      <td>6 hours</td>\n",
       "      <td>$83.00</td>\n",
       "      <td>per adult</td>\n",
       "      <td>Free cancellation</td>\n",
       "      <td>By Emirates Tours and Safaris</td>\n",
       "      <td>Abu Dhabi</td>\n",
       "      <td>United Arab Emirates</td>\n",
       "      <td>https://dynamic-media-cdn.tripadvisor.com/medi...</td>\n",
       "      <td>https://www.tripadvisor.com/Attraction_Review-...</td>\n",
       "      <td>6</td>\n",
       "      <td>hours</td>\n",
       "    </tr>\n",
       "    <tr>\n",
       "      <th>4</th>\n",
       "      <td>Dubai to Abu Dhabi Grand Mosque &amp; Qasr Al Wata...</td>\n",
       "      <td>Bus Tours</td>\n",
       "      <td>8–9 hours</td>\n",
       "      <td>$109.00</td>\n",
       "      <td>per adult</td>\n",
       "      <td>Free cancellation</td>\n",
       "      <td>By OceanAir Travels</td>\n",
       "      <td>Abu Dhabi</td>\n",
       "      <td>United Arab Emirates</td>\n",
       "      <td>https://dynamic-media-cdn.tripadvisor.com/medi...</td>\n",
       "      <td>https://www.tripadvisor.com/Attraction_Review-...</td>\n",
       "      <td>8–9</td>\n",
       "      <td>hours</td>\n",
       "    </tr>\n",
       "    <tr>\n",
       "      <th>5</th>\n",
       "      <td>Abu Dhabi Private City Tour</td>\n",
       "      <td>Bus Tours</td>\n",
       "      <td>5 hours</td>\n",
       "      <td>$200.00</td>\n",
       "      <td>per group</td>\n",
       "      <td>Free cancellation</td>\n",
       "      <td>By RAH Tourism</td>\n",
       "      <td>Abu Dhabi</td>\n",
       "      <td>United Arab Emirates</td>\n",
       "      <td>https://dynamic-media-cdn.tripadvisor.com/medi...</td>\n",
       "      <td>https://www.tripadvisor.com/Attraction_Review-...</td>\n",
       "      <td>5</td>\n",
       "      <td>hours</td>\n",
       "    </tr>\n",
       "    <tr>\n",
       "      <th>6</th>\n",
       "      <td>Abu Dhabi City Tour - Grand Mosque, Emirates P...</td>\n",
       "      <td>Bus Tours</td>\n",
       "      <td>8–9 hours</td>\n",
       "      <td>$75.00</td>\n",
       "      <td>per adult</td>\n",
       "      <td>Free cancellation</td>\n",
       "      <td>By RAH Tourism</td>\n",
       "      <td>Abu Dhabi</td>\n",
       "      <td>United Arab Emirates</td>\n",
       "      <td>https://dynamic-media-cdn.tripadvisor.com/medi...</td>\n",
       "      <td>https://www.tripadvisor.com/Attraction_Review-...</td>\n",
       "      <td>8–9</td>\n",
       "      <td>hours</td>\n",
       "    </tr>\n",
       "    <tr>\n",
       "      <th>...</th>\n",
       "      <td>...</td>\n",
       "      <td>...</td>\n",
       "      <td>...</td>\n",
       "      <td>...</td>\n",
       "      <td>...</td>\n",
       "      <td>...</td>\n",
       "      <td>...</td>\n",
       "      <td>...</td>\n",
       "      <td>...</td>\n",
       "      <td>...</td>\n",
       "      <td>...</td>\n",
       "      <td>...</td>\n",
       "      <td>...</td>\n",
       "    </tr>\n",
       "    <tr>\n",
       "      <th>16948</th>\n",
       "      <td>Vienna Sightseeing Day Trip from Prague</td>\n",
       "      <td>Bus Tours</td>\n",
       "      <td>6+ hours</td>\n",
       "      <td>$146.14</td>\n",
       "      <td>per adult</td>\n",
       "      <td>Free cancellation</td>\n",
       "      <td>By Gray Line Prague</td>\n",
       "      <td>Vienna</td>\n",
       "      <td>Austria</td>\n",
       "      <td>https://dynamic-media-cdn.tripadvisor.com/medi...</td>\n",
       "      <td>https://www.tripadvisor.com/Attraction_Review-...</td>\n",
       "      <td>6+</td>\n",
       "      <td>hours</td>\n",
       "    </tr>\n",
       "    <tr>\n",
       "      <th>16949</th>\n",
       "      <td>Crime Trail Vienna Alsergrund</td>\n",
       "      <td>Self-guided Tours &amp; Rentals</td>\n",
       "      <td>3 hours</td>\n",
       "      <td>$28.28</td>\n",
       "      <td>per group</td>\n",
       "      <td>Free cancellation</td>\n",
       "      <td>By Krimi-Trail Wien Alsergrund</td>\n",
       "      <td>Vienna</td>\n",
       "      <td>Austria</td>\n",
       "      <td>https://dynamic-media-cdn.tripadvisor.com/medi...</td>\n",
       "      <td>https://www.tripadvisor.com/Attraction_Review-...</td>\n",
       "      <td>3</td>\n",
       "      <td>hours</td>\n",
       "    </tr>\n",
       "    <tr>\n",
       "      <th>16955</th>\n",
       "      <td>Vienna: Schönbrunn Skip the Line Palace Tour a...</td>\n",
       "      <td>Walking Tours</td>\n",
       "      <td>1–2 hours</td>\n",
       "      <td>$92.66</td>\n",
       "      <td>per adult</td>\n",
       "      <td>Free cancellation</td>\n",
       "      <td>By Rosotravel - Vienna Tours</td>\n",
       "      <td>Vienna</td>\n",
       "      <td>Austria</td>\n",
       "      <td>https://dynamic-media-cdn.tripadvisor.com/medi...</td>\n",
       "      <td>https://www.tripadvisor.com/Attraction_Review-...</td>\n",
       "      <td>1–2</td>\n",
       "      <td>hours</td>\n",
       "    </tr>\n",
       "    <tr>\n",
       "      <th>16956</th>\n",
       "      <td>Salzburg Christmas Markets Day Trip from Vienna</td>\n",
       "      <td>Full-day Tours</td>\n",
       "      <td>6+ hours</td>\n",
       "      <td>$191.20</td>\n",
       "      <td>per adult</td>\n",
       "      <td>Free cancellation</td>\n",
       "      <td>By White Alligator Tours</td>\n",
       "      <td>Vienna</td>\n",
       "      <td>Austria</td>\n",
       "      <td>https://dynamic-media-cdn.tripadvisor.com/medi...</td>\n",
       "      <td>https://www.tripadvisor.com/Attraction_Review-...</td>\n",
       "      <td>6+</td>\n",
       "      <td>hours</td>\n",
       "    </tr>\n",
       "    <tr>\n",
       "      <th>16961</th>\n",
       "      <td>Half-Day Vienna City Tour with Entrance to Sch...</td>\n",
       "      <td>Bus Tours</td>\n",
       "      <td>3–4 hours</td>\n",
       "      <td>$55.44</td>\n",
       "      <td>per adult</td>\n",
       "      <td>Free cancellation</td>\n",
       "      <td>By 7 Travel</td>\n",
       "      <td>Vienna</td>\n",
       "      <td>Austria</td>\n",
       "      <td>https://dynamic-media-cdn.tripadvisor.com/medi...</td>\n",
       "      <td>https://www.tripadvisor.com/Attraction_Review-...</td>\n",
       "      <td>3–4</td>\n",
       "      <td>hours</td>\n",
       "    </tr>\n",
       "  </tbody>\n",
       "</table>\n",
       "<p>10526 rows × 13 columns</p>\n",
       "</div>"
      ],
      "text/plain": [
       "                                                    Tour  \\\n",
       "1         Abu Dhabi Full-Day Sightseeing Tour from Dubai   \n",
       "2      Evening Desert Safari With BBQ Dinner, Camel R...   \n",
       "4      Dubai to Abu Dhabi Grand Mosque & Qasr Al Wata...   \n",
       "5                            Abu Dhabi Private City Tour   \n",
       "6      Abu Dhabi City Tour - Grand Mosque, Emirates P...   \n",
       "...                                                  ...   \n",
       "16948            Vienna Sightseeing Day Trip from Prague   \n",
       "16949                      Crime Trail Vienna Alsergrund   \n",
       "16955  Vienna: Schönbrunn Skip the Line Palace Tour a...   \n",
       "16956    Salzburg Christmas Markets Day Trip from Vienna   \n",
       "16961  Half-Day Vienna City Tour with Entrance to Sch...   \n",
       "\n",
       "                              Type   Duration    Price  Price Per  \\\n",
       "1                        Bus Tours   6+ hours   $40.00  per adult   \n",
       "2                 Shore Excursions    6 hours   $83.00  per adult   \n",
       "4                        Bus Tours  8–9 hours  $109.00  per adult   \n",
       "5                        Bus Tours    5 hours  $200.00  per group   \n",
       "6                        Bus Tours  8–9 hours   $75.00  per adult   \n",
       "...                            ...        ...      ...        ...   \n",
       "16948                    Bus Tours   6+ hours  $146.14  per adult   \n",
       "16949  Self-guided Tours & Rentals    3 hours   $28.28  per group   \n",
       "16955                Walking Tours  1–2 hours   $92.66  per adult   \n",
       "16956               Full-day Tours   6+ hours  $191.20  per adult   \n",
       "16961                    Bus Tours  3–4 hours   $55.44  per adult   \n",
       "\n",
       "            Cancellation                         Tour By       City  \\\n",
       "1      Free cancellation                  By RAH Tourism  Abu Dhabi   \n",
       "2      Free cancellation   By Emirates Tours and Safaris  Abu Dhabi   \n",
       "4      Free cancellation             By OceanAir Travels  Abu Dhabi   \n",
       "5      Free cancellation                  By RAH Tourism  Abu Dhabi   \n",
       "6      Free cancellation                  By RAH Tourism  Abu Dhabi   \n",
       "...                  ...                             ...        ...   \n",
       "16948  Free cancellation             By Gray Line Prague     Vienna   \n",
       "16949  Free cancellation  By Krimi-Trail Wien Alsergrund     Vienna   \n",
       "16955  Free cancellation    By Rosotravel - Vienna Tours     Vienna   \n",
       "16956  Free cancellation        By White Alligator Tours     Vienna   \n",
       "16961  Free cancellation                     By 7 Travel     Vienna   \n",
       "\n",
       "                    Country  \\\n",
       "1      United Arab Emirates   \n",
       "2      United Arab Emirates   \n",
       "4      United Arab Emirates   \n",
       "5      United Arab Emirates   \n",
       "6      United Arab Emirates   \n",
       "...                     ...   \n",
       "16948               Austria   \n",
       "16949               Austria   \n",
       "16955               Austria   \n",
       "16956               Austria   \n",
       "16961               Austria   \n",
       "\n",
       "                                                   Image  \\\n",
       "1      https://dynamic-media-cdn.tripadvisor.com/medi...   \n",
       "2      https://dynamic-media-cdn.tripadvisor.com/medi...   \n",
       "4      https://dynamic-media-cdn.tripadvisor.com/medi...   \n",
       "5      https://dynamic-media-cdn.tripadvisor.com/medi...   \n",
       "6      https://dynamic-media-cdn.tripadvisor.com/medi...   \n",
       "...                                                  ...   \n",
       "16948  https://dynamic-media-cdn.tripadvisor.com/medi...   \n",
       "16949  https://dynamic-media-cdn.tripadvisor.com/medi...   \n",
       "16955  https://dynamic-media-cdn.tripadvisor.com/medi...   \n",
       "16956  https://dynamic-media-cdn.tripadvisor.com/medi...   \n",
       "16961  https://dynamic-media-cdn.tripadvisor.com/medi...   \n",
       "\n",
       "                                          Link to agency Time   Unit  \n",
       "1      https://www.tripadvisor.com/Attraction_Review-...   6+  hours  \n",
       "2      https://www.tripadvisor.com/Attraction_Review-...    6  hours  \n",
       "4      https://www.tripadvisor.com/Attraction_Review-...  8–9  hours  \n",
       "5      https://www.tripadvisor.com/Attraction_Review-...    5  hours  \n",
       "6      https://www.tripadvisor.com/Attraction_Review-...  8–9  hours  \n",
       "...                                                  ...  ...    ...  \n",
       "16948  https://www.tripadvisor.com/Attraction_Review-...   6+  hours  \n",
       "16949  https://www.tripadvisor.com/Attraction_Review-...    3  hours  \n",
       "16955  https://www.tripadvisor.com/Attraction_Review-...  1–2  hours  \n",
       "16956  https://www.tripadvisor.com/Attraction_Review-...   6+  hours  \n",
       "16961  https://www.tripadvisor.com/Attraction_Review-...  3–4  hours  \n",
       "\n",
       "[10526 rows x 13 columns]"
      ]
     },
     "execution_count": 363,
     "metadata": {},
     "output_type": "execute_result"
    }
   ],
   "source": [
    "# separate each the duration (in number) and the unit making new columns\n",
    "df_clean[['Time','Unit']] = df_clean.Duration.str.split(\" \",expand=True)\n",
    "df_clean"
   ]
  },
  {
   "cell_type": "markdown",
   "metadata": {},
   "source": [
    "*2.5.2 Removing other characters in Time column*"
   ]
  },
  {
   "cell_type": "code",
   "execution_count": 364,
   "metadata": {},
   "outputs": [
    {
     "name": "stderr",
     "output_type": "stream",
     "text": [
      "C:\\Users\\Fatemah\\AppData\\Local\\Temp/ipykernel_21876/2870402399.py:2: FutureWarning: The default value of regex will change from True to False in a future version. In addition, single character regular expressions will *not* be treated as literal strings when regex=True.\n",
      "  df_clean['Time'] = df_clean['Time'].str.replace('+', '')\n"
     ]
    }
   ],
   "source": [
    "# removing the + sign from Time column, by using str.replace\n",
    "df_clean['Time'] = df_clean['Time'].str.replace('+', '')\n",
    "df_clean['Time'] = df_clean['Time'].str.replace(',', '')"
   ]
  },
  {
   "cell_type": "markdown",
   "metadata": {},
   "source": [
    "*After removing + sign and the comma , now I can separate the other format in Time column* <br> \n",
    "<br>\n",
    "*2.5.3 Separate the numbers in Time column to minimum duration & maximum duration*"
   ]
  },
  {
   "cell_type": "code",
   "execution_count": 365,
   "metadata": {},
   "outputs": [
    {
     "data": {
      "text/html": [
       "<div>\n",
       "<style scoped>\n",
       "    .dataframe tbody tr th:only-of-type {\n",
       "        vertical-align: middle;\n",
       "    }\n",
       "\n",
       "    .dataframe tbody tr th {\n",
       "        vertical-align: top;\n",
       "    }\n",
       "\n",
       "    .dataframe thead th {\n",
       "        text-align: right;\n",
       "    }\n",
       "</style>\n",
       "<table border=\"1\" class=\"dataframe\">\n",
       "  <thead>\n",
       "    <tr style=\"text-align: right;\">\n",
       "      <th></th>\n",
       "      <th>Tour</th>\n",
       "      <th>Type</th>\n",
       "      <th>Duration</th>\n",
       "      <th>Price</th>\n",
       "      <th>Price Per</th>\n",
       "      <th>Cancellation</th>\n",
       "      <th>Tour By</th>\n",
       "      <th>City</th>\n",
       "      <th>Country</th>\n",
       "      <th>Image</th>\n",
       "      <th>Link to agency</th>\n",
       "      <th>Time</th>\n",
       "      <th>Unit</th>\n",
       "      <th>minD</th>\n",
       "      <th>maxD</th>\n",
       "    </tr>\n",
       "  </thead>\n",
       "  <tbody>\n",
       "    <tr>\n",
       "      <th>1</th>\n",
       "      <td>Abu Dhabi Full-Day Sightseeing Tour from Dubai</td>\n",
       "      <td>Bus Tours</td>\n",
       "      <td>6+ hours</td>\n",
       "      <td>$40.00</td>\n",
       "      <td>per adult</td>\n",
       "      <td>Free cancellation</td>\n",
       "      <td>By RAH Tourism</td>\n",
       "      <td>Abu Dhabi</td>\n",
       "      <td>United Arab Emirates</td>\n",
       "      <td>https://dynamic-media-cdn.tripadvisor.com/medi...</td>\n",
       "      <td>https://www.tripadvisor.com/Attraction_Review-...</td>\n",
       "      <td>6</td>\n",
       "      <td>hours</td>\n",
       "      <td>6</td>\n",
       "      <td>None</td>\n",
       "    </tr>\n",
       "    <tr>\n",
       "      <th>2</th>\n",
       "      <td>Evening Desert Safari With BBQ Dinner, Camel R...</td>\n",
       "      <td>Shore Excursions</td>\n",
       "      <td>6 hours</td>\n",
       "      <td>$83.00</td>\n",
       "      <td>per adult</td>\n",
       "      <td>Free cancellation</td>\n",
       "      <td>By Emirates Tours and Safaris</td>\n",
       "      <td>Abu Dhabi</td>\n",
       "      <td>United Arab Emirates</td>\n",
       "      <td>https://dynamic-media-cdn.tripadvisor.com/medi...</td>\n",
       "      <td>https://www.tripadvisor.com/Attraction_Review-...</td>\n",
       "      <td>6</td>\n",
       "      <td>hours</td>\n",
       "      <td>6</td>\n",
       "      <td>None</td>\n",
       "    </tr>\n",
       "    <tr>\n",
       "      <th>4</th>\n",
       "      <td>Dubai to Abu Dhabi Grand Mosque &amp; Qasr Al Wata...</td>\n",
       "      <td>Bus Tours</td>\n",
       "      <td>8–9 hours</td>\n",
       "      <td>$109.00</td>\n",
       "      <td>per adult</td>\n",
       "      <td>Free cancellation</td>\n",
       "      <td>By OceanAir Travels</td>\n",
       "      <td>Abu Dhabi</td>\n",
       "      <td>United Arab Emirates</td>\n",
       "      <td>https://dynamic-media-cdn.tripadvisor.com/medi...</td>\n",
       "      <td>https://www.tripadvisor.com/Attraction_Review-...</td>\n",
       "      <td>8–9</td>\n",
       "      <td>hours</td>\n",
       "      <td>8</td>\n",
       "      <td>9</td>\n",
       "    </tr>\n",
       "    <tr>\n",
       "      <th>5</th>\n",
       "      <td>Abu Dhabi Private City Tour</td>\n",
       "      <td>Bus Tours</td>\n",
       "      <td>5 hours</td>\n",
       "      <td>$200.00</td>\n",
       "      <td>per group</td>\n",
       "      <td>Free cancellation</td>\n",
       "      <td>By RAH Tourism</td>\n",
       "      <td>Abu Dhabi</td>\n",
       "      <td>United Arab Emirates</td>\n",
       "      <td>https://dynamic-media-cdn.tripadvisor.com/medi...</td>\n",
       "      <td>https://www.tripadvisor.com/Attraction_Review-...</td>\n",
       "      <td>5</td>\n",
       "      <td>hours</td>\n",
       "      <td>5</td>\n",
       "      <td>None</td>\n",
       "    </tr>\n",
       "    <tr>\n",
       "      <th>6</th>\n",
       "      <td>Abu Dhabi City Tour - Grand Mosque, Emirates P...</td>\n",
       "      <td>Bus Tours</td>\n",
       "      <td>8–9 hours</td>\n",
       "      <td>$75.00</td>\n",
       "      <td>per adult</td>\n",
       "      <td>Free cancellation</td>\n",
       "      <td>By RAH Tourism</td>\n",
       "      <td>Abu Dhabi</td>\n",
       "      <td>United Arab Emirates</td>\n",
       "      <td>https://dynamic-media-cdn.tripadvisor.com/medi...</td>\n",
       "      <td>https://www.tripadvisor.com/Attraction_Review-...</td>\n",
       "      <td>8–9</td>\n",
       "      <td>hours</td>\n",
       "      <td>8</td>\n",
       "      <td>9</td>\n",
       "    </tr>\n",
       "    <tr>\n",
       "      <th>...</th>\n",
       "      <td>...</td>\n",
       "      <td>...</td>\n",
       "      <td>...</td>\n",
       "      <td>...</td>\n",
       "      <td>...</td>\n",
       "      <td>...</td>\n",
       "      <td>...</td>\n",
       "      <td>...</td>\n",
       "      <td>...</td>\n",
       "      <td>...</td>\n",
       "      <td>...</td>\n",
       "      <td>...</td>\n",
       "      <td>...</td>\n",
       "      <td>...</td>\n",
       "      <td>...</td>\n",
       "    </tr>\n",
       "    <tr>\n",
       "      <th>16948</th>\n",
       "      <td>Vienna Sightseeing Day Trip from Prague</td>\n",
       "      <td>Bus Tours</td>\n",
       "      <td>6+ hours</td>\n",
       "      <td>$146.14</td>\n",
       "      <td>per adult</td>\n",
       "      <td>Free cancellation</td>\n",
       "      <td>By Gray Line Prague</td>\n",
       "      <td>Vienna</td>\n",
       "      <td>Austria</td>\n",
       "      <td>https://dynamic-media-cdn.tripadvisor.com/medi...</td>\n",
       "      <td>https://www.tripadvisor.com/Attraction_Review-...</td>\n",
       "      <td>6</td>\n",
       "      <td>hours</td>\n",
       "      <td>6</td>\n",
       "      <td>None</td>\n",
       "    </tr>\n",
       "    <tr>\n",
       "      <th>16949</th>\n",
       "      <td>Crime Trail Vienna Alsergrund</td>\n",
       "      <td>Self-guided Tours &amp; Rentals</td>\n",
       "      <td>3 hours</td>\n",
       "      <td>$28.28</td>\n",
       "      <td>per group</td>\n",
       "      <td>Free cancellation</td>\n",
       "      <td>By Krimi-Trail Wien Alsergrund</td>\n",
       "      <td>Vienna</td>\n",
       "      <td>Austria</td>\n",
       "      <td>https://dynamic-media-cdn.tripadvisor.com/medi...</td>\n",
       "      <td>https://www.tripadvisor.com/Attraction_Review-...</td>\n",
       "      <td>3</td>\n",
       "      <td>hours</td>\n",
       "      <td>3</td>\n",
       "      <td>None</td>\n",
       "    </tr>\n",
       "    <tr>\n",
       "      <th>16955</th>\n",
       "      <td>Vienna: Schönbrunn Skip the Line Palace Tour a...</td>\n",
       "      <td>Walking Tours</td>\n",
       "      <td>1–2 hours</td>\n",
       "      <td>$92.66</td>\n",
       "      <td>per adult</td>\n",
       "      <td>Free cancellation</td>\n",
       "      <td>By Rosotravel - Vienna Tours</td>\n",
       "      <td>Vienna</td>\n",
       "      <td>Austria</td>\n",
       "      <td>https://dynamic-media-cdn.tripadvisor.com/medi...</td>\n",
       "      <td>https://www.tripadvisor.com/Attraction_Review-...</td>\n",
       "      <td>1–2</td>\n",
       "      <td>hours</td>\n",
       "      <td>1</td>\n",
       "      <td>2</td>\n",
       "    </tr>\n",
       "    <tr>\n",
       "      <th>16956</th>\n",
       "      <td>Salzburg Christmas Markets Day Trip from Vienna</td>\n",
       "      <td>Full-day Tours</td>\n",
       "      <td>6+ hours</td>\n",
       "      <td>$191.20</td>\n",
       "      <td>per adult</td>\n",
       "      <td>Free cancellation</td>\n",
       "      <td>By White Alligator Tours</td>\n",
       "      <td>Vienna</td>\n",
       "      <td>Austria</td>\n",
       "      <td>https://dynamic-media-cdn.tripadvisor.com/medi...</td>\n",
       "      <td>https://www.tripadvisor.com/Attraction_Review-...</td>\n",
       "      <td>6</td>\n",
       "      <td>hours</td>\n",
       "      <td>6</td>\n",
       "      <td>None</td>\n",
       "    </tr>\n",
       "    <tr>\n",
       "      <th>16961</th>\n",
       "      <td>Half-Day Vienna City Tour with Entrance to Sch...</td>\n",
       "      <td>Bus Tours</td>\n",
       "      <td>3–4 hours</td>\n",
       "      <td>$55.44</td>\n",
       "      <td>per adult</td>\n",
       "      <td>Free cancellation</td>\n",
       "      <td>By 7 Travel</td>\n",
       "      <td>Vienna</td>\n",
       "      <td>Austria</td>\n",
       "      <td>https://dynamic-media-cdn.tripadvisor.com/medi...</td>\n",
       "      <td>https://www.tripadvisor.com/Attraction_Review-...</td>\n",
       "      <td>3–4</td>\n",
       "      <td>hours</td>\n",
       "      <td>3</td>\n",
       "      <td>4</td>\n",
       "    </tr>\n",
       "  </tbody>\n",
       "</table>\n",
       "<p>10526 rows × 15 columns</p>\n",
       "</div>"
      ],
      "text/plain": [
       "                                                    Tour  \\\n",
       "1         Abu Dhabi Full-Day Sightseeing Tour from Dubai   \n",
       "2      Evening Desert Safari With BBQ Dinner, Camel R...   \n",
       "4      Dubai to Abu Dhabi Grand Mosque & Qasr Al Wata...   \n",
       "5                            Abu Dhabi Private City Tour   \n",
       "6      Abu Dhabi City Tour - Grand Mosque, Emirates P...   \n",
       "...                                                  ...   \n",
       "16948            Vienna Sightseeing Day Trip from Prague   \n",
       "16949                      Crime Trail Vienna Alsergrund   \n",
       "16955  Vienna: Schönbrunn Skip the Line Palace Tour a...   \n",
       "16956    Salzburg Christmas Markets Day Trip from Vienna   \n",
       "16961  Half-Day Vienna City Tour with Entrance to Sch...   \n",
       "\n",
       "                              Type   Duration    Price  Price Per  \\\n",
       "1                        Bus Tours   6+ hours   $40.00  per adult   \n",
       "2                 Shore Excursions    6 hours   $83.00  per adult   \n",
       "4                        Bus Tours  8–9 hours  $109.00  per adult   \n",
       "5                        Bus Tours    5 hours  $200.00  per group   \n",
       "6                        Bus Tours  8–9 hours   $75.00  per adult   \n",
       "...                            ...        ...      ...        ...   \n",
       "16948                    Bus Tours   6+ hours  $146.14  per adult   \n",
       "16949  Self-guided Tours & Rentals    3 hours   $28.28  per group   \n",
       "16955                Walking Tours  1–2 hours   $92.66  per adult   \n",
       "16956               Full-day Tours   6+ hours  $191.20  per adult   \n",
       "16961                    Bus Tours  3–4 hours   $55.44  per adult   \n",
       "\n",
       "            Cancellation                         Tour By       City  \\\n",
       "1      Free cancellation                  By RAH Tourism  Abu Dhabi   \n",
       "2      Free cancellation   By Emirates Tours and Safaris  Abu Dhabi   \n",
       "4      Free cancellation             By OceanAir Travels  Abu Dhabi   \n",
       "5      Free cancellation                  By RAH Tourism  Abu Dhabi   \n",
       "6      Free cancellation                  By RAH Tourism  Abu Dhabi   \n",
       "...                  ...                             ...        ...   \n",
       "16948  Free cancellation             By Gray Line Prague     Vienna   \n",
       "16949  Free cancellation  By Krimi-Trail Wien Alsergrund     Vienna   \n",
       "16955  Free cancellation    By Rosotravel - Vienna Tours     Vienna   \n",
       "16956  Free cancellation        By White Alligator Tours     Vienna   \n",
       "16961  Free cancellation                     By 7 Travel     Vienna   \n",
       "\n",
       "                    Country  \\\n",
       "1      United Arab Emirates   \n",
       "2      United Arab Emirates   \n",
       "4      United Arab Emirates   \n",
       "5      United Arab Emirates   \n",
       "6      United Arab Emirates   \n",
       "...                     ...   \n",
       "16948               Austria   \n",
       "16949               Austria   \n",
       "16955               Austria   \n",
       "16956               Austria   \n",
       "16961               Austria   \n",
       "\n",
       "                                                   Image  \\\n",
       "1      https://dynamic-media-cdn.tripadvisor.com/medi...   \n",
       "2      https://dynamic-media-cdn.tripadvisor.com/medi...   \n",
       "4      https://dynamic-media-cdn.tripadvisor.com/medi...   \n",
       "5      https://dynamic-media-cdn.tripadvisor.com/medi...   \n",
       "6      https://dynamic-media-cdn.tripadvisor.com/medi...   \n",
       "...                                                  ...   \n",
       "16948  https://dynamic-media-cdn.tripadvisor.com/medi...   \n",
       "16949  https://dynamic-media-cdn.tripadvisor.com/medi...   \n",
       "16955  https://dynamic-media-cdn.tripadvisor.com/medi...   \n",
       "16956  https://dynamic-media-cdn.tripadvisor.com/medi...   \n",
       "16961  https://dynamic-media-cdn.tripadvisor.com/medi...   \n",
       "\n",
       "                                          Link to agency Time   Unit minD  \\\n",
       "1      https://www.tripadvisor.com/Attraction_Review-...    6  hours    6   \n",
       "2      https://www.tripadvisor.com/Attraction_Review-...    6  hours    6   \n",
       "4      https://www.tripadvisor.com/Attraction_Review-...  8–9  hours    8   \n",
       "5      https://www.tripadvisor.com/Attraction_Review-...    5  hours    5   \n",
       "6      https://www.tripadvisor.com/Attraction_Review-...  8–9  hours    8   \n",
       "...                                                  ...  ...    ...  ...   \n",
       "16948  https://www.tripadvisor.com/Attraction_Review-...    6  hours    6   \n",
       "16949  https://www.tripadvisor.com/Attraction_Review-...    3  hours    3   \n",
       "16955  https://www.tripadvisor.com/Attraction_Review-...  1–2  hours    1   \n",
       "16956  https://www.tripadvisor.com/Attraction_Review-...    6  hours    6   \n",
       "16961  https://www.tripadvisor.com/Attraction_Review-...  3–4  hours    3   \n",
       "\n",
       "       maxD  \n",
       "1      None  \n",
       "2      None  \n",
       "4         9  \n",
       "5      None  \n",
       "6         9  \n",
       "...     ...  \n",
       "16948  None  \n",
       "16949  None  \n",
       "16955     2  \n",
       "16956  None  \n",
       "16961     4  \n",
       "\n",
       "[10526 rows x 15 columns]"
      ]
     },
     "execution_count": 365,
     "metadata": {},
     "output_type": "execute_result"
    }
   ],
   "source": [
    "# separate each the Time value in XX-XX this format to two column minD (minimum Duration) & maxD (maximum Duration)\n",
    "df_clean[['minD','maxD']] = df_clean.Time.str.split(\"–\",expand=True)\n",
    "df_clean"
   ]
  },
  {
   "cell_type": "markdown",
   "metadata": {},
   "source": [
    "*2.5.4 Convert data type to float*"
   ]
  },
  {
   "cell_type": "code",
   "execution_count": 366,
   "metadata": {},
   "outputs": [],
   "source": [
    "# convert the data type of minD & maxD to float\n",
    "df_clean['minD'] = pd.to_numeric(df_clean['minD'], downcast=\"float\")\n",
    "df_clean['maxD'] = pd.to_numeric(df_clean['maxD'], downcast=\"float\")"
   ]
  },
  {
   "cell_type": "markdown",
   "metadata": {},
   "source": [
    "*2.5.5 Calculate time average*"
   ]
  },
  {
   "cell_type": "code",
   "execution_count": 367,
   "metadata": {},
   "outputs": [],
   "source": [
    "# fill the null value in maxD with the same vale in minD for later on average\n",
    "df_clean['maxD'].fillna(df_clean['minD'], inplace=True)"
   ]
  },
  {
   "cell_type": "code",
   "execution_count": 368,
   "metadata": {},
   "outputs": [],
   "source": [
    "# calculating the average Time\n",
    "df_clean['AverageTime'] = (df_clean['minD'] + df_clean['maxD']) / 2"
   ]
  },
  {
   "cell_type": "code",
   "execution_count": 369,
   "metadata": {},
   "outputs": [],
   "source": [
    "# drop the Duration, Time, minD & maxD columns\n",
    "df_clean.drop(['Duration', 'Time', 'minD','maxD'], axis=1, inplace=True)"
   ]
  },
  {
   "cell_type": "markdown",
   "metadata": {},
   "source": [
    "*2.5.6 Convert time average to hours*"
   ]
  },
  {
   "cell_type": "code",
   "execution_count": 370,
   "metadata": {},
   "outputs": [],
   "source": [
    "# Convert days to hours\n",
    "df_clean.loc[df_clean['Unit']=='days', ['AverageTime']] *= 24\n",
    "df_clean.loc[df_clean['Unit']=='days', ['AverageTime']] *= 24\n",
    "\n",
    "# Convert minutes to hours\n",
    "df_clean.loc[df_clean['Unit']=='minutes', ['AverageTime']] /= 60\n",
    "df_clean.loc[df_clean['Unit']=='minute', ['AverageTime']] /= 60\n",
    "\n",
    "# make sure hour will be the same\n",
    "df_clean.loc[df_clean['Unit']=='hours', ['AverageTime']] *= 1\n",
    "df_clean.loc[df_clean['Unit']=='hour', ['AverageTime']] *= 1"
   ]
  },
  {
   "cell_type": "markdown",
   "metadata": {},
   "source": [
    "*2.5.7 Rename, drop and replace columns after convertaing to average time in hour*"
   ]
  },
  {
   "cell_type": "code",
   "execution_count": 371,
   "metadata": {},
   "outputs": [],
   "source": [
    "# Rename AverageTime column\n",
    "df_clean.rename(columns={'AverageTime':'Duration'}, inplace=True)"
   ]
  },
  {
   "cell_type": "code",
   "execution_count": 372,
   "metadata": {},
   "outputs": [],
   "source": [
    "# drop the Unit column\n",
    "df_clean.drop('Unit', axis=1, inplace=True)"
   ]
  },
  {
   "cell_type": "code",
   "execution_count": 373,
   "metadata": {},
   "outputs": [],
   "source": [
    "# Replace the image column\n",
    "df_clean = df_clean[['Tour', 'Type', 'Duration', 'Price', 'Price Per', 'Cancellation','Tour By', 'City', 'Country', 'Image', 'Link to agency']]"
   ]
  },
  {
   "cell_type": "code",
   "execution_count": 374,
   "metadata": {},
   "outputs": [],
   "source": [
    "# limit a float to two decimal places\n",
    "df_clean.Duration = round(df_clean.Duration, 2)"
   ]
  },
  {
   "cell_type": "code",
   "execution_count": 375,
   "metadata": {},
   "outputs": [
    {
     "data": {
      "text/plain": [
       "6.00     2593\n",
       "3.00     1290\n",
       "4.00      951\n",
       "2.00      834\n",
       "2.50      589\n",
       "         ... \n",
       "0.29        1\n",
       "18.50       1\n",
       "0.26        1\n",
       "0.15        1\n",
       "0.23        1\n",
       "Name: Duration, Length: 132, dtype: int64"
      ]
     },
     "execution_count": 375,
     "metadata": {},
     "output_type": "execute_result"
    }
   ],
   "source": [
    "# check the values\n",
    "df_clean.Duration.value_counts()"
   ]
  },
  {
   "cell_type": "code",
   "execution_count": 376,
   "metadata": {},
   "outputs": [
    {
     "name": "stdout",
     "output_type": "stream",
     "text": [
      "<class 'pandas.core.frame.DataFrame'>\n",
      "Int64Index: 10526 entries, 1 to 16961\n",
      "Data columns (total 11 columns):\n",
      " #   Column          Non-Null Count  Dtype  \n",
      "---  ------          --------------  -----  \n",
      " 0   Tour            10526 non-null  object \n",
      " 1   Type            10526 non-null  object \n",
      " 2   Duration        10526 non-null  float32\n",
      " 3   Price           10526 non-null  object \n",
      " 4   Price Per       10526 non-null  object \n",
      " 5   Cancellation    10526 non-null  object \n",
      " 6   Tour By         10526 non-null  object \n",
      " 7   City            10526 non-null  object \n",
      " 8   Country         10526 non-null  object \n",
      " 9   Image           10526 non-null  object \n",
      " 10  Link to agency  10526 non-null  object \n",
      "dtypes: float32(1), object(10)\n",
      "memory usage: 945.7+ KB\n"
     ]
    }
   ],
   "source": [
    "# check all the changes in the above section 2.5 Tour Duration column\n",
    "df_clean.info()"
   ]
  },
  {
   "cell_type": "code",
   "execution_count": 377,
   "metadata": {},
   "outputs": [
    {
     "data": {
      "image/png": "[encoded data removed]",
      "text/plain": [
       "<Figure size 1440x720 with 1 Axes>"
      ]
     },
     "metadata": {},
     "output_type": "display_data"
    }
   ],
   "source": [
    "# scatter chart for the tour duration\n",
    "x = df_clean['Duration'].value_counts().index\n",
    "y = df_clean['Duration'].value_counts()\n",
    "plt.style.use('seaborn-darkgrid')\n",
    "plt.figure(figsize=(20,10))\n",
    "plt.scatter(x, y, color='#458B74')\n",
    "plt.xticks( color ='#000000',fontsize=12)\n",
    "plt.yticks(color ='#000000',fontsize=12)\n",
    "plt.xlabel('Tour duration in hour',fontsize=20, color ='#000000')\n",
    "plt.ylabel(' Number of tour',fontsize=20, color ='#000000')\n",
    "plt.title('Tour Duration ',fontsize=22, color ='#000000')\n",
    "plt.show();"
   ]
  },
  {
   "cell_type": "markdown",
   "metadata": {},
   "source": [
    "*From the above plot, we can see the extrem value in the tour duration. With more than 100,000 hours*"
   ]
  },
  {
   "cell_type": "code",
   "execution_count": 378,
   "metadata": {},
   "outputs": [
    {
     "data": {
      "text/plain": [
       "105408.0"
      ]
     },
     "execution_count": 378,
     "metadata": {},
     "output_type": "execute_result"
    }
   ],
   "source": [
    "# finding the maximum value and drop it\n",
    "df_clean['Duration'].max()"
   ]
  },
  {
   "cell_type": "code",
   "execution_count": 379,
   "metadata": {},
   "outputs": [],
   "source": [
    "# drop the extrem value\n",
    "df_clean = df_clean[df_clean.Duration != 105408.0]"
   ]
  },
  {
   "cell_type": "code",
   "execution_count": 380,
   "metadata": {},
   "outputs": [
    {
     "data": {
      "text/plain": [
       "count    10525.000000\n",
       "mean       114.938957\n",
       "std        433.824341\n",
       "min          0.020000\n",
       "25%          2.500000\n",
       "50%          4.000000\n",
       "75%          6.000000\n",
       "max      12960.000000\n",
       "Name: Duration, dtype: float64"
      ]
     },
     "execution_count": 380,
     "metadata": {},
     "output_type": "execute_result"
    }
   ],
   "source": [
    "# Statistic summary of price column\n",
    "df_clean['Duration'].describe()"
   ]
  },
  {
   "cell_type": "markdown",
   "metadata": {},
   "source": [
    "*Most of the Tours take 4-6 hours in average. Some of the tours are really long because it extends for days*"
   ]
  },
  {
   "cell_type": "code",
   "execution_count": 381,
   "metadata": {},
   "outputs": [
    {
     "data": {
      "image/png": "[encoded data removed]",
      "text/plain": [
       "<Figure size 1440x720 with 1 Axes>"
      ]
     },
     "metadata": {},
     "output_type": "display_data"
    }
   ],
   "source": [
    "# scatter chart for the tour duration after droping the extrem\n",
    "x = df_clean['Duration'].value_counts().index\n",
    "y = df_clean['Duration'].value_counts()\n",
    "plt.style.use('seaborn-darkgrid')\n",
    "plt.figure(figsize=(20,10))\n",
    "plt.scatter(x, y, color='#458B74', s=100, alpha=0.7)\n",
    "plt.xlim(0, 20)\n",
    "plt.xticks( color ='#000000',fontsize=12)\n",
    "plt.yticks(color ='#000000',fontsize=12)\n",
    "plt.xlabel('Tour duration in hour',fontsize=20, color ='#000000')\n",
    "plt.ylabel(' Number of tour',fontsize=20, color ='#000000')\n",
    "plt.title('Tour Duration ',fontsize=22, color ='#000000')\n",
    "plt.show();"
   ]
  },
  {
   "cell_type": "markdown",
   "metadata": {},
   "source": [
    "*Most of the tours in this dataset are less than 5 hours long*"
   ]
  },
  {
   "cell_type": "markdown",
   "metadata": {},
   "source": [
    "*2.6 Tour Price column*"
   ]
  },
  {
   "cell_type": "code",
   "execution_count": 382,
   "metadata": {},
   "outputs": [
    {
     "name": "stderr",
     "output_type": "stream",
     "text": [
      "C:\\Users\\Fatemah\\AppData\\Local\\Temp/ipykernel_21876/440693180.py:2: FutureWarning: The default value of regex will change from True to False in a future version. In addition, single character regular expressions will *not* be treated as literal strings when regex=True.\n",
      "  df_clean['Price'] = df_clean['Price'].str.replace('$', '')\n"
     ]
    }
   ],
   "source": [
    "# removing the $ sign and , from ‘Price’ column using str.replace\n",
    "df_clean['Price'] = df_clean['Price'].str.replace('$', '')\n",
    "df_clean['Price'] = df_clean['Price'].str.replace(',', '')"
   ]
  },
  {
   "cell_type": "code",
   "execution_count": 383,
   "metadata": {},
   "outputs": [],
   "source": [
    "# convert the data type of Price to float\n",
    "df_clean['Price'] = pd.to_numeric(df_clean['Price'], downcast=\"float\")"
   ]
  },
  {
   "cell_type": "code",
   "execution_count": 384,
   "metadata": {},
   "outputs": [],
   "source": [
    "# limit a float to two decimal places\n",
    "df_clean.Price = round(df_clean.Price, 2)"
   ]
  },
  {
   "cell_type": "code",
   "execution_count": 385,
   "metadata": {},
   "outputs": [
    {
     "data": {
      "text/plain": [
       "dtype('float32')"
      ]
     },
     "execution_count": 385,
     "metadata": {},
     "output_type": "execute_result"
    }
   ],
   "source": [
    "# to check the above \n",
    "df_clean['Price'].dtype"
   ]
  },
  {
   "cell_type": "code",
   "execution_count": 386,
   "metadata": {},
   "outputs": [
    {
     "data": {
      "text/plain": [
       "count    10525.000000\n",
       "mean       189.205704\n",
       "std        360.772339\n",
       "min          3.350000\n",
       "25%         53.470001\n",
       "50%         98.519997\n",
       "75%        191.199997\n",
       "max      12570.700195\n",
       "Name: Price, dtype: float64"
      ]
     },
     "execution_count": 386,
     "metadata": {},
     "output_type": "execute_result"
    }
   ],
   "source": [
    "# Statistic summary of price column\n",
    "df_clean['Price'].describe()"
   ]
  },
  {
   "cell_type": "markdown",
   "metadata": {},
   "source": [
    "*The minimum tour price in this data is $3.35, whereas the maximum tour price is $12,570*"
   ]
  },
  {
   "cell_type": "code",
   "execution_count": 387,
   "metadata": {},
   "outputs": [
    {
     "name": "stderr",
     "output_type": "stream",
     "text": [
      "C:\\Users\\Fatemah\\AppData\\Local\\Packages\\PythonSoftwareFoundation.Python.3.9_qbz5n2kfra8p0\\LocalCache\\local-packages\\Python39\\site-packages\\seaborn\\distributions.py:2619: FutureWarning: `distplot` is a deprecated function and will be removed in a future version. Please adapt your code to use either `displot` (a figure-level function with similar flexibility) or `histplot` (an axes-level function for histograms).\n",
      "  warnings.warn(msg, FutureWarning)\n"
     ]
    },
    {
     "data": {
      "image/png": "[encoded data removed]",
      "text/plain": [
       "<Figure size 1440x720 with 1 Axes>"
      ]
     },
     "metadata": {},
     "output_type": "display_data"
    }
   ],
   "source": [
    "# distribution plot for the price\n",
    "plt.style.use('seaborn-darkgrid')\n",
    "sns.set(font_scale=1.5)\n",
    "plt.figure(figsize=(20,10))\n",
    "sns.distplot(df_clean['Price'],color= ('#458B74'))\n",
    "plt.title('The distribution of tour price',fontsize=22, color ='#000000');"
   ]
  },
  {
   "cell_type": "markdown",
   "metadata": {},
   "source": [
    "*2.7 Price Per adult/group*"
   ]
  },
  {
   "cell_type": "code",
   "execution_count": 388,
   "metadata": {},
   "outputs": [
    {
     "data": {
      "text/html": [
       "<div>\n",
       "<style scoped>\n",
       "    .dataframe tbody tr th:only-of-type {\n",
       "        vertical-align: middle;\n",
       "    }\n",
       "\n",
       "    .dataframe tbody tr th {\n",
       "        vertical-align: top;\n",
       "    }\n",
       "\n",
       "    .dataframe thead th {\n",
       "        text-align: right;\n",
       "    }\n",
       "</style>\n",
       "<table border=\"1\" class=\"dataframe\">\n",
       "  <thead>\n",
       "    <tr style=\"text-align: right;\">\n",
       "      <th></th>\n",
       "      <th>mean</th>\n",
       "    </tr>\n",
       "    <tr>\n",
       "      <th>Price Per</th>\n",
       "      <th></th>\n",
       "    </tr>\n",
       "  </thead>\n",
       "  <tbody>\n",
       "    <tr>\n",
       "      <th>per adult</th>\n",
       "      <td>165.806137</td>\n",
       "    </tr>\n",
       "    <tr>\n",
       "      <th>per group</th>\n",
       "      <td>475.593109</td>\n",
       "    </tr>\n",
       "  </tbody>\n",
       "</table>\n",
       "</div>"
      ],
      "text/plain": [
       "                 mean\n",
       "Price Per            \n",
       "per adult  165.806137\n",
       "per group  475.593109"
      ]
     },
     "execution_count": 388,
     "metadata": {},
     "output_type": "execute_result"
    }
   ],
   "source": [
    "# The average tour price based on per adult or per group\n",
    "df_clean.groupby(['Price Per']).Price.agg(['mean'])"
   ]
  },
  {
   "cell_type": "markdown",
   "metadata": {},
   "source": [
    "*Thte average price per group is much higher than per adult*"
   ]
  },
  {
   "cell_type": "code",
   "execution_count": 389,
   "metadata": {},
   "outputs": [
    {
     "data": {
      "image/png": "[encoded data removed]",
      "text/plain": [
       "<Figure size 1080x576 with 1 Axes>"
      ]
     },
     "metadata": {},
     "output_type": "display_data"
    }
   ],
   "source": [
    "# Scatter plot of the price per adult vs. price per group\n",
    "plt.style.use('seaborn-darkgrid')\n",
    "df_clean.plot(x='Price Per', y='Price', kind='scatter',figsize=(15,8), color='#458B74', s=100, alpha=0.5 , title='Price per Adult vs. Price per Group Based on Price');"
   ]
  },
  {
   "cell_type": "markdown",
   "metadata": {},
   "source": [
    "*2.8 Cancellation column*"
   ]
  },
  {
   "cell_type": "code",
   "execution_count": 390,
   "metadata": {},
   "outputs": [
    {
     "data": {
      "text/plain": [
       "Free cancellation      10524\n",
       "LIKELY TO SELL OUT*        1\n",
       "Name: Cancellation, dtype: int64"
      ]
     },
     "execution_count": 390,
     "metadata": {},
     "output_type": "execute_result"
    }
   ],
   "source": [
    "# check the column values \n",
    "df_clean['Cancellation'].value_counts()"
   ]
  },
  {
   "cell_type": "code",
   "execution_count": 391,
   "metadata": {},
   "outputs": [],
   "source": [
    "# remove the LIKELY TO SELL OUT* value\n",
    "df_clean = df_clean[df_clean.Cancellation != 'LIKELY TO SELL OUT*']"
   ]
  },
  {
   "cell_type": "markdown",
   "metadata": {},
   "source": [
    "*All of the Tours in this dataset are flexible booking and provide free cancellation.*"
   ]
  },
  {
   "cell_type": "markdown",
   "metadata": {},
   "source": [
    "*2.9 Tour By column*"
   ]
  },
  {
   "cell_type": "code",
   "execution_count": 392,
   "metadata": {},
   "outputs": [
    {
     "data": {
      "text/plain": [
       "3444"
      ]
     },
     "execution_count": 392,
     "metadata": {},
     "output_type": "execute_result"
    }
   ],
   "source": [
    "# number of unique value\n",
    "df_clean['Tour By'].nunique()"
   ]
  },
  {
   "cell_type": "markdown",
   "metadata": {},
   "source": [
    "*There are 3444 different agencies providing tours in this dataset*"
   ]
  },
  {
   "cell_type": "markdown",
   "metadata": {},
   "source": [
    "*2.10 City & Country columns*"
   ]
  },
  {
   "cell_type": "code",
   "execution_count": 393,
   "metadata": {},
   "outputs": [
    {
     "name": "stdout",
     "output_type": "stream",
     "text": [
      "Number of unoque value in City column: 38\n",
      "Number of unoque value in Country column: 28\n"
     ]
    }
   ],
   "source": [
    "# show number of unique values in each city & country column\n",
    "print('Number of unoque value in City column:',df_clean['City'].nunique())\n",
    "print('Number of unoque value in Country column:',df_clean['Country'].nunique())"
   ]
  },
  {
   "cell_type": "code",
   "execution_count": 394,
   "metadata": {},
   "outputs": [
    {
     "data": {
      "text/html": [
       "<div>\n",
       "<style scoped>\n",
       "    .dataframe tbody tr th:only-of-type {\n",
       "        vertical-align: middle;\n",
       "    }\n",
       "\n",
       "    .dataframe tbody tr th {\n",
       "        vertical-align: top;\n",
       "    }\n",
       "\n",
       "    .dataframe thead th {\n",
       "        text-align: right;\n",
       "    }\n",
       "</style>\n",
       "<table border=\"1\" class=\"dataframe\">\n",
       "  <thead>\n",
       "    <tr style=\"text-align: right;\">\n",
       "      <th></th>\n",
       "      <th>Tour</th>\n",
       "      <th>Type</th>\n",
       "      <th>Duration</th>\n",
       "      <th>Price</th>\n",
       "      <th>Price Per</th>\n",
       "      <th>Cancellation</th>\n",
       "      <th>Tour By</th>\n",
       "      <th>City</th>\n",
       "      <th>Country</th>\n",
       "      <th>Image</th>\n",
       "      <th>Link to agency</th>\n",
       "    </tr>\n",
       "  </thead>\n",
       "  <tbody>\n",
       "    <tr>\n",
       "      <th>0</th>\n",
       "      <td>Abu Dhabi Full-Day Sightseeing Tour from Dubai</td>\n",
       "      <td>Bus Tours</td>\n",
       "      <td>6.0</td>\n",
       "      <td>40.000000</td>\n",
       "      <td>per adult</td>\n",
       "      <td>Free cancellation</td>\n",
       "      <td>By RAH Tourism</td>\n",
       "      <td>Abu Dhabi</td>\n",
       "      <td>United Arab Emirates</td>\n",
       "      <td>https://dynamic-media-cdn.tripadvisor.com/medi...</td>\n",
       "      <td>https://www.tripadvisor.com/Attraction_Review-...</td>\n",
       "    </tr>\n",
       "    <tr>\n",
       "      <th>1</th>\n",
       "      <td>Evening Desert Safari With BBQ Dinner, Camel R...</td>\n",
       "      <td>Shore Excursions</td>\n",
       "      <td>6.0</td>\n",
       "      <td>83.000000</td>\n",
       "      <td>per adult</td>\n",
       "      <td>Free cancellation</td>\n",
       "      <td>By Emirates Tours and Safaris</td>\n",
       "      <td>Abu Dhabi</td>\n",
       "      <td>United Arab Emirates</td>\n",
       "      <td>https://dynamic-media-cdn.tripadvisor.com/medi...</td>\n",
       "      <td>https://www.tripadvisor.com/Attraction_Review-...</td>\n",
       "    </tr>\n",
       "    <tr>\n",
       "      <th>2</th>\n",
       "      <td>Dubai to Abu Dhabi Grand Mosque &amp; Qasr Al Wata...</td>\n",
       "      <td>Bus Tours</td>\n",
       "      <td>8.5</td>\n",
       "      <td>109.000000</td>\n",
       "      <td>per adult</td>\n",
       "      <td>Free cancellation</td>\n",
       "      <td>By OceanAir Travels</td>\n",
       "      <td>Abu Dhabi</td>\n",
       "      <td>United Arab Emirates</td>\n",
       "      <td>https://dynamic-media-cdn.tripadvisor.com/medi...</td>\n",
       "      <td>https://www.tripadvisor.com/Attraction_Review-...</td>\n",
       "    </tr>\n",
       "    <tr>\n",
       "      <th>3</th>\n",
       "      <td>Abu Dhabi Private City Tour</td>\n",
       "      <td>Bus Tours</td>\n",
       "      <td>5.0</td>\n",
       "      <td>200.000000</td>\n",
       "      <td>per group</td>\n",
       "      <td>Free cancellation</td>\n",
       "      <td>By RAH Tourism</td>\n",
       "      <td>Abu Dhabi</td>\n",
       "      <td>United Arab Emirates</td>\n",
       "      <td>https://dynamic-media-cdn.tripadvisor.com/medi...</td>\n",
       "      <td>https://www.tripadvisor.com/Attraction_Review-...</td>\n",
       "    </tr>\n",
       "    <tr>\n",
       "      <th>4</th>\n",
       "      <td>Abu Dhabi City Tour - Grand Mosque, Emirates P...</td>\n",
       "      <td>Bus Tours</td>\n",
       "      <td>8.5</td>\n",
       "      <td>75.000000</td>\n",
       "      <td>per adult</td>\n",
       "      <td>Free cancellation</td>\n",
       "      <td>By RAH Tourism</td>\n",
       "      <td>Abu Dhabi</td>\n",
       "      <td>United Arab Emirates</td>\n",
       "      <td>https://dynamic-media-cdn.tripadvisor.com/medi...</td>\n",
       "      <td>https://www.tripadvisor.com/Attraction_Review-...</td>\n",
       "    </tr>\n",
       "    <tr>\n",
       "      <th>...</th>\n",
       "      <td>...</td>\n",
       "      <td>...</td>\n",
       "      <td>...</td>\n",
       "      <td>...</td>\n",
       "      <td>...</td>\n",
       "      <td>...</td>\n",
       "      <td>...</td>\n",
       "      <td>...</td>\n",
       "      <td>...</td>\n",
       "      <td>...</td>\n",
       "      <td>...</td>\n",
       "    </tr>\n",
       "    <tr>\n",
       "      <th>10519</th>\n",
       "      <td>Vienna Sightseeing Day Trip from Prague</td>\n",
       "      <td>Bus Tours</td>\n",
       "      <td>6.0</td>\n",
       "      <td>146.139999</td>\n",
       "      <td>per adult</td>\n",
       "      <td>Free cancellation</td>\n",
       "      <td>By Gray Line Prague</td>\n",
       "      <td>Vienna</td>\n",
       "      <td>Austria</td>\n",
       "      <td>https://dynamic-media-cdn.tripadvisor.com/medi...</td>\n",
       "      <td>https://www.tripadvisor.com/Attraction_Review-...</td>\n",
       "    </tr>\n",
       "    <tr>\n",
       "      <th>10520</th>\n",
       "      <td>Crime Trail Vienna Alsergrund</td>\n",
       "      <td>Self-guided Tours &amp; Rentals</td>\n",
       "      <td>3.0</td>\n",
       "      <td>28.280001</td>\n",
       "      <td>per group</td>\n",
       "      <td>Free cancellation</td>\n",
       "      <td>By Krimi-Trail Wien Alsergrund</td>\n",
       "      <td>Vienna</td>\n",
       "      <td>Austria</td>\n",
       "      <td>https://dynamic-media-cdn.tripadvisor.com/medi...</td>\n",
       "      <td>https://www.tripadvisor.com/Attraction_Review-...</td>\n",
       "    </tr>\n",
       "    <tr>\n",
       "      <th>10521</th>\n",
       "      <td>Vienna: Schönbrunn Skip the Line Palace Tour a...</td>\n",
       "      <td>Walking Tours</td>\n",
       "      <td>1.5</td>\n",
       "      <td>92.660004</td>\n",
       "      <td>per adult</td>\n",
       "      <td>Free cancellation</td>\n",
       "      <td>By Rosotravel - Vienna Tours</td>\n",
       "      <td>Vienna</td>\n",
       "      <td>Austria</td>\n",
       "      <td>https://dynamic-media-cdn.tripadvisor.com/medi...</td>\n",
       "      <td>https://www.tripadvisor.com/Attraction_Review-...</td>\n",
       "    </tr>\n",
       "    <tr>\n",
       "      <th>10522</th>\n",
       "      <td>Salzburg Christmas Markets Day Trip from Vienna</td>\n",
       "      <td>Full-day Tours</td>\n",
       "      <td>6.0</td>\n",
       "      <td>191.199997</td>\n",
       "      <td>per adult</td>\n",
       "      <td>Free cancellation</td>\n",
       "      <td>By White Alligator Tours</td>\n",
       "      <td>Vienna</td>\n",
       "      <td>Austria</td>\n",
       "      <td>https://dynamic-media-cdn.tripadvisor.com/medi...</td>\n",
       "      <td>https://www.tripadvisor.com/Attraction_Review-...</td>\n",
       "    </tr>\n",
       "    <tr>\n",
       "      <th>10523</th>\n",
       "      <td>Half-Day Vienna City Tour with Entrance to Sch...</td>\n",
       "      <td>Bus Tours</td>\n",
       "      <td>3.5</td>\n",
       "      <td>55.439999</td>\n",
       "      <td>per adult</td>\n",
       "      <td>Free cancellation</td>\n",
       "      <td>By 7 Travel</td>\n",
       "      <td>Vienna</td>\n",
       "      <td>Austria</td>\n",
       "      <td>https://dynamic-media-cdn.tripadvisor.com/medi...</td>\n",
       "      <td>https://www.tripadvisor.com/Attraction_Review-...</td>\n",
       "    </tr>\n",
       "  </tbody>\n",
       "</table>\n",
       "<p>10524 rows × 11 columns</p>\n",
       "</div>"
      ],
      "text/plain": [
       "                                                    Tour  \\\n",
       "0         Abu Dhabi Full-Day Sightseeing Tour from Dubai   \n",
       "1      Evening Desert Safari With BBQ Dinner, Camel R...   \n",
       "2      Dubai to Abu Dhabi Grand Mosque & Qasr Al Wata...   \n",
       "3                            Abu Dhabi Private City Tour   \n",
       "4      Abu Dhabi City Tour - Grand Mosque, Emirates P...   \n",
       "...                                                  ...   \n",
       "10519            Vienna Sightseeing Day Trip from Prague   \n",
       "10520                      Crime Trail Vienna Alsergrund   \n",
       "10521  Vienna: Schönbrunn Skip the Line Palace Tour a...   \n",
       "10522    Salzburg Christmas Markets Day Trip from Vienna   \n",
       "10523  Half-Day Vienna City Tour with Entrance to Sch...   \n",
       "\n",
       "                              Type  Duration       Price  Price Per  \\\n",
       "0                        Bus Tours       6.0   40.000000  per adult   \n",
       "1                 Shore Excursions       6.0   83.000000  per adult   \n",
       "2                        Bus Tours       8.5  109.000000  per adult   \n",
       "3                        Bus Tours       5.0  200.000000  per group   \n",
       "4                        Bus Tours       8.5   75.000000  per adult   \n",
       "...                            ...       ...         ...        ...   \n",
       "10519                    Bus Tours       6.0  146.139999  per adult   \n",
       "10520  Self-guided Tours & Rentals       3.0   28.280001  per group   \n",
       "10521                Walking Tours       1.5   92.660004  per adult   \n",
       "10522               Full-day Tours       6.0  191.199997  per adult   \n",
       "10523                    Bus Tours       3.5   55.439999  per adult   \n",
       "\n",
       "            Cancellation                         Tour By       City  \\\n",
       "0      Free cancellation                  By RAH Tourism  Abu Dhabi   \n",
       "1      Free cancellation   By Emirates Tours and Safaris  Abu Dhabi   \n",
       "2      Free cancellation             By OceanAir Travels  Abu Dhabi   \n",
       "3      Free cancellation                  By RAH Tourism  Abu Dhabi   \n",
       "4      Free cancellation                  By RAH Tourism  Abu Dhabi   \n",
       "...                  ...                             ...        ...   \n",
       "10519  Free cancellation             By Gray Line Prague     Vienna   \n",
       "10520  Free cancellation  By Krimi-Trail Wien Alsergrund     Vienna   \n",
       "10521  Free cancellation    By Rosotravel - Vienna Tours     Vienna   \n",
       "10522  Free cancellation        By White Alligator Tours     Vienna   \n",
       "10523  Free cancellation                     By 7 Travel     Vienna   \n",
       "\n",
       "                    Country  \\\n",
       "0      United Arab Emirates   \n",
       "1      United Arab Emirates   \n",
       "2      United Arab Emirates   \n",
       "3      United Arab Emirates   \n",
       "4      United Arab Emirates   \n",
       "...                     ...   \n",
       "10519               Austria   \n",
       "10520               Austria   \n",
       "10521               Austria   \n",
       "10522               Austria   \n",
       "10523               Austria   \n",
       "\n",
       "                                                   Image  \\\n",
       "0      https://dynamic-media-cdn.tripadvisor.com/medi...   \n",
       "1      https://dynamic-media-cdn.tripadvisor.com/medi...   \n",
       "2      https://dynamic-media-cdn.tripadvisor.com/medi...   \n",
       "3      https://dynamic-media-cdn.tripadvisor.com/medi...   \n",
       "4      https://dynamic-media-cdn.tripadvisor.com/medi...   \n",
       "...                                                  ...   \n",
       "10519  https://dynamic-media-cdn.tripadvisor.com/medi...   \n",
       "10520  https://dynamic-media-cdn.tripadvisor.com/medi...   \n",
       "10521  https://dynamic-media-cdn.tripadvisor.com/medi...   \n",
       "10522  https://dynamic-media-cdn.tripadvisor.com/medi...   \n",
       "10523  https://dynamic-media-cdn.tripadvisor.com/medi...   \n",
       "\n",
       "                                          Link to agency  \n",
       "0      https://www.tripadvisor.com/Attraction_Review-...  \n",
       "1      https://www.tripadvisor.com/Attraction_Review-...  \n",
       "2      https://www.tripadvisor.com/Attraction_Review-...  \n",
       "3      https://www.tripadvisor.com/Attraction_Review-...  \n",
       "4      https://www.tripadvisor.com/Attraction_Review-...  \n",
       "...                                                  ...  \n",
       "10519  https://www.tripadvisor.com/Attraction_Review-...  \n",
       "10520  https://www.tripadvisor.com/Attraction_Review-...  \n",
       "10521  https://www.tripadvisor.com/Attraction_Review-...  \n",
       "10522  https://www.tripadvisor.com/Attraction_Review-...  \n",
       "10523  https://www.tripadvisor.com/Attraction_Review-...  \n",
       "\n",
       "[10524 rows x 11 columns]"
      ]
     },
     "execution_count": 394,
     "metadata": {},
     "output_type": "execute_result"
    }
   ],
   "source": [
    "# reset the index\n",
    "df_clean.reset_index(drop=True)"
   ]
  },
  {
   "cell_type": "code",
   "execution_count": 395,
   "metadata": {},
   "outputs": [
    {
     "name": "stdout",
     "output_type": "stream",
     "text": [
      "<class 'pandas.core.frame.DataFrame'>\n",
      "Int64Index: 10524 entries, 1 to 16961\n",
      "Data columns (total 11 columns):\n",
      " #   Column          Non-Null Count  Dtype  \n",
      "---  ------          --------------  -----  \n",
      " 0   Tour            10524 non-null  object \n",
      " 1   Type            10524 non-null  object \n",
      " 2   Duration        10524 non-null  float32\n",
      " 3   Price           10524 non-null  float32\n",
      " 4   Price Per       10524 non-null  object \n",
      " 5   Cancellation    10524 non-null  object \n",
      " 6   Tour By         10524 non-null  object \n",
      " 7   City            10524 non-null  object \n",
      " 8   Country         10524 non-null  object \n",
      " 9   Image           10524 non-null  object \n",
      " 10  Link to agency  10524 non-null  object \n",
      "dtypes: float32(2), object(9)\n",
      "memory usage: 904.4+ KB\n"
     ]
    }
   ],
   "source": [
    "# to check the last changes\n",
    "df_clean.info()"
   ]
  },
  {
   "cell_type": "code",
   "execution_count": 396,
   "metadata": {},
   "outputs": [],
   "source": [
    "# Store the clean dataset\n",
    "df_clean.to_csv('clean_df.csv')"
   ]
  }
 ],
 "metadata": {
  "interpreter": {
   "hash": "2921360646c6f5c3a0729850114a5b22e8fb4acfaad82aa3253023e7dda6a667"
  },
  "kernelspec": {
   "display_name": "Python 3.9.10 64-bit (windows store)",
   "language": "python",
   "name": "python3"
  },
  "language_info": {
   "codemirror_mode": {
    "name": "ipython",
    "version": 3
   },
   "file_extension": ".py",
   "mimetype": "text/x-python",
   "name": "python",
   "nbconvert_exporter": "python",
   "pygments_lexer": "ipython3",
   "version": "3.9.10"
  },
  "orig_nbformat": 4
 },
 "nbformat": 4,
 "nbformat_minor": 2
}

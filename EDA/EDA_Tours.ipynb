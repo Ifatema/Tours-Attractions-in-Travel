{
 "cells": [
  {
   "cell_type": "code",
   "execution_count": 2,
   "metadata": {},
   "outputs": [],
   "source": [
    "# importing libraries\n",
    "import pandas as pd\n",
    "import numpy as np\n",
    "import matplotlib.pyplot as plt\n",
    "import seaborn as sns"
   ]
  },
  {
   "cell_type": "code",
   "execution_count": 3,
   "metadata": {},
   "outputs": [],
   "source": [
    "# reading tour dataframes\n",
    "df = pd.read_csv(r'..\\Tour data\\all_Tours.csv')"
   ]
  },
  {
   "cell_type": "code",
   "execution_count": 4,
   "metadata": {},
   "outputs": [
    {
     "data": {
      "text/html": [
       "<div>\n",
       "<style scoped>\n",
       "    .dataframe tbody tr th:only-of-type {\n",
       "        vertical-align: middle;\n",
       "    }\n",
       "\n",
       "    .dataframe tbody tr th {\n",
       "        vertical-align: top;\n",
       "    }\n",
       "\n",
       "    .dataframe thead th {\n",
       "        text-align: right;\n",
       "    }\n",
       "</style>\n",
       "<table border=\"1\" class=\"dataframe\">\n",
       "  <thead>\n",
       "    <tr style=\"text-align: right;\">\n",
       "      <th></th>\n",
       "      <th>Unnamed: 0</th>\n",
       "      <th>Image</th>\n",
       "      <th>Tour Name</th>\n",
       "      <th>Tour Type</th>\n",
       "      <th>Tour Duration</th>\n",
       "      <th>Tour Price</th>\n",
       "      <th>Price Per</th>\n",
       "      <th>Cancellation</th>\n",
       "      <th>Tour By</th>\n",
       "      <th>City</th>\n",
       "      <th>Country</th>\n",
       "      <th>Link</th>\n",
       "    </tr>\n",
       "  </thead>\n",
       "  <tbody>\n",
       "    <tr>\n",
       "      <th>0</th>\n",
       "      <td>0</td>\n",
       "      <td>NaN</td>\n",
       "      <td>NaN</td>\n",
       "      <td>NaN</td>\n",
       "      <td>NaN</td>\n",
       "      <td>NaN</td>\n",
       "      <td>NaN</td>\n",
       "      <td>NaN</td>\n",
       "      <td>Clear all filters</td>\n",
       "      <td>Abu Dhabi</td>\n",
       "      <td>United Arab Emirates</td>\n",
       "      <td>NaN</td>\n",
       "    </tr>\n",
       "    <tr>\n",
       "      <th>1</th>\n",
       "      <td>1</td>\n",
       "      <td>https://dynamic-media-cdn.tripadvisor.com/medi...</td>\n",
       "      <td>Abu Dhabi Full-Day Sightseeing Tour from Dubai</td>\n",
       "      <td>Bus Tours</td>\n",
       "      <td>6+ hours</td>\n",
       "      <td>$40.00</td>\n",
       "      <td>per adult</td>\n",
       "      <td>Free cancellation</td>\n",
       "      <td>By RAH Tourism</td>\n",
       "      <td>Abu Dhabi</td>\n",
       "      <td>United Arab Emirates</td>\n",
       "      <td>https://www.tripadvisor.com/Attraction_Review-...</td>\n",
       "    </tr>\n",
       "    <tr>\n",
       "      <th>2</th>\n",
       "      <td>2</td>\n",
       "      <td>https://dynamic-media-cdn.tripadvisor.com/medi...</td>\n",
       "      <td>Evening Desert Safari With BBQ Dinner, Camel R...</td>\n",
       "      <td>Shore Excursions</td>\n",
       "      <td>6 hours</td>\n",
       "      <td>$83.00</td>\n",
       "      <td>per adult</td>\n",
       "      <td>Free cancellation</td>\n",
       "      <td>By Emirates Tours and Safaris</td>\n",
       "      <td>Abu Dhabi</td>\n",
       "      <td>United Arab Emirates</td>\n",
       "      <td>https://www.tripadvisor.com/Attraction_Review-...</td>\n",
       "    </tr>\n",
       "    <tr>\n",
       "      <th>3</th>\n",
       "      <td>3</td>\n",
       "      <td>NaN</td>\n",
       "      <td>NaN</td>\n",
       "      <td>Cold feet?</td>\n",
       "      <td>NaN</td>\n",
       "      <td>NaN</td>\n",
       "      <td>NaN</td>\n",
       "      <td>NaN</td>\n",
       "      <td>NaN</td>\n",
       "      <td>Abu Dhabi</td>\n",
       "      <td>United Arab Emirates</td>\n",
       "      <td>NaN</td>\n",
       "    </tr>\n",
       "    <tr>\n",
       "      <th>4</th>\n",
       "      <td>4</td>\n",
       "      <td>https://dynamic-media-cdn.tripadvisor.com/medi...</td>\n",
       "      <td>Dubai to Abu Dhabi Grand Mosque &amp; Qasr Al Wata...</td>\n",
       "      <td>Bus Tours</td>\n",
       "      <td>8–9 hours</td>\n",
       "      <td>$109.00</td>\n",
       "      <td>per adult</td>\n",
       "      <td>Free cancellation</td>\n",
       "      <td>By OceanAir Travels</td>\n",
       "      <td>Abu Dhabi</td>\n",
       "      <td>United Arab Emirates</td>\n",
       "      <td>https://www.tripadvisor.com/Attraction_Review-...</td>\n",
       "    </tr>\n",
       "  </tbody>\n",
       "</table>\n",
       "</div>"
      ],
      "text/plain": [
       "   Unnamed: 0                                              Image  \\\n",
       "0           0                                                NaN   \n",
       "1           1  https://dynamic-media-cdn.tripadvisor.com/medi...   \n",
       "2           2  https://dynamic-media-cdn.tripadvisor.com/medi...   \n",
       "3           3                                                NaN   \n",
       "4           4  https://dynamic-media-cdn.tripadvisor.com/medi...   \n",
       "\n",
       "                                           Tour Name         Tour Type  \\\n",
       "0                                                NaN               NaN   \n",
       "1     Abu Dhabi Full-Day Sightseeing Tour from Dubai         Bus Tours   \n",
       "2  Evening Desert Safari With BBQ Dinner, Camel R...  Shore Excursions   \n",
       "3                                                NaN        Cold feet?   \n",
       "4  Dubai to Abu Dhabi Grand Mosque & Qasr Al Wata...         Bus Tours   \n",
       "\n",
       "  Tour Duration Tour Price  Price Per       Cancellation  \\\n",
       "0           NaN        NaN        NaN                NaN   \n",
       "1      6+ hours     $40.00  per adult  Free cancellation   \n",
       "2       6 hours     $83.00  per adult  Free cancellation   \n",
       "3           NaN        NaN        NaN                NaN   \n",
       "4     8–9 hours    $109.00  per adult  Free cancellation   \n",
       "\n",
       "                         Tour By       City               Country  \\\n",
       "0              Clear all filters  Abu Dhabi  United Arab Emirates   \n",
       "1                 By RAH Tourism  Abu Dhabi  United Arab Emirates   \n",
       "2  By Emirates Tours and Safaris  Abu Dhabi  United Arab Emirates   \n",
       "3                            NaN  Abu Dhabi  United Arab Emirates   \n",
       "4            By OceanAir Travels  Abu Dhabi  United Arab Emirates   \n",
       "\n",
       "                                                Link  \n",
       "0                                                NaN  \n",
       "1  https://www.tripadvisor.com/Attraction_Review-...  \n",
       "2  https://www.tripadvisor.com/Attraction_Review-...  \n",
       "3                                                NaN  \n",
       "4  https://www.tripadvisor.com/Attraction_Review-...  "
      ]
     },
     "execution_count": 4,
     "metadata": {},
     "output_type": "execute_result"
    }
   ],
   "source": [
    "# showing the first 5 rows\n",
    "df.head()"
   ]
  },
  {
   "cell_type": "code",
   "execution_count": 5,
   "metadata": {},
   "outputs": [
    {
     "name": "stdout",
     "output_type": "stream",
     "text": [
      "<class 'pandas.core.frame.DataFrame'>\n",
      "RangeIndex: 17575 entries, 0 to 17574\n",
      "Data columns (total 12 columns):\n",
      " #   Column         Non-Null Count  Dtype \n",
      "---  ------         --------------  ----- \n",
      " 0   Unnamed: 0     17575 non-null  int64 \n",
      " 1   Image          16335 non-null  object\n",
      " 2   Tour Name      16373 non-null  object\n",
      " 3   Tour Type      14512 non-null  object\n",
      " 4   Tour Duration  16915 non-null  object\n",
      " 5   Tour Price     16413 non-null  object\n",
      " 6   Price Per      16373 non-null  object\n",
      " 7   Cancellation   13959 non-null  object\n",
      " 8   Tour By        16729 non-null  object\n",
      " 9   City           17575 non-null  object\n",
      " 10  Country        17575 non-null  object\n",
      " 11  Link           16195 non-null  object\n",
      "dtypes: int64(1), object(11)\n",
      "memory usage: 1.6+ MB\n"
     ]
    }
   ],
   "source": [
    "# information about the dataframe\n",
    "df.info()"
   ]
  },
  {
   "cell_type": "markdown",
   "metadata": {},
   "source": [
    "**Issues**\n",
    "\n",
    "- Remove Unnamed: 0 column\n",
    "- Drop the null values\n",
    "- Remove $ from Tour Price and convert it to float\n",
    "- Replace Image column before the link\n",
    "- Rename the Link column (Agency Link)\n",
    "- Tour Duration convert different unit into one unit (in hour) deal with the different format of the time value."
   ]
  },
  {
   "cell_type": "code",
   "execution_count": 6,
   "metadata": {},
   "outputs": [],
   "source": [
    "# making copy for cleaning\n",
    "df_clean = df.copy()"
   ]
  },
  {
   "cell_type": "markdown",
   "metadata": {},
   "source": [
    "## Cleaning "
   ]
  },
  {
   "cell_type": "markdown",
   "metadata": {},
   "source": [
    "*1. General cleaning* <br>\n",
    "*1.1 Drop the null values*"
   ]
  },
  {
   "cell_type": "code",
   "execution_count": 7,
   "metadata": {},
   "outputs": [],
   "source": [
    "# drop the null value\n",
    "df_clean = df_clean.dropna()"
   ]
  },
  {
   "cell_type": "markdown",
   "metadata": {},
   "source": [
    "*1.2 Rename Tour Name, Tour Type, Tour Duration, Tour Price & Link columns*"
   ]
  },
  {
   "cell_type": "code",
   "execution_count": 8,
   "metadata": {},
   "outputs": [],
   "source": [
    "# renaming the columns\n",
    "df_clean.rename(columns={'Tour Name':'Tour', 'Tour Type':'Type', 'Tour Duration':'Duration', 'Tour Price':'Price', 'Link':'Link to agency'}, inplace=True)"
   ]
  },
  {
   "cell_type": "code",
   "execution_count": 9,
   "metadata": {},
   "outputs": [
    {
     "name": "stdout",
     "output_type": "stream",
     "text": [
      "<class 'pandas.core.frame.DataFrame'>\n",
      "Int64Index: 11368 entries, 1 to 17573\n",
      "Data columns (total 12 columns):\n",
      " #   Column          Non-Null Count  Dtype \n",
      "---  ------          --------------  ----- \n",
      " 0   Unnamed: 0      11368 non-null  int64 \n",
      " 1   Image           11368 non-null  object\n",
      " 2   Tour            11368 non-null  object\n",
      " 3   Type            11368 non-null  object\n",
      " 4   Duration        11368 non-null  object\n",
      " 5   Price           11368 non-null  object\n",
      " 6   Price Per       11368 non-null  object\n",
      " 7   Cancellation    11368 non-null  object\n",
      " 8   Tour By         11368 non-null  object\n",
      " 9   City            11368 non-null  object\n",
      " 10  Country         11368 non-null  object\n",
      " 11  Link to agency  11368 non-null  object\n",
      "dtypes: int64(1), object(11)\n",
      "memory usage: 1.1+ MB\n"
     ]
    }
   ],
   "source": [
    "# check the above\n",
    "df_clean.info()"
   ]
  },
  {
   "cell_type": "markdown",
   "metadata": {},
   "source": [
    "*2. Specific column cleaning*\n",
    "<br>\n",
    "*2.1 Remove unnecessary column*"
   ]
  },
  {
   "cell_type": "code",
   "execution_count": 10,
   "metadata": {},
   "outputs": [],
   "source": [
    "# drop the Unnamed: 0 column\n",
    "df_clean.drop('Unnamed: 0', axis=1, inplace=True)"
   ]
  },
  {
   "cell_type": "markdown",
   "metadata": {},
   "source": [
    "*2.2 Image column*"
   ]
  },
  {
   "cell_type": "code",
   "execution_count": 11,
   "metadata": {},
   "outputs": [],
   "source": [
    "# Replace the image column\n",
    "df_clean = df_clean[['Tour', 'Type', 'Duration', 'Price', 'Price Per', 'Cancellation','Tour By', 'City', 'Country', 'Image', 'Link to agency']]"
   ]
  },
  {
   "cell_type": "markdown",
   "metadata": {},
   "source": [
    "*2.3 Tour Name column*"
   ]
  },
  {
   "cell_type": "code",
   "execution_count": 12,
   "metadata": {},
   "outputs": [
    {
     "data": {
      "text/plain": [
       "10891"
      ]
     },
     "execution_count": 12,
     "metadata": {},
     "output_type": "execute_result"
    }
   ],
   "source": [
    "# check the number of unique values in Tour name\n",
    "df_clean['Tour'].nunique()"
   ]
  },
  {
   "cell_type": "markdown",
   "metadata": {},
   "source": [
    "*Since the number of unique value in the Tour column is not the same number of entries in the dataset. This mean there are so many duplicates in the name. Whereas, the Tour column should be all unique.*"
   ]
  },
  {
   "cell_type": "code",
   "execution_count": 13,
   "metadata": {},
   "outputs": [
    {
     "data": {
      "text/plain": [
       "Abu Dhabi City Tour From Dubai                                                    12\n",
       "4 in 1 package sale (Dubai City tour-Safari-dinner cruise-Abu Dhabi City tour)     6\n",
       "Private Abu Dhabi City Tour                                                        5\n",
       "Essaouira Day Trip from Marrakech                                                  4\n",
       "Abu Dhabi City Tour                                                                4\n",
       "                                                                                  ..\n",
       "Visit Kensington Palace & 3 Hour Westminster Walking Tour                          1\n",
       "Winston Churchill's London and The Churchill War Rooms - A Private Tour.           1\n",
       "High-Speed Boat Trip through London                                                1\n",
       "Shakespeare's Stratford-upon-Avon and Cotswolds Tour from London                   1\n",
       "Desert Safari with BBQ Dinner in Dubai Desert                                      1\n",
       "Name: Tour, Length: 10891, dtype: int64"
      ]
     },
     "execution_count": 13,
     "metadata": {},
     "output_type": "execute_result"
    }
   ],
   "source": [
    "# check the value counts in Tour name\n",
    "df_clean['Tour'].value_counts()"
   ]
  },
  {
   "cell_type": "code",
   "execution_count": 14,
   "metadata": {},
   "outputs": [],
   "source": [
    "# drop the duplicates in Tour column\n",
    "df_clean.drop_duplicates(subset=['Tour'],inplace=True)"
   ]
  },
  {
   "cell_type": "code",
   "execution_count": 15,
   "metadata": {},
   "outputs": [
    {
     "name": "stdout",
     "output_type": "stream",
     "text": [
      "<class 'pandas.core.frame.DataFrame'>\n",
      "Int64Index: 10891 entries, 1 to 17573\n",
      "Data columns (total 11 columns):\n",
      " #   Column          Non-Null Count  Dtype \n",
      "---  ------          --------------  ----- \n",
      " 0   Tour            10891 non-null  object\n",
      " 1   Type            10891 non-null  object\n",
      " 2   Duration        10891 non-null  object\n",
      " 3   Price           10891 non-null  object\n",
      " 4   Price Per       10891 non-null  object\n",
      " 5   Cancellation    10891 non-null  object\n",
      " 6   Tour By         10891 non-null  object\n",
      " 7   City            10891 non-null  object\n",
      " 8   Country         10891 non-null  object\n",
      " 9   Image           10891 non-null  object\n",
      " 10  Link to agency  10891 non-null  object\n",
      "dtypes: object(11)\n",
      "memory usage: 1021.0+ KB\n"
     ]
    }
   ],
   "source": [
    "# to check the above\n",
    "df_clean.info()"
   ]
  },
  {
   "cell_type": "markdown",
   "metadata": {},
   "source": [
    "*2.4 Tour Type column*"
   ]
  },
  {
   "cell_type": "code",
   "execution_count": 16,
   "metadata": {},
   "outputs": [
    {
     "data": {
      "text/plain": [
       "129"
      ]
     },
     "execution_count": 16,
     "metadata": {},
     "output_type": "execute_result"
    }
   ],
   "source": [
    "# check the number of unique values in Tour Type\n",
    "df_clean['Type'].nunique()"
   ]
  },
  {
   "cell_type": "code",
   "execution_count": 17,
   "metadata": {},
   "outputs": [
    {
     "data": {
      "image/png": "[encoded data removed]",
      "text/plain": [
       "<Figure size 1440x720 with 1 Axes>"
      ]
     },
     "metadata": {},
     "output_type": "display_data"
    }
   ],
   "source": [
    "# Bar chart for the top 10 Type\n",
    "x = df_clean['Type'].value_counts().head(10).index\n",
    "y = df_clean['Type'].value_counts().head(10)\n",
    "\n",
    "plt.style.use('seaborn-darkgrid')\n",
    "plt.figure(figsize=(20,10))\n",
    "plt.xticks( color ='#000000',fontsize=12, rotation = 15)\n",
    "plt.yticks(color ='#000000',fontsize=12)\n",
    "plt.bar(x, y, color= ('#458B74'), width=0.6)\n",
    "plt.xlabel('Tour Type',fontsize=20, color ='#000000')\n",
    "plt.ylabel('Number of tour',fontsize=20, color ='#000000')\n",
    "plt.title('The top 10 Tour Types',fontsize=22, color ='#000000')\n",
    "plt.show();"
   ]
  },
  {
   "cell_type": "markdown",
   "metadata": {},
   "source": [
    "*Bus Tours is the top type of tour in thid dataset, with more than 3500 Tours. Followwed by the walking Tours*"
   ]
  },
  {
   "cell_type": "markdown",
   "metadata": {},
   "source": [
    "*2.5 Tour Duration column*"
   ]
  },
  {
   "cell_type": "code",
   "execution_count": 18,
   "metadata": {},
   "outputs": [
    {
     "data": {
      "text/plain": [
       "244"
      ]
     },
     "execution_count": 18,
     "metadata": {},
     "output_type": "execute_result"
    }
   ],
   "source": [
    "# check the number of unique values in Tour Duration\n",
    "df_clean['Duration'].nunique()"
   ]
  },
  {
   "cell_type": "code",
   "execution_count": 19,
   "metadata": {},
   "outputs": [
    {
     "data": {
      "text/plain": [
       "6+ hours           2310\n",
       "3 hours            1258\n",
       "4 hours             943\n",
       "2 hours             821\n",
       "2–3 hours           579\n",
       "                   ... \n",
       "45–100 minutes        1\n",
       "75–90 minutes         1\n",
       "1–16 hours            1\n",
       "700–750 minutes       1\n",
       "30–55 minutes         1\n",
       "Name: Duration, Length: 244, dtype: int64"
      ]
     },
     "execution_count": 19,
     "metadata": {},
     "output_type": "execute_result"
    }
   ],
   "source": [
    "# check the value count in Tour Duration\n",
    "df_clean['Duration'].value_counts()"
   ]
  },
  {
   "cell_type": "markdown",
   "metadata": {},
   "source": [
    "*The values in this column are in different units: days, hours and minutes.*\n",
    "*So, let separate the units first and then convert them all inot one unit (in hour).*\n",
    "*The values with range I will calculate the average of them. As what I saw back in the tripadvisor.com.*"
   ]
  },
  {
   "cell_type": "markdown",
   "metadata": {},
   "source": [
    "*2.5.1 Separate the time value and the duration unit in two columns*"
   ]
  },
  {
   "cell_type": "code",
   "execution_count": 20,
   "metadata": {},
   "outputs": [
    {
     "data": {
      "text/html": [
       "<div>\n",
       "<style scoped>\n",
       "    .dataframe tbody tr th:only-of-type {\n",
       "        vertical-align: middle;\n",
       "    }\n",
       "\n",
       "    .dataframe tbody tr th {\n",
       "        vertical-align: top;\n",
       "    }\n",
       "\n",
       "    .dataframe thead th {\n",
       "        text-align: right;\n",
       "    }\n",
       "</style>\n",
       "<table border=\"1\" class=\"dataframe\">\n",
       "  <thead>\n",
       "    <tr style=\"text-align: right;\">\n",
       "      <th></th>\n",
       "      <th>Tour</th>\n",
       "      <th>Type</th>\n",
       "      <th>Duration</th>\n",
       "      <th>Price</th>\n",
       "      <th>Price Per</th>\n",
       "      <th>Cancellation</th>\n",
       "      <th>Tour By</th>\n",
       "      <th>City</th>\n",
       "      <th>Country</th>\n",
       "      <th>Image</th>\n",
       "      <th>Link to agency</th>\n",
       "      <th>Time</th>\n",
       "      <th>Unit</th>\n",
       "    </tr>\n",
       "  </thead>\n",
       "  <tbody>\n",
       "    <tr>\n",
       "      <th>1</th>\n",
       "      <td>Abu Dhabi Full-Day Sightseeing Tour from Dubai</td>\n",
       "      <td>Bus Tours</td>\n",
       "      <td>6+ hours</td>\n",
       "      <td>$40.00</td>\n",
       "      <td>per adult</td>\n",
       "      <td>Free cancellation</td>\n",
       "      <td>By RAH Tourism</td>\n",
       "      <td>Abu Dhabi</td>\n",
       "      <td>United Arab Emirates</td>\n",
       "      <td>https://dynamic-media-cdn.tripadvisor.com/medi...</td>\n",
       "      <td>https://www.tripadvisor.com/Attraction_Review-...</td>\n",
       "      <td>6+</td>\n",
       "      <td>hours</td>\n",
       "    </tr>\n",
       "    <tr>\n",
       "      <th>2</th>\n",
       "      <td>Evening Desert Safari With BBQ Dinner, Camel R...</td>\n",
       "      <td>Shore Excursions</td>\n",
       "      <td>6 hours</td>\n",
       "      <td>$83.00</td>\n",
       "      <td>per adult</td>\n",
       "      <td>Free cancellation</td>\n",
       "      <td>By Emirates Tours and Safaris</td>\n",
       "      <td>Abu Dhabi</td>\n",
       "      <td>United Arab Emirates</td>\n",
       "      <td>https://dynamic-media-cdn.tripadvisor.com/medi...</td>\n",
       "      <td>https://www.tripadvisor.com/Attraction_Review-...</td>\n",
       "      <td>6</td>\n",
       "      <td>hours</td>\n",
       "    </tr>\n",
       "    <tr>\n",
       "      <th>4</th>\n",
       "      <td>Dubai to Abu Dhabi Grand Mosque &amp; Qasr Al Wata...</td>\n",
       "      <td>Bus Tours</td>\n",
       "      <td>8–9 hours</td>\n",
       "      <td>$109.00</td>\n",
       "      <td>per adult</td>\n",
       "      <td>Free cancellation</td>\n",
       "      <td>By OceanAir Travels</td>\n",
       "      <td>Abu Dhabi</td>\n",
       "      <td>United Arab Emirates</td>\n",
       "      <td>https://dynamic-media-cdn.tripadvisor.com/medi...</td>\n",
       "      <td>https://www.tripadvisor.com/Attraction_Review-...</td>\n",
       "      <td>8–9</td>\n",
       "      <td>hours</td>\n",
       "    </tr>\n",
       "    <tr>\n",
       "      <th>5</th>\n",
       "      <td>Abu Dhabi Private City Tour</td>\n",
       "      <td>Bus Tours</td>\n",
       "      <td>5 hours</td>\n",
       "      <td>$200.00</td>\n",
       "      <td>per group</td>\n",
       "      <td>Free cancellation</td>\n",
       "      <td>By RAH Tourism</td>\n",
       "      <td>Abu Dhabi</td>\n",
       "      <td>United Arab Emirates</td>\n",
       "      <td>https://dynamic-media-cdn.tripadvisor.com/medi...</td>\n",
       "      <td>https://www.tripadvisor.com/Attraction_Review-...</td>\n",
       "      <td>5</td>\n",
       "      <td>hours</td>\n",
       "    </tr>\n",
       "    <tr>\n",
       "      <th>6</th>\n",
       "      <td>Abu Dhabi City Tour - Grand Mosque, Emirates P...</td>\n",
       "      <td>Bus Tours</td>\n",
       "      <td>8–9 hours</td>\n",
       "      <td>$75.00</td>\n",
       "      <td>per adult</td>\n",
       "      <td>Free cancellation</td>\n",
       "      <td>By RAH Tourism</td>\n",
       "      <td>Abu Dhabi</td>\n",
       "      <td>United Arab Emirates</td>\n",
       "      <td>https://dynamic-media-cdn.tripadvisor.com/medi...</td>\n",
       "      <td>https://www.tripadvisor.com/Attraction_Review-...</td>\n",
       "      <td>8–9</td>\n",
       "      <td>hours</td>\n",
       "    </tr>\n",
       "    <tr>\n",
       "      <th>...</th>\n",
       "      <td>...</td>\n",
       "      <td>...</td>\n",
       "      <td>...</td>\n",
       "      <td>...</td>\n",
       "      <td>...</td>\n",
       "      <td>...</td>\n",
       "      <td>...</td>\n",
       "      <td>...</td>\n",
       "      <td>...</td>\n",
       "      <td>...</td>\n",
       "      <td>...</td>\n",
       "      <td>...</td>\n",
       "      <td>...</td>\n",
       "    </tr>\n",
       "    <tr>\n",
       "      <th>17568</th>\n",
       "      <td>Extreme Adventure Tour</td>\n",
       "      <td>Adventure Tours</td>\n",
       "      <td>5 hours</td>\n",
       "      <td>$59.71</td>\n",
       "      <td>per adult</td>\n",
       "      <td>Free cancellation</td>\n",
       "      <td>By Planet Tours &amp; Safaris</td>\n",
       "      <td>Dubai</td>\n",
       "      <td>United Arab Emirates</td>\n",
       "      <td>https://dynamic-media-cdn.tripadvisor.com/medi...</td>\n",
       "      <td>https://www.tripadvisor.com/Attraction_Review-...</td>\n",
       "      <td>5</td>\n",
       "      <td>hours</td>\n",
       "    </tr>\n",
       "    <tr>\n",
       "      <th>17570</th>\n",
       "      <td>Speed Boat Tour : 60 Mins, 75 Mins 90 Mins BLA...</td>\n",
       "      <td>Speed Boats</td>\n",
       "      <td>1–2 hours</td>\n",
       "      <td>$45.00</td>\n",
       "      <td>per adult</td>\n",
       "      <td>Free cancellation</td>\n",
       "      <td>By Top 10 Dubai Tours</td>\n",
       "      <td>Dubai</td>\n",
       "      <td>United Arab Emirates</td>\n",
       "      <td>https://dynamic-media-cdn.tripadvisor.com/medi...</td>\n",
       "      <td>https://www.tripadvisor.com/Attraction_Review-...</td>\n",
       "      <td>1–2</td>\n",
       "      <td>hours</td>\n",
       "    </tr>\n",
       "    <tr>\n",
       "      <th>17571</th>\n",
       "      <td>Premium 1 Hr Quad Biking with Refreshments , C...</td>\n",
       "      <td>Adventure Tours</td>\n",
       "      <td>4 hours</td>\n",
       "      <td>$65.13</td>\n",
       "      <td>per adult</td>\n",
       "      <td>Free cancellation</td>\n",
       "      <td>By Trawey Tours</td>\n",
       "      <td>Dubai</td>\n",
       "      <td>United Arab Emirates</td>\n",
       "      <td>https://dynamic-media-cdn.tripadvisor.com/medi...</td>\n",
       "      <td>https://www.tripadvisor.com/Attraction_Review-...</td>\n",
       "      <td>4</td>\n",
       "      <td>hours</td>\n",
       "    </tr>\n",
       "    <tr>\n",
       "      <th>17572</th>\n",
       "      <td>Evening Safari with Quad Bike, Camel Riding, B...</td>\n",
       "      <td>Adventure Tours</td>\n",
       "      <td>6 hours</td>\n",
       "      <td>$140.00</td>\n",
       "      <td>per adult</td>\n",
       "      <td>Free cancellation</td>\n",
       "      <td>By Arabian Tour Packages</td>\n",
       "      <td>Dubai</td>\n",
       "      <td>United Arab Emirates</td>\n",
       "      <td>https://dynamic-media-cdn.tripadvisor.com/medi...</td>\n",
       "      <td>https://www.tripadvisor.com/Attraction_Review-...</td>\n",
       "      <td>6</td>\n",
       "      <td>hours</td>\n",
       "    </tr>\n",
       "    <tr>\n",
       "      <th>17573</th>\n",
       "      <td>Desert Safari with BBQ Dinner in Dubai Desert</td>\n",
       "      <td>Adventure Tours</td>\n",
       "      <td>6 hours</td>\n",
       "      <td>$55.00</td>\n",
       "      <td>per adult</td>\n",
       "      <td>Free cancellation</td>\n",
       "      <td>By Dubai Safaris Tour</td>\n",
       "      <td>Dubai</td>\n",
       "      <td>United Arab Emirates</td>\n",
       "      <td>https://dynamic-media-cdn.tripadvisor.com/medi...</td>\n",
       "      <td>https://www.tripadvisor.com/Attraction_Review-...</td>\n",
       "      <td>6</td>\n",
       "      <td>hours</td>\n",
       "    </tr>\n",
       "  </tbody>\n",
       "</table>\n",
       "<p>10891 rows × 13 columns</p>\n",
       "</div>"
      ],
      "text/plain": [
       "                                                    Tour              Type  \\\n",
       "1         Abu Dhabi Full-Day Sightseeing Tour from Dubai         Bus Tours   \n",
       "2      Evening Desert Safari With BBQ Dinner, Camel R...  Shore Excursions   \n",
       "4      Dubai to Abu Dhabi Grand Mosque & Qasr Al Wata...         Bus Tours   \n",
       "5                            Abu Dhabi Private City Tour         Bus Tours   \n",
       "6      Abu Dhabi City Tour - Grand Mosque, Emirates P...         Bus Tours   \n",
       "...                                                  ...               ...   \n",
       "17568                             Extreme Adventure Tour   Adventure Tours   \n",
       "17570  Speed Boat Tour : 60 Mins, 75 Mins 90 Mins BLA...       Speed Boats   \n",
       "17571  Premium 1 Hr Quad Biking with Refreshments , C...   Adventure Tours   \n",
       "17572  Evening Safari with Quad Bike, Camel Riding, B...   Adventure Tours   \n",
       "17573      Desert Safari with BBQ Dinner in Dubai Desert   Adventure Tours   \n",
       "\n",
       "        Duration    Price  Price Per       Cancellation  \\\n",
       "1       6+ hours   $40.00  per adult  Free cancellation   \n",
       "2        6 hours   $83.00  per adult  Free cancellation   \n",
       "4      8–9 hours  $109.00  per adult  Free cancellation   \n",
       "5        5 hours  $200.00  per group  Free cancellation   \n",
       "6      8–9 hours   $75.00  per adult  Free cancellation   \n",
       "...          ...      ...        ...                ...   \n",
       "17568    5 hours   $59.71  per adult  Free cancellation   \n",
       "17570  1–2 hours   $45.00  per adult  Free cancellation   \n",
       "17571    4 hours   $65.13  per adult  Free cancellation   \n",
       "17572    6 hours  $140.00  per adult  Free cancellation   \n",
       "17573    6 hours   $55.00  per adult  Free cancellation   \n",
       "\n",
       "                             Tour By       City               Country  \\\n",
       "1                     By RAH Tourism  Abu Dhabi  United Arab Emirates   \n",
       "2      By Emirates Tours and Safaris  Abu Dhabi  United Arab Emirates   \n",
       "4                By OceanAir Travels  Abu Dhabi  United Arab Emirates   \n",
       "5                     By RAH Tourism  Abu Dhabi  United Arab Emirates   \n",
       "6                     By RAH Tourism  Abu Dhabi  United Arab Emirates   \n",
       "...                              ...        ...                   ...   \n",
       "17568      By Planet Tours & Safaris      Dubai  United Arab Emirates   \n",
       "17570          By Top 10 Dubai Tours      Dubai  United Arab Emirates   \n",
       "17571                By Trawey Tours      Dubai  United Arab Emirates   \n",
       "17572       By Arabian Tour Packages      Dubai  United Arab Emirates   \n",
       "17573          By Dubai Safaris Tour      Dubai  United Arab Emirates   \n",
       "\n",
       "                                                   Image  \\\n",
       "1      https://dynamic-media-cdn.tripadvisor.com/medi...   \n",
       "2      https://dynamic-media-cdn.tripadvisor.com/medi...   \n",
       "4      https://dynamic-media-cdn.tripadvisor.com/medi...   \n",
       "5      https://dynamic-media-cdn.tripadvisor.com/medi...   \n",
       "6      https://dynamic-media-cdn.tripadvisor.com/medi...   \n",
       "...                                                  ...   \n",
       "17568  https://dynamic-media-cdn.tripadvisor.com/medi...   \n",
       "17570  https://dynamic-media-cdn.tripadvisor.com/medi...   \n",
       "17571  https://dynamic-media-cdn.tripadvisor.com/medi...   \n",
       "17572  https://dynamic-media-cdn.tripadvisor.com/medi...   \n",
       "17573  https://dynamic-media-cdn.tripadvisor.com/medi...   \n",
       "\n",
       "                                          Link to agency Time   Unit  \n",
       "1      https://www.tripadvisor.com/Attraction_Review-...   6+  hours  \n",
       "2      https://www.tripadvisor.com/Attraction_Review-...    6  hours  \n",
       "4      https://www.tripadvisor.com/Attraction_Review-...  8–9  hours  \n",
       "5      https://www.tripadvisor.com/Attraction_Review-...    5  hours  \n",
       "6      https://www.tripadvisor.com/Attraction_Review-...  8–9  hours  \n",
       "...                                                  ...  ...    ...  \n",
       "17568  https://www.tripadvisor.com/Attraction_Review-...    5  hours  \n",
       "17570  https://www.tripadvisor.com/Attraction_Review-...  1–2  hours  \n",
       "17571  https://www.tripadvisor.com/Attraction_Review-...    4  hours  \n",
       "17572  https://www.tripadvisor.com/Attraction_Review-...    6  hours  \n",
       "17573  https://www.tripadvisor.com/Attraction_Review-...    6  hours  \n",
       "\n",
       "[10891 rows x 13 columns]"
      ]
     },
     "execution_count": 20,
     "metadata": {},
     "output_type": "execute_result"
    }
   ],
   "source": [
    "# separate each the duration (in number) and the unit making new columns\n",
    "df_clean[['Time','Unit']] = df_clean.Duration.str.split(\" \",expand=True)\n",
    "df_clean"
   ]
  },
  {
   "cell_type": "markdown",
   "metadata": {},
   "source": [
    "*2.5.2 Removing other characters in Time column*"
   ]
  },
  {
   "cell_type": "code",
   "execution_count": 21,
   "metadata": {},
   "outputs": [
    {
     "name": "stderr",
     "output_type": "stream",
     "text": [
      "C:\\Users\\Fatemah\\AppData\\Local\\Temp/ipykernel_17664/2870402399.py:2: FutureWarning: The default value of regex will change from True to False in a future version. In addition, single character regular expressions will *not* be treated as literal strings when regex=True.\n",
      "  df_clean['Time'] = df_clean['Time'].str.replace('+', '')\n"
     ]
    }
   ],
   "source": [
    "# removing the + sign from Time column, by using str.replace\n",
    "df_clean['Time'] = df_clean['Time'].str.replace('+', '')\n",
    "df_clean['Time'] = df_clean['Time'].str.replace(',', '')"
   ]
  },
  {
   "cell_type": "markdown",
   "metadata": {},
   "source": [
    "*After removing + sign and the comma , now I can separate the other format in Time column* <br> \n",
    "<br>\n",
    "*2.5.3 Separate the numbers in Time column to minimum duration & maximum duration*"
   ]
  },
  {
   "cell_type": "code",
   "execution_count": 22,
   "metadata": {},
   "outputs": [
    {
     "data": {
      "text/html": [
       "<div>\n",
       "<style scoped>\n",
       "    .dataframe tbody tr th:only-of-type {\n",
       "        vertical-align: middle;\n",
       "    }\n",
       "\n",
       "    .dataframe tbody tr th {\n",
       "        vertical-align: top;\n",
       "    }\n",
       "\n",
       "    .dataframe thead th {\n",
       "        text-align: right;\n",
       "    }\n",
       "</style>\n",
       "<table border=\"1\" class=\"dataframe\">\n",
       "  <thead>\n",
       "    <tr style=\"text-align: right;\">\n",
       "      <th></th>\n",
       "      <th>Tour</th>\n",
       "      <th>Type</th>\n",
       "      <th>Duration</th>\n",
       "      <th>Price</th>\n",
       "      <th>Price Per</th>\n",
       "      <th>Cancellation</th>\n",
       "      <th>Tour By</th>\n",
       "      <th>City</th>\n",
       "      <th>Country</th>\n",
       "      <th>Image</th>\n",
       "      <th>Link to agency</th>\n",
       "      <th>Time</th>\n",
       "      <th>Unit</th>\n",
       "      <th>minD</th>\n",
       "      <th>maxD</th>\n",
       "    </tr>\n",
       "  </thead>\n",
       "  <tbody>\n",
       "    <tr>\n",
       "      <th>1</th>\n",
       "      <td>Abu Dhabi Full-Day Sightseeing Tour from Dubai</td>\n",
       "      <td>Bus Tours</td>\n",
       "      <td>6+ hours</td>\n",
       "      <td>$40.00</td>\n",
       "      <td>per adult</td>\n",
       "      <td>Free cancellation</td>\n",
       "      <td>By RAH Tourism</td>\n",
       "      <td>Abu Dhabi</td>\n",
       "      <td>United Arab Emirates</td>\n",
       "      <td>https://dynamic-media-cdn.tripadvisor.com/medi...</td>\n",
       "      <td>https://www.tripadvisor.com/Attraction_Review-...</td>\n",
       "      <td>6</td>\n",
       "      <td>hours</td>\n",
       "      <td>6</td>\n",
       "      <td>None</td>\n",
       "    </tr>\n",
       "    <tr>\n",
       "      <th>2</th>\n",
       "      <td>Evening Desert Safari With BBQ Dinner, Camel R...</td>\n",
       "      <td>Shore Excursions</td>\n",
       "      <td>6 hours</td>\n",
       "      <td>$83.00</td>\n",
       "      <td>per adult</td>\n",
       "      <td>Free cancellation</td>\n",
       "      <td>By Emirates Tours and Safaris</td>\n",
       "      <td>Abu Dhabi</td>\n",
       "      <td>United Arab Emirates</td>\n",
       "      <td>https://dynamic-media-cdn.tripadvisor.com/medi...</td>\n",
       "      <td>https://www.tripadvisor.com/Attraction_Review-...</td>\n",
       "      <td>6</td>\n",
       "      <td>hours</td>\n",
       "      <td>6</td>\n",
       "      <td>None</td>\n",
       "    </tr>\n",
       "    <tr>\n",
       "      <th>4</th>\n",
       "      <td>Dubai to Abu Dhabi Grand Mosque &amp; Qasr Al Wata...</td>\n",
       "      <td>Bus Tours</td>\n",
       "      <td>8–9 hours</td>\n",
       "      <td>$109.00</td>\n",
       "      <td>per adult</td>\n",
       "      <td>Free cancellation</td>\n",
       "      <td>By OceanAir Travels</td>\n",
       "      <td>Abu Dhabi</td>\n",
       "      <td>United Arab Emirates</td>\n",
       "      <td>https://dynamic-media-cdn.tripadvisor.com/medi...</td>\n",
       "      <td>https://www.tripadvisor.com/Attraction_Review-...</td>\n",
       "      <td>8–9</td>\n",
       "      <td>hours</td>\n",
       "      <td>8</td>\n",
       "      <td>9</td>\n",
       "    </tr>\n",
       "    <tr>\n",
       "      <th>5</th>\n",
       "      <td>Abu Dhabi Private City Tour</td>\n",
       "      <td>Bus Tours</td>\n",
       "      <td>5 hours</td>\n",
       "      <td>$200.00</td>\n",
       "      <td>per group</td>\n",
       "      <td>Free cancellation</td>\n",
       "      <td>By RAH Tourism</td>\n",
       "      <td>Abu Dhabi</td>\n",
       "      <td>United Arab Emirates</td>\n",
       "      <td>https://dynamic-media-cdn.tripadvisor.com/medi...</td>\n",
       "      <td>https://www.tripadvisor.com/Attraction_Review-...</td>\n",
       "      <td>5</td>\n",
       "      <td>hours</td>\n",
       "      <td>5</td>\n",
       "      <td>None</td>\n",
       "    </tr>\n",
       "    <tr>\n",
       "      <th>6</th>\n",
       "      <td>Abu Dhabi City Tour - Grand Mosque, Emirates P...</td>\n",
       "      <td>Bus Tours</td>\n",
       "      <td>8–9 hours</td>\n",
       "      <td>$75.00</td>\n",
       "      <td>per adult</td>\n",
       "      <td>Free cancellation</td>\n",
       "      <td>By RAH Tourism</td>\n",
       "      <td>Abu Dhabi</td>\n",
       "      <td>United Arab Emirates</td>\n",
       "      <td>https://dynamic-media-cdn.tripadvisor.com/medi...</td>\n",
       "      <td>https://www.tripadvisor.com/Attraction_Review-...</td>\n",
       "      <td>8–9</td>\n",
       "      <td>hours</td>\n",
       "      <td>8</td>\n",
       "      <td>9</td>\n",
       "    </tr>\n",
       "    <tr>\n",
       "      <th>...</th>\n",
       "      <td>...</td>\n",
       "      <td>...</td>\n",
       "      <td>...</td>\n",
       "      <td>...</td>\n",
       "      <td>...</td>\n",
       "      <td>...</td>\n",
       "      <td>...</td>\n",
       "      <td>...</td>\n",
       "      <td>...</td>\n",
       "      <td>...</td>\n",
       "      <td>...</td>\n",
       "      <td>...</td>\n",
       "      <td>...</td>\n",
       "      <td>...</td>\n",
       "      <td>...</td>\n",
       "    </tr>\n",
       "    <tr>\n",
       "      <th>17568</th>\n",
       "      <td>Extreme Adventure Tour</td>\n",
       "      <td>Adventure Tours</td>\n",
       "      <td>5 hours</td>\n",
       "      <td>$59.71</td>\n",
       "      <td>per adult</td>\n",
       "      <td>Free cancellation</td>\n",
       "      <td>By Planet Tours &amp; Safaris</td>\n",
       "      <td>Dubai</td>\n",
       "      <td>United Arab Emirates</td>\n",
       "      <td>https://dynamic-media-cdn.tripadvisor.com/medi...</td>\n",
       "      <td>https://www.tripadvisor.com/Attraction_Review-...</td>\n",
       "      <td>5</td>\n",
       "      <td>hours</td>\n",
       "      <td>5</td>\n",
       "      <td>None</td>\n",
       "    </tr>\n",
       "    <tr>\n",
       "      <th>17570</th>\n",
       "      <td>Speed Boat Tour : 60 Mins, 75 Mins 90 Mins BLA...</td>\n",
       "      <td>Speed Boats</td>\n",
       "      <td>1–2 hours</td>\n",
       "      <td>$45.00</td>\n",
       "      <td>per adult</td>\n",
       "      <td>Free cancellation</td>\n",
       "      <td>By Top 10 Dubai Tours</td>\n",
       "      <td>Dubai</td>\n",
       "      <td>United Arab Emirates</td>\n",
       "      <td>https://dynamic-media-cdn.tripadvisor.com/medi...</td>\n",
       "      <td>https://www.tripadvisor.com/Attraction_Review-...</td>\n",
       "      <td>1–2</td>\n",
       "      <td>hours</td>\n",
       "      <td>1</td>\n",
       "      <td>2</td>\n",
       "    </tr>\n",
       "    <tr>\n",
       "      <th>17571</th>\n",
       "      <td>Premium 1 Hr Quad Biking with Refreshments , C...</td>\n",
       "      <td>Adventure Tours</td>\n",
       "      <td>4 hours</td>\n",
       "      <td>$65.13</td>\n",
       "      <td>per adult</td>\n",
       "      <td>Free cancellation</td>\n",
       "      <td>By Trawey Tours</td>\n",
       "      <td>Dubai</td>\n",
       "      <td>United Arab Emirates</td>\n",
       "      <td>https://dynamic-media-cdn.tripadvisor.com/medi...</td>\n",
       "      <td>https://www.tripadvisor.com/Attraction_Review-...</td>\n",
       "      <td>4</td>\n",
       "      <td>hours</td>\n",
       "      <td>4</td>\n",
       "      <td>None</td>\n",
       "    </tr>\n",
       "    <tr>\n",
       "      <th>17572</th>\n",
       "      <td>Evening Safari with Quad Bike, Camel Riding, B...</td>\n",
       "      <td>Adventure Tours</td>\n",
       "      <td>6 hours</td>\n",
       "      <td>$140.00</td>\n",
       "      <td>per adult</td>\n",
       "      <td>Free cancellation</td>\n",
       "      <td>By Arabian Tour Packages</td>\n",
       "      <td>Dubai</td>\n",
       "      <td>United Arab Emirates</td>\n",
       "      <td>https://dynamic-media-cdn.tripadvisor.com/medi...</td>\n",
       "      <td>https://www.tripadvisor.com/Attraction_Review-...</td>\n",
       "      <td>6</td>\n",
       "      <td>hours</td>\n",
       "      <td>6</td>\n",
       "      <td>None</td>\n",
       "    </tr>\n",
       "    <tr>\n",
       "      <th>17573</th>\n",
       "      <td>Desert Safari with BBQ Dinner in Dubai Desert</td>\n",
       "      <td>Adventure Tours</td>\n",
       "      <td>6 hours</td>\n",
       "      <td>$55.00</td>\n",
       "      <td>per adult</td>\n",
       "      <td>Free cancellation</td>\n",
       "      <td>By Dubai Safaris Tour</td>\n",
       "      <td>Dubai</td>\n",
       "      <td>United Arab Emirates</td>\n",
       "      <td>https://dynamic-media-cdn.tripadvisor.com/medi...</td>\n",
       "      <td>https://www.tripadvisor.com/Attraction_Review-...</td>\n",
       "      <td>6</td>\n",
       "      <td>hours</td>\n",
       "      <td>6</td>\n",
       "      <td>None</td>\n",
       "    </tr>\n",
       "  </tbody>\n",
       "</table>\n",
       "<p>10891 rows × 15 columns</p>\n",
       "</div>"
      ],
      "text/plain": [
       "                                                    Tour              Type  \\\n",
       "1         Abu Dhabi Full-Day Sightseeing Tour from Dubai         Bus Tours   \n",
       "2      Evening Desert Safari With BBQ Dinner, Camel R...  Shore Excursions   \n",
       "4      Dubai to Abu Dhabi Grand Mosque & Qasr Al Wata...         Bus Tours   \n",
       "5                            Abu Dhabi Private City Tour         Bus Tours   \n",
       "6      Abu Dhabi City Tour - Grand Mosque, Emirates P...         Bus Tours   \n",
       "...                                                  ...               ...   \n",
       "17568                             Extreme Adventure Tour   Adventure Tours   \n",
       "17570  Speed Boat Tour : 60 Mins, 75 Mins 90 Mins BLA...       Speed Boats   \n",
       "17571  Premium 1 Hr Quad Biking with Refreshments , C...   Adventure Tours   \n",
       "17572  Evening Safari with Quad Bike, Camel Riding, B...   Adventure Tours   \n",
       "17573      Desert Safari with BBQ Dinner in Dubai Desert   Adventure Tours   \n",
       "\n",
       "        Duration    Price  Price Per       Cancellation  \\\n",
       "1       6+ hours   $40.00  per adult  Free cancellation   \n",
       "2        6 hours   $83.00  per adult  Free cancellation   \n",
       "4      8–9 hours  $109.00  per adult  Free cancellation   \n",
       "5        5 hours  $200.00  per group  Free cancellation   \n",
       "6      8–9 hours   $75.00  per adult  Free cancellation   \n",
       "...          ...      ...        ...                ...   \n",
       "17568    5 hours   $59.71  per adult  Free cancellation   \n",
       "17570  1–2 hours   $45.00  per adult  Free cancellation   \n",
       "17571    4 hours   $65.13  per adult  Free cancellation   \n",
       "17572    6 hours  $140.00  per adult  Free cancellation   \n",
       "17573    6 hours   $55.00  per adult  Free cancellation   \n",
       "\n",
       "                             Tour By       City               Country  \\\n",
       "1                     By RAH Tourism  Abu Dhabi  United Arab Emirates   \n",
       "2      By Emirates Tours and Safaris  Abu Dhabi  United Arab Emirates   \n",
       "4                By OceanAir Travels  Abu Dhabi  United Arab Emirates   \n",
       "5                     By RAH Tourism  Abu Dhabi  United Arab Emirates   \n",
       "6                     By RAH Tourism  Abu Dhabi  United Arab Emirates   \n",
       "...                              ...        ...                   ...   \n",
       "17568      By Planet Tours & Safaris      Dubai  United Arab Emirates   \n",
       "17570          By Top 10 Dubai Tours      Dubai  United Arab Emirates   \n",
       "17571                By Trawey Tours      Dubai  United Arab Emirates   \n",
       "17572       By Arabian Tour Packages      Dubai  United Arab Emirates   \n",
       "17573          By Dubai Safaris Tour      Dubai  United Arab Emirates   \n",
       "\n",
       "                                                   Image  \\\n",
       "1      https://dynamic-media-cdn.tripadvisor.com/medi...   \n",
       "2      https://dynamic-media-cdn.tripadvisor.com/medi...   \n",
       "4      https://dynamic-media-cdn.tripadvisor.com/medi...   \n",
       "5      https://dynamic-media-cdn.tripadvisor.com/medi...   \n",
       "6      https://dynamic-media-cdn.tripadvisor.com/medi...   \n",
       "...                                                  ...   \n",
       "17568  https://dynamic-media-cdn.tripadvisor.com/medi...   \n",
       "17570  https://dynamic-media-cdn.tripadvisor.com/medi...   \n",
       "17571  https://dynamic-media-cdn.tripadvisor.com/medi...   \n",
       "17572  https://dynamic-media-cdn.tripadvisor.com/medi...   \n",
       "17573  https://dynamic-media-cdn.tripadvisor.com/medi...   \n",
       "\n",
       "                                          Link to agency Time   Unit minD  \\\n",
       "1      https://www.tripadvisor.com/Attraction_Review-...    6  hours    6   \n",
       "2      https://www.tripadvisor.com/Attraction_Review-...    6  hours    6   \n",
       "4      https://www.tripadvisor.com/Attraction_Review-...  8–9  hours    8   \n",
       "5      https://www.tripadvisor.com/Attraction_Review-...    5  hours    5   \n",
       "6      https://www.tripadvisor.com/Attraction_Review-...  8–9  hours    8   \n",
       "...                                                  ...  ...    ...  ...   \n",
       "17568  https://www.tripadvisor.com/Attraction_Review-...    5  hours    5   \n",
       "17570  https://www.tripadvisor.com/Attraction_Review-...  1–2  hours    1   \n",
       "17571  https://www.tripadvisor.com/Attraction_Review-...    4  hours    4   \n",
       "17572  https://www.tripadvisor.com/Attraction_Review-...    6  hours    6   \n",
       "17573  https://www.tripadvisor.com/Attraction_Review-...    6  hours    6   \n",
       "\n",
       "       maxD  \n",
       "1      None  \n",
       "2      None  \n",
       "4         9  \n",
       "5      None  \n",
       "6         9  \n",
       "...     ...  \n",
       "17568  None  \n",
       "17570     2  \n",
       "17571  None  \n",
       "17572  None  \n",
       "17573  None  \n",
       "\n",
       "[10891 rows x 15 columns]"
      ]
     },
     "execution_count": 22,
     "metadata": {},
     "output_type": "execute_result"
    }
   ],
   "source": [
    "# separate each the Time value in XX-XX this format to two column minD (minimum Duration) & maxD (maximum Duration)\n",
    "df_clean[['minD','maxD']] = df_clean.Time.str.split(\"–\",expand=True)\n",
    "df_clean"
   ]
  },
  {
   "cell_type": "markdown",
   "metadata": {},
   "source": [
    "*2.5.4 Convert data type to float*"
   ]
  },
  {
   "cell_type": "code",
   "execution_count": 23,
   "metadata": {},
   "outputs": [],
   "source": [
    "# convert the data type of minD & maxD to float\n",
    "df_clean['minD'] = pd.to_numeric(df_clean['minD'], downcast=\"float\")\n",
    "df_clean['maxD'] = pd.to_numeric(df_clean['maxD'], downcast=\"float\")"
   ]
  },
  {
   "cell_type": "markdown",
   "metadata": {},
   "source": [
    "*2.5.5 Calculate time average*"
   ]
  },
  {
   "cell_type": "code",
   "execution_count": 24,
   "metadata": {},
   "outputs": [],
   "source": [
    "# fill the null value in maxD with the same vale in minD for later on average\n",
    "df_clean['maxD'].fillna(df_clean['minD'], inplace=True)"
   ]
  },
  {
   "cell_type": "code",
   "execution_count": 25,
   "metadata": {},
   "outputs": [],
   "source": [
    "# calculating the average Time\n",
    "df_clean['AverageTime'] = (df_clean['minD'] + df_clean['maxD']) / 2"
   ]
  },
  {
   "cell_type": "code",
   "execution_count": 26,
   "metadata": {},
   "outputs": [],
   "source": [
    "# drop the Duration, Time, minD & maxD columns\n",
    "df_clean.drop(['Duration', 'Time', 'minD','maxD'], axis=1, inplace=True)"
   ]
  },
  {
   "cell_type": "markdown",
   "metadata": {},
   "source": [
    "*2.5.6 Convert time average to hours*"
   ]
  },
  {
   "cell_type": "code",
   "execution_count": 27,
   "metadata": {},
   "outputs": [],
   "source": [
    "# Convert days to hours\n",
    "df_clean.loc[df_clean['Unit']=='days', ['AverageTime']] *= 24\n",
    "df_clean.loc[df_clean['Unit']=='days', ['AverageTime']] *= 24\n",
    "\n",
    "# Convert minutes to hours\n",
    "df_clean.loc[df_clean['Unit']=='minutes', ['AverageTime']] /= 60\n",
    "df_clean.loc[df_clean['Unit']=='minute', ['AverageTime']] /= 60\n",
    "\n",
    "# make sure hour will be the same\n",
    "df_clean.loc[df_clean['Unit']=='hours', ['AverageTime']] *= 1\n",
    "df_clean.loc[df_clean['Unit']=='hour', ['AverageTime']] *= 1"
   ]
  },
  {
   "cell_type": "markdown",
   "metadata": {},
   "source": [
    "*2.5.7 Rename, drop and replace columns after convertaing to average time in hour*"
   ]
  },
  {
   "cell_type": "code",
   "execution_count": 28,
   "metadata": {},
   "outputs": [],
   "source": [
    "# Rename AverageTime column\n",
    "df_clean.rename(columns={'AverageTime':'Duration'}, inplace=True)"
   ]
  },
  {
   "cell_type": "code",
   "execution_count": 29,
   "metadata": {},
   "outputs": [],
   "source": [
    "# drop the Unit column\n",
    "df_clean.drop('Unit', axis=1, inplace=True)"
   ]
  },
  {
   "cell_type": "code",
   "execution_count": 30,
   "metadata": {},
   "outputs": [],
   "source": [
    "# Replace the duration column\n",
    "df_clean = df_clean[['Tour', 'Type', 'Duration', 'Price', 'Price Per', 'Cancellation','Tour By', 'City', 'Country', 'Image', 'Link to agency']]"
   ]
  },
  {
   "cell_type": "code",
   "execution_count": 31,
   "metadata": {},
   "outputs": [],
   "source": [
    "# limit a float to two decimal places\n",
    "df_clean.Duration = round(df_clean.Duration, 2)"
   ]
  },
  {
   "cell_type": "code",
   "execution_count": 32,
   "metadata": {},
   "outputs": [
    {
     "data": {
      "text/plain": [
       "6.00       2720\n",
       "3.00       1314\n",
       "4.00        993\n",
       "2.00        862\n",
       "2.50        603\n",
       "           ... \n",
       "3168.00       1\n",
       "2.10          1\n",
       "1.17          1\n",
       "0.57          1\n",
       "0.71          1\n",
       "Name: Duration, Length: 135, dtype: int64"
      ]
     },
     "execution_count": 32,
     "metadata": {},
     "output_type": "execute_result"
    }
   ],
   "source": [
    "# check the values\n",
    "df_clean.Duration.value_counts()"
   ]
  },
  {
   "cell_type": "code",
   "execution_count": 33,
   "metadata": {},
   "outputs": [
    {
     "name": "stdout",
     "output_type": "stream",
     "text": [
      "<class 'pandas.core.frame.DataFrame'>\n",
      "Int64Index: 10891 entries, 1 to 17573\n",
      "Data columns (total 11 columns):\n",
      " #   Column          Non-Null Count  Dtype  \n",
      "---  ------          --------------  -----  \n",
      " 0   Tour            10891 non-null  object \n",
      " 1   Type            10891 non-null  object \n",
      " 2   Duration        10891 non-null  float32\n",
      " 3   Price           10891 non-null  object \n",
      " 4   Price Per       10891 non-null  object \n",
      " 5   Cancellation    10891 non-null  object \n",
      " 6   Tour By         10891 non-null  object \n",
      " 7   City            10891 non-null  object \n",
      " 8   Country         10891 non-null  object \n",
      " 9   Image           10891 non-null  object \n",
      " 10  Link to agency  10891 non-null  object \n",
      "dtypes: float32(1), object(10)\n",
      "memory usage: 978.5+ KB\n"
     ]
    }
   ],
   "source": [
    "# check all the changes in the above section 2.5 Tour Duration column\n",
    "df_clean.info()"
   ]
  },
  {
   "cell_type": "code",
   "execution_count": 34,
   "metadata": {},
   "outputs": [
    {
     "data": {
      "image/png": "[encoded data removed]",
      "text/plain": [
       "<Figure size 1440x720 with 1 Axes>"
      ]
     },
     "metadata": {},
     "output_type": "display_data"
    }
   ],
   "source": [
    "# scatter chart for the tour duration\n",
    "x = df_clean['Duration'].value_counts().index\n",
    "y = df_clean['Duration'].value_counts()\n",
    "plt.style.use('seaborn-darkgrid')\n",
    "plt.figure(figsize=(20,10))\n",
    "plt.scatter(x, y, color='#458B74')\n",
    "plt.xticks( color ='#000000',fontsize=12)\n",
    "plt.yticks(color ='#000000',fontsize=12)\n",
    "plt.xlabel('Tour duration in hour',fontsize=20, color ='#000000')\n",
    "plt.ylabel(' Number of tour',fontsize=20, color ='#000000')\n",
    "plt.title('Tour Duration ',fontsize=22, color ='#000000')\n",
    "plt.show();"
   ]
  },
  {
   "cell_type": "markdown",
   "metadata": {},
   "source": [
    "*From the above plot, we can see the extrem value in the tour duration. With more than 100,000 hours*"
   ]
  },
  {
   "cell_type": "code",
   "execution_count": 35,
   "metadata": {},
   "outputs": [
    {
     "data": {
      "text/plain": [
       "105408.0"
      ]
     },
     "execution_count": 35,
     "metadata": {},
     "output_type": "execute_result"
    }
   ],
   "source": [
    "# finding the maximum value and drop it\n",
    "df_clean['Duration'].max()"
   ]
  },
  {
   "cell_type": "code",
   "execution_count": 36,
   "metadata": {},
   "outputs": [],
   "source": [
    "# drop the extrem value\n",
    "df_clean = df_clean[df_clean.Duration != 105408.0]"
   ]
  },
  {
   "cell_type": "code",
   "execution_count": 37,
   "metadata": {},
   "outputs": [
    {
     "data": {
      "text/plain": [
       "count    10890.000000\n",
       "mean       111.342148\n",
       "std        427.070007\n",
       "min          0.020000\n",
       "25%          2.500000\n",
       "50%          4.000000\n",
       "75%          6.000000\n",
       "max      12960.000000\n",
       "Name: Duration, dtype: float64"
      ]
     },
     "execution_count": 37,
     "metadata": {},
     "output_type": "execute_result"
    }
   ],
   "source": [
    "# Statistic summary of duration column\n",
    "df_clean['Duration'].describe()"
   ]
  },
  {
   "cell_type": "markdown",
   "metadata": {},
   "source": [
    "*Most of the Tours take 4-6 hours in average. Some of the tours are really long because it extends for days*"
   ]
  },
  {
   "cell_type": "code",
   "execution_count": 38,
   "metadata": {},
   "outputs": [
    {
     "data": {
      "image/png": "[encoded data removed]",
      "text/plain": [
       "<Figure size 1440x720 with 1 Axes>"
      ]
     },
     "metadata": {},
     "output_type": "display_data"
    }
   ],
   "source": [
    "# scatter chart for the tour duration after droping the extrem\n",
    "x = df_clean['Duration'].value_counts().index\n",
    "y = df_clean['Duration'].value_counts()\n",
    "plt.style.use('seaborn-darkgrid')\n",
    "plt.figure(figsize=(20,10))\n",
    "plt.scatter(x, y, color='#458B74', s=100, alpha=0.7)\n",
    "plt.xlim(0, 100)\n",
    "plt.xticks( color ='#000000',fontsize=12)\n",
    "plt.yticks(color ='#000000',fontsize=12)\n",
    "plt.xlabel('Tour duration in hour',fontsize=20, color ='#000000')\n",
    "plt.ylabel(' Number of tour',fontsize=20, color ='#000000')\n",
    "plt.title('Tour Duration ',fontsize=22, color ='#000000')\n",
    "plt.show();"
   ]
  },
  {
   "cell_type": "markdown",
   "metadata": {},
   "source": [
    "*2.6 Tour Price column*"
   ]
  },
  {
   "cell_type": "code",
   "execution_count": 39,
   "metadata": {},
   "outputs": [
    {
     "data": {
      "text/html": [
       "<div>\n",
       "<style scoped>\n",
       "    .dataframe tbody tr th:only-of-type {\n",
       "        vertical-align: middle;\n",
       "    }\n",
       "\n",
       "    .dataframe tbody tr th {\n",
       "        vertical-align: top;\n",
       "    }\n",
       "\n",
       "    .dataframe thead tr th {\n",
       "        text-align: left;\n",
       "    }\n",
       "\n",
       "    .dataframe thead tr:last-of-type th {\n",
       "        text-align: right;\n",
       "    }\n",
       "</style>\n",
       "<table border=\"1\" class=\"dataframe\">\n",
       "  <thead>\n",
       "    <tr>\n",
       "      <th></th>\n",
       "      <th colspan=\"4\" halign=\"left\">Price</th>\n",
       "    </tr>\n",
       "    <tr>\n",
       "      <th></th>\n",
       "      <th>count</th>\n",
       "      <th>unique</th>\n",
       "      <th>top</th>\n",
       "      <th>freq</th>\n",
       "    </tr>\n",
       "    <tr>\n",
       "      <th>Country</th>\n",
       "      <th></th>\n",
       "      <th></th>\n",
       "      <th></th>\n",
       "      <th></th>\n",
       "    </tr>\n",
       "  </thead>\n",
       "  <tbody>\n",
       "    <tr>\n",
       "      <th>Argentina</th>\n",
       "      <td>376</td>\n",
       "      <td>214</td>\n",
       "      <td>$150.00</td>\n",
       "      <td>13</td>\n",
       "    </tr>\n",
       "    <tr>\n",
       "      <th>Australia</th>\n",
       "      <td>72</td>\n",
       "      <td>61</td>\n",
       "      <td>$58.59</td>\n",
       "      <td>2</td>\n",
       "    </tr>\n",
       "    <tr>\n",
       "      <th>Austria</th>\n",
       "      <td>138</td>\n",
       "      <td>100</td>\n",
       "      <td>$135.76</td>\n",
       "      <td>5</td>\n",
       "    </tr>\n",
       "    <tr>\n",
       "      <th>Brazil</th>\n",
       "      <td>267</td>\n",
       "      <td>197</td>\n",
       "      <td>$50.00</td>\n",
       "      <td>6</td>\n",
       "    </tr>\n",
       "    <tr>\n",
       "      <th>Canada</th>\n",
       "      <td>95</td>\n",
       "      <td>73</td>\n",
       "      <td>$103.86</td>\n",
       "      <td>5</td>\n",
       "    </tr>\n",
       "    <tr>\n",
       "      <th>China</th>\n",
       "      <td>750</td>\n",
       "      <td>433</td>\n",
       "      <td>$180.00</td>\n",
       "      <td>13</td>\n",
       "    </tr>\n",
       "    <tr>\n",
       "      <th>Egypt</th>\n",
       "      <td>368</td>\n",
       "      <td>191</td>\n",
       "      <td>$20.00</td>\n",
       "      <td>20</td>\n",
       "    </tr>\n",
       "    <tr>\n",
       "      <th>Frence</th>\n",
       "      <td>447</td>\n",
       "      <td>292</td>\n",
       "      <td>$112.00</td>\n",
       "      <td>9</td>\n",
       "    </tr>\n",
       "    <tr>\n",
       "      <th>Germany</th>\n",
       "      <td>128</td>\n",
       "      <td>103</td>\n",
       "      <td>$22.63</td>\n",
       "      <td>5</td>\n",
       "    </tr>\n",
       "    <tr>\n",
       "      <th>Greece</th>\n",
       "      <td>321</td>\n",
       "      <td>212</td>\n",
       "      <td>$169.70</td>\n",
       "      <td>8</td>\n",
       "    </tr>\n",
       "    <tr>\n",
       "      <th>India</th>\n",
       "      <td>182</td>\n",
       "      <td>151</td>\n",
       "      <td>$62.00</td>\n",
       "      <td>3</td>\n",
       "    </tr>\n",
       "    <tr>\n",
       "      <th>Italy</th>\n",
       "      <td>1430</td>\n",
       "      <td>602</td>\n",
       "      <td>$100.69</td>\n",
       "      <td>41</td>\n",
       "    </tr>\n",
       "    <tr>\n",
       "      <th>Japan</th>\n",
       "      <td>238</td>\n",
       "      <td>174</td>\n",
       "      <td>$159.89</td>\n",
       "      <td>6</td>\n",
       "    </tr>\n",
       "    <tr>\n",
       "      <th>Malaysia</th>\n",
       "      <td>182</td>\n",
       "      <td>151</td>\n",
       "      <td>$35.00</td>\n",
       "      <td>4</td>\n",
       "    </tr>\n",
       "    <tr>\n",
       "      <th>Mexico</th>\n",
       "      <td>226</td>\n",
       "      <td>169</td>\n",
       "      <td>$38.00</td>\n",
       "      <td>6</td>\n",
       "    </tr>\n",
       "    <tr>\n",
       "      <th>Morocco</th>\n",
       "      <td>558</td>\n",
       "      <td>308</td>\n",
       "      <td>$33.94</td>\n",
       "      <td>17</td>\n",
       "    </tr>\n",
       "    <tr>\n",
       "      <th>Netherlands</th>\n",
       "      <td>233</td>\n",
       "      <td>157</td>\n",
       "      <td>$39.60</td>\n",
       "      <td>16</td>\n",
       "    </tr>\n",
       "    <tr>\n",
       "      <th>Oman</th>\n",
       "      <td>259</td>\n",
       "      <td>176</td>\n",
       "      <td>$200.00</td>\n",
       "      <td>39</td>\n",
       "    </tr>\n",
       "    <tr>\n",
       "      <th>Qatar</th>\n",
       "      <td>88</td>\n",
       "      <td>61</td>\n",
       "      <td>$127.00</td>\n",
       "      <td>5</td>\n",
       "    </tr>\n",
       "    <tr>\n",
       "      <th>Saudi Arabia</th>\n",
       "      <td>52</td>\n",
       "      <td>46</td>\n",
       "      <td>$152.00</td>\n",
       "      <td>2</td>\n",
       "    </tr>\n",
       "    <tr>\n",
       "      <th>Singapore</th>\n",
       "      <td>100</td>\n",
       "      <td>86</td>\n",
       "      <td>$75.53</td>\n",
       "      <td>2</td>\n",
       "    </tr>\n",
       "    <tr>\n",
       "      <th>South Africa</th>\n",
       "      <td>335</td>\n",
       "      <td>240</td>\n",
       "      <td>$109.41</td>\n",
       "      <td>10</td>\n",
       "    </tr>\n",
       "    <tr>\n",
       "      <th>South Korea</th>\n",
       "      <td>192</td>\n",
       "      <td>146</td>\n",
       "      <td>$80.00</td>\n",
       "      <td>9</td>\n",
       "    </tr>\n",
       "    <tr>\n",
       "      <th>Spain</th>\n",
       "      <td>504</td>\n",
       "      <td>287</td>\n",
       "      <td>$28.28</td>\n",
       "      <td>15</td>\n",
       "    </tr>\n",
       "    <tr>\n",
       "      <th>Turkey</th>\n",
       "      <td>767</td>\n",
       "      <td>405</td>\n",
       "      <td>$39.60</td>\n",
       "      <td>15</td>\n",
       "    </tr>\n",
       "    <tr>\n",
       "      <th>UK</th>\n",
       "      <td>625</td>\n",
       "      <td>347</td>\n",
       "      <td>$20.76</td>\n",
       "      <td>18</td>\n",
       "    </tr>\n",
       "    <tr>\n",
       "      <th>USA</th>\n",
       "      <td>1147</td>\n",
       "      <td>524</td>\n",
       "      <td>$35.00</td>\n",
       "      <td>25</td>\n",
       "    </tr>\n",
       "    <tr>\n",
       "      <th>United Arab Emirates</th>\n",
       "      <td>810</td>\n",
       "      <td>451</td>\n",
       "      <td>$75.00</td>\n",
       "      <td>25</td>\n",
       "    </tr>\n",
       "  </tbody>\n",
       "</table>\n",
       "</div>"
      ],
      "text/plain": [
       "                     Price                     \n",
       "                     count unique      top freq\n",
       "Country                                        \n",
       "Argentina              376    214  $150.00   13\n",
       "Australia               72     61   $58.59    2\n",
       "Austria                138    100  $135.76    5\n",
       "Brazil                 267    197   $50.00    6\n",
       "Canada                  95     73  $103.86    5\n",
       "China                  750    433  $180.00   13\n",
       "Egypt                  368    191   $20.00   20\n",
       "Frence                 447    292  $112.00    9\n",
       "Germany                128    103   $22.63    5\n",
       "Greece                 321    212  $169.70    8\n",
       "India                  182    151   $62.00    3\n",
       "Italy                 1430    602  $100.69   41\n",
       "Japan                  238    174  $159.89    6\n",
       "Malaysia               182    151   $35.00    4\n",
       "Mexico                 226    169   $38.00    6\n",
       "Morocco                558    308   $33.94   17\n",
       "Netherlands            233    157   $39.60   16\n",
       "Oman                   259    176  $200.00   39\n",
       "Qatar                   88     61  $127.00    5\n",
       "Saudi Arabia            52     46  $152.00    2\n",
       "Singapore              100     86   $75.53    2\n",
       "South Africa           335    240  $109.41   10\n",
       "South Korea            192    146   $80.00    9\n",
       "Spain                  504    287   $28.28   15\n",
       "Turkey                 767    405   $39.60   15\n",
       "UK                     625    347   $20.76   18\n",
       "USA                   1147    524   $35.00   25\n",
       "United Arab Emirates   810    451   $75.00   25"
      ]
     },
     "execution_count": 39,
     "metadata": {},
     "output_type": "execute_result"
    }
   ],
   "source": [
    "# summary statistics for the price based on the Country column\n",
    "df_clean[['Country','Price']].groupby('Country').describe()"
   ]
  },
  {
   "cell_type": "code",
   "execution_count": 40,
   "metadata": {},
   "outputs": [
    {
     "name": "stderr",
     "output_type": "stream",
     "text": [
      "C:\\Users\\Fatemah\\AppData\\Local\\Temp/ipykernel_17664/440693180.py:2: FutureWarning: The default value of regex will change from True to False in a future version. In addition, single character regular expressions will *not* be treated as literal strings when regex=True.\n",
      "  df_clean['Price'] = df_clean['Price'].str.replace('$', '')\n"
     ]
    }
   ],
   "source": [
    "# removing the $ sign and , from ‘Price’ column using str.replace\n",
    "df_clean['Price'] = df_clean['Price'].str.replace('$', '')\n",
    "df_clean['Price'] = df_clean['Price'].str.replace(',', '')"
   ]
  },
  {
   "cell_type": "code",
   "execution_count": 41,
   "metadata": {},
   "outputs": [],
   "source": [
    "# convert the data type of Price to float\n",
    "df_clean['Price'] = pd.to_numeric(df_clean['Price'], downcast=\"float\")"
   ]
  },
  {
   "cell_type": "code",
   "execution_count": 42,
   "metadata": {},
   "outputs": [],
   "source": [
    "# limit a float to two decimal places\n",
    "df_clean.Price = round(df_clean.Price, 2)"
   ]
  },
  {
   "cell_type": "code",
   "execution_count": 43,
   "metadata": {},
   "outputs": [
    {
     "data": {
      "text/plain": [
       "dtype('float32')"
      ]
     },
     "execution_count": 43,
     "metadata": {},
     "output_type": "execute_result"
    }
   ],
   "source": [
    "# to check the above \n",
    "df_clean['Price'].dtype"
   ]
  },
  {
   "cell_type": "code",
   "execution_count": 44,
   "metadata": {},
   "outputs": [
    {
     "data": {
      "text/plain": [
       "count    10890.000000\n",
       "mean       186.328812\n",
       "std        355.802765\n",
       "min          3.350000\n",
       "25%         52.040001\n",
       "50%         96.169998\n",
       "75%        189.000000\n",
       "max      12570.700195\n",
       "Name: Price, dtype: float64"
      ]
     },
     "execution_count": 44,
     "metadata": {},
     "output_type": "execute_result"
    }
   ],
   "source": [
    "# Statistic summary of price column\n",
    "df_clean['Price'].describe()"
   ]
  },
  {
   "cell_type": "markdown",
   "metadata": {},
   "source": [
    "*The minimum tour price in this data is $3.35, whereas the maximum tour price is $12,570*"
   ]
  },
  {
   "cell_type": "code",
   "execution_count": 45,
   "metadata": {},
   "outputs": [
    {
     "name": "stderr",
     "output_type": "stream",
     "text": [
      "C:\\Users\\Fatemah\\AppData\\Local\\Packages\\PythonSoftwareFoundation.Python.3.9_qbz5n2kfra8p0\\LocalCache\\local-packages\\Python39\\site-packages\\seaborn\\distributions.py:2619: FutureWarning: `distplot` is a deprecated function and will be removed in a future version. Please adapt your code to use either `displot` (a figure-level function with similar flexibility) or `histplot` (an axes-level function for histograms).\n",
      "  warnings.warn(msg, FutureWarning)\n"
     ]
    },
    {
     "data": {
      "image/png": "[encoded data removed]",
      "text/plain": [
       "<Figure size 1440x720 with 1 Axes>"
      ]
     },
     "metadata": {},
     "output_type": "display_data"
    }
   ],
   "source": [
    "# distribution plot for the price\n",
    "plt.style.use('seaborn-darkgrid')\n",
    "sns.set(font_scale=1.5)\n",
    "plt.figure(figsize=(20,10))\n",
    "sns.distplot(df_clean['Price'],color= ('#458B74'))\n",
    "plt.title('The distribution of tour price',fontsize=22, color ='#000000');"
   ]
  },
  {
   "cell_type": "markdown",
   "metadata": {},
   "source": [
    "*2.7 Price Per adult/group*"
   ]
  },
  {
   "cell_type": "code",
   "execution_count": 47,
   "metadata": {},
   "outputs": [
    {
     "data": {
      "image/png": "[encoded data removed]",
      "text/plain": [
       "<Figure size 1080x576 with 1 Axes>"
      ]
     },
     "metadata": {},
     "output_type": "display_data"
    }
   ],
   "source": [
    "# Scatter plot of the price per adult vs. price per group\n",
    "plt.style.use('seaborn-darkgrid')\n",
    "df_clean.plot(x='Price Per', y='Price', kind='scatter',figsize=(15,8), color='#458B74', s=100, alpha=0.5 , title='Price per Adult vs. Price per Group Based on Price');"
   ]
  },
  {
   "cell_type": "markdown",
   "metadata": {},
   "source": [
    "*Most of tours price per group is less than tour price per adult.*"
   ]
  },
  {
   "cell_type": "markdown",
   "metadata": {},
   "source": [
    "*2.8 Cancellation column*"
   ]
  },
  {
   "cell_type": "code",
   "execution_count": 48,
   "metadata": {},
   "outputs": [
    {
     "data": {
      "text/plain": [
       "Free cancellation      10889\n",
       "LIKELY TO SELL OUT*        1\n",
       "Name: Cancellation, dtype: int64"
      ]
     },
     "execution_count": 48,
     "metadata": {},
     "output_type": "execute_result"
    }
   ],
   "source": [
    "# check the column values \n",
    "df_clean['Cancellation'].value_counts()"
   ]
  },
  {
   "cell_type": "code",
   "execution_count": 49,
   "metadata": {},
   "outputs": [],
   "source": [
    "# remove the LIKELY TO SELL OUT* value\n",
    "df_clean = df_clean[df_clean.Cancellation != 'LIKELY TO SELL OUT*']"
   ]
  },
  {
   "cell_type": "markdown",
   "metadata": {},
   "source": [
    "*All of the Tours in this dataset are flexible booking and provide free cancellation.*"
   ]
  },
  {
   "cell_type": "markdown",
   "metadata": {},
   "source": [
    "*2.9 Tour By column*"
   ]
  },
  {
   "cell_type": "code",
   "execution_count": 50,
   "metadata": {},
   "outputs": [
    {
     "data": {
      "text/plain": [
       "3558"
      ]
     },
     "execution_count": 50,
     "metadata": {},
     "output_type": "execute_result"
    }
   ],
   "source": [
    "# number of unique value\n",
    "df_clean['Tour By'].nunique()"
   ]
  },
  {
   "cell_type": "markdown",
   "metadata": {},
   "source": [
    "*There are 3558 different agencies providing tours in this dataset*"
   ]
  },
  {
   "cell_type": "markdown",
   "metadata": {},
   "source": [
    "*2.10 City & Country columns*"
   ]
  },
  {
   "cell_type": "code",
   "execution_count": 51,
   "metadata": {},
   "outputs": [
    {
     "name": "stdout",
     "output_type": "stream",
     "text": [
      "Number of unoque value in City column: 39\n",
      "Number of unoque value in Country column: 28\n"
     ]
    }
   ],
   "source": [
    "# show number of unique values in each city & country column\n",
    "print('Number of unoque value in City column:',df_clean['City'].nunique())\n",
    "print('Number of unoque value in Country column:',df_clean['Country'].nunique())"
   ]
  },
  {
   "cell_type": "code",
   "execution_count": 52,
   "metadata": {},
   "outputs": [
    {
     "data": {
      "text/html": [
       "<div>\n",
       "<style scoped>\n",
       "    .dataframe tbody tr th:only-of-type {\n",
       "        vertical-align: middle;\n",
       "    }\n",
       "\n",
       "    .dataframe tbody tr th {\n",
       "        vertical-align: top;\n",
       "    }\n",
       "\n",
       "    .dataframe thead th {\n",
       "        text-align: right;\n",
       "    }\n",
       "</style>\n",
       "<table border=\"1\" class=\"dataframe\">\n",
       "  <thead>\n",
       "    <tr style=\"text-align: right;\">\n",
       "      <th></th>\n",
       "      <th>Tour</th>\n",
       "      <th>Type</th>\n",
       "      <th>Duration</th>\n",
       "      <th>Price</th>\n",
       "      <th>Price Per</th>\n",
       "      <th>Cancellation</th>\n",
       "      <th>Tour By</th>\n",
       "      <th>City</th>\n",
       "      <th>Country</th>\n",
       "      <th>Image</th>\n",
       "      <th>Link to agency</th>\n",
       "    </tr>\n",
       "  </thead>\n",
       "  <tbody>\n",
       "    <tr>\n",
       "      <th>0</th>\n",
       "      <td>Abu Dhabi Full-Day Sightseeing Tour from Dubai</td>\n",
       "      <td>Bus Tours</td>\n",
       "      <td>6.0</td>\n",
       "      <td>40.000000</td>\n",
       "      <td>per adult</td>\n",
       "      <td>Free cancellation</td>\n",
       "      <td>By RAH Tourism</td>\n",
       "      <td>Abu Dhabi</td>\n",
       "      <td>United Arab Emirates</td>\n",
       "      <td>https://dynamic-media-cdn.tripadvisor.com/medi...</td>\n",
       "      <td>https://www.tripadvisor.com/Attraction_Review-...</td>\n",
       "    </tr>\n",
       "    <tr>\n",
       "      <th>1</th>\n",
       "      <td>Evening Desert Safari With BBQ Dinner, Camel R...</td>\n",
       "      <td>Shore Excursions</td>\n",
       "      <td>6.0</td>\n",
       "      <td>83.000000</td>\n",
       "      <td>per adult</td>\n",
       "      <td>Free cancellation</td>\n",
       "      <td>By Emirates Tours and Safaris</td>\n",
       "      <td>Abu Dhabi</td>\n",
       "      <td>United Arab Emirates</td>\n",
       "      <td>https://dynamic-media-cdn.tripadvisor.com/medi...</td>\n",
       "      <td>https://www.tripadvisor.com/Attraction_Review-...</td>\n",
       "    </tr>\n",
       "    <tr>\n",
       "      <th>2</th>\n",
       "      <td>Dubai to Abu Dhabi Grand Mosque &amp; Qasr Al Wata...</td>\n",
       "      <td>Bus Tours</td>\n",
       "      <td>8.5</td>\n",
       "      <td>109.000000</td>\n",
       "      <td>per adult</td>\n",
       "      <td>Free cancellation</td>\n",
       "      <td>By OceanAir Travels</td>\n",
       "      <td>Abu Dhabi</td>\n",
       "      <td>United Arab Emirates</td>\n",
       "      <td>https://dynamic-media-cdn.tripadvisor.com/medi...</td>\n",
       "      <td>https://www.tripadvisor.com/Attraction_Review-...</td>\n",
       "    </tr>\n",
       "    <tr>\n",
       "      <th>3</th>\n",
       "      <td>Abu Dhabi Private City Tour</td>\n",
       "      <td>Bus Tours</td>\n",
       "      <td>5.0</td>\n",
       "      <td>200.000000</td>\n",
       "      <td>per group</td>\n",
       "      <td>Free cancellation</td>\n",
       "      <td>By RAH Tourism</td>\n",
       "      <td>Abu Dhabi</td>\n",
       "      <td>United Arab Emirates</td>\n",
       "      <td>https://dynamic-media-cdn.tripadvisor.com/medi...</td>\n",
       "      <td>https://www.tripadvisor.com/Attraction_Review-...</td>\n",
       "    </tr>\n",
       "    <tr>\n",
       "      <th>4</th>\n",
       "      <td>Abu Dhabi City Tour - Grand Mosque, Emirates P...</td>\n",
       "      <td>Bus Tours</td>\n",
       "      <td>8.5</td>\n",
       "      <td>75.000000</td>\n",
       "      <td>per adult</td>\n",
       "      <td>Free cancellation</td>\n",
       "      <td>By RAH Tourism</td>\n",
       "      <td>Abu Dhabi</td>\n",
       "      <td>United Arab Emirates</td>\n",
       "      <td>https://dynamic-media-cdn.tripadvisor.com/medi...</td>\n",
       "      <td>https://www.tripadvisor.com/Attraction_Review-...</td>\n",
       "    </tr>\n",
       "    <tr>\n",
       "      <th>...</th>\n",
       "      <td>...</td>\n",
       "      <td>...</td>\n",
       "      <td>...</td>\n",
       "      <td>...</td>\n",
       "      <td>...</td>\n",
       "      <td>...</td>\n",
       "      <td>...</td>\n",
       "      <td>...</td>\n",
       "      <td>...</td>\n",
       "      <td>...</td>\n",
       "      <td>...</td>\n",
       "    </tr>\n",
       "    <tr>\n",
       "      <th>10884</th>\n",
       "      <td>Extreme Adventure Tour</td>\n",
       "      <td>Adventure Tours</td>\n",
       "      <td>5.0</td>\n",
       "      <td>59.709999</td>\n",
       "      <td>per adult</td>\n",
       "      <td>Free cancellation</td>\n",
       "      <td>By Planet Tours &amp; Safaris</td>\n",
       "      <td>Dubai</td>\n",
       "      <td>United Arab Emirates</td>\n",
       "      <td>https://dynamic-media-cdn.tripadvisor.com/medi...</td>\n",
       "      <td>https://www.tripadvisor.com/Attraction_Review-...</td>\n",
       "    </tr>\n",
       "    <tr>\n",
       "      <th>10885</th>\n",
       "      <td>Speed Boat Tour : 60 Mins, 75 Mins 90 Mins BLA...</td>\n",
       "      <td>Speed Boats</td>\n",
       "      <td>1.5</td>\n",
       "      <td>45.000000</td>\n",
       "      <td>per adult</td>\n",
       "      <td>Free cancellation</td>\n",
       "      <td>By Top 10 Dubai Tours</td>\n",
       "      <td>Dubai</td>\n",
       "      <td>United Arab Emirates</td>\n",
       "      <td>https://dynamic-media-cdn.tripadvisor.com/medi...</td>\n",
       "      <td>https://www.tripadvisor.com/Attraction_Review-...</td>\n",
       "    </tr>\n",
       "    <tr>\n",
       "      <th>10886</th>\n",
       "      <td>Premium 1 Hr Quad Biking with Refreshments , C...</td>\n",
       "      <td>Adventure Tours</td>\n",
       "      <td>4.0</td>\n",
       "      <td>65.129997</td>\n",
       "      <td>per adult</td>\n",
       "      <td>Free cancellation</td>\n",
       "      <td>By Trawey Tours</td>\n",
       "      <td>Dubai</td>\n",
       "      <td>United Arab Emirates</td>\n",
       "      <td>https://dynamic-media-cdn.tripadvisor.com/medi...</td>\n",
       "      <td>https://www.tripadvisor.com/Attraction_Review-...</td>\n",
       "    </tr>\n",
       "    <tr>\n",
       "      <th>10887</th>\n",
       "      <td>Evening Safari with Quad Bike, Camel Riding, B...</td>\n",
       "      <td>Adventure Tours</td>\n",
       "      <td>6.0</td>\n",
       "      <td>140.000000</td>\n",
       "      <td>per adult</td>\n",
       "      <td>Free cancellation</td>\n",
       "      <td>By Arabian Tour Packages</td>\n",
       "      <td>Dubai</td>\n",
       "      <td>United Arab Emirates</td>\n",
       "      <td>https://dynamic-media-cdn.tripadvisor.com/medi...</td>\n",
       "      <td>https://www.tripadvisor.com/Attraction_Review-...</td>\n",
       "    </tr>\n",
       "    <tr>\n",
       "      <th>10888</th>\n",
       "      <td>Desert Safari with BBQ Dinner in Dubai Desert</td>\n",
       "      <td>Adventure Tours</td>\n",
       "      <td>6.0</td>\n",
       "      <td>55.000000</td>\n",
       "      <td>per adult</td>\n",
       "      <td>Free cancellation</td>\n",
       "      <td>By Dubai Safaris Tour</td>\n",
       "      <td>Dubai</td>\n",
       "      <td>United Arab Emirates</td>\n",
       "      <td>https://dynamic-media-cdn.tripadvisor.com/medi...</td>\n",
       "      <td>https://www.tripadvisor.com/Attraction_Review-...</td>\n",
       "    </tr>\n",
       "  </tbody>\n",
       "</table>\n",
       "<p>10889 rows × 11 columns</p>\n",
       "</div>"
      ],
      "text/plain": [
       "                                                    Tour              Type  \\\n",
       "0         Abu Dhabi Full-Day Sightseeing Tour from Dubai         Bus Tours   \n",
       "1      Evening Desert Safari With BBQ Dinner, Camel R...  Shore Excursions   \n",
       "2      Dubai to Abu Dhabi Grand Mosque & Qasr Al Wata...         Bus Tours   \n",
       "3                            Abu Dhabi Private City Tour         Bus Tours   \n",
       "4      Abu Dhabi City Tour - Grand Mosque, Emirates P...         Bus Tours   \n",
       "...                                                  ...               ...   \n",
       "10884                             Extreme Adventure Tour   Adventure Tours   \n",
       "10885  Speed Boat Tour : 60 Mins, 75 Mins 90 Mins BLA...       Speed Boats   \n",
       "10886  Premium 1 Hr Quad Biking with Refreshments , C...   Adventure Tours   \n",
       "10887  Evening Safari with Quad Bike, Camel Riding, B...   Adventure Tours   \n",
       "10888      Desert Safari with BBQ Dinner in Dubai Desert   Adventure Tours   \n",
       "\n",
       "       Duration       Price  Price Per       Cancellation  \\\n",
       "0           6.0   40.000000  per adult  Free cancellation   \n",
       "1           6.0   83.000000  per adult  Free cancellation   \n",
       "2           8.5  109.000000  per adult  Free cancellation   \n",
       "3           5.0  200.000000  per group  Free cancellation   \n",
       "4           8.5   75.000000  per adult  Free cancellation   \n",
       "...         ...         ...        ...                ...   \n",
       "10884       5.0   59.709999  per adult  Free cancellation   \n",
       "10885       1.5   45.000000  per adult  Free cancellation   \n",
       "10886       4.0   65.129997  per adult  Free cancellation   \n",
       "10887       6.0  140.000000  per adult  Free cancellation   \n",
       "10888       6.0   55.000000  per adult  Free cancellation   \n",
       "\n",
       "                             Tour By       City               Country  \\\n",
       "0                     By RAH Tourism  Abu Dhabi  United Arab Emirates   \n",
       "1      By Emirates Tours and Safaris  Abu Dhabi  United Arab Emirates   \n",
       "2                By OceanAir Travels  Abu Dhabi  United Arab Emirates   \n",
       "3                     By RAH Tourism  Abu Dhabi  United Arab Emirates   \n",
       "4                     By RAH Tourism  Abu Dhabi  United Arab Emirates   \n",
       "...                              ...        ...                   ...   \n",
       "10884      By Planet Tours & Safaris      Dubai  United Arab Emirates   \n",
       "10885          By Top 10 Dubai Tours      Dubai  United Arab Emirates   \n",
       "10886                By Trawey Tours      Dubai  United Arab Emirates   \n",
       "10887       By Arabian Tour Packages      Dubai  United Arab Emirates   \n",
       "10888          By Dubai Safaris Tour      Dubai  United Arab Emirates   \n",
       "\n",
       "                                                   Image  \\\n",
       "0      https://dynamic-media-cdn.tripadvisor.com/medi...   \n",
       "1      https://dynamic-media-cdn.tripadvisor.com/medi...   \n",
       "2      https://dynamic-media-cdn.tripadvisor.com/medi...   \n",
       "3      https://dynamic-media-cdn.tripadvisor.com/medi...   \n",
       "4      https://dynamic-media-cdn.tripadvisor.com/medi...   \n",
       "...                                                  ...   \n",
       "10884  https://dynamic-media-cdn.tripadvisor.com/medi...   \n",
       "10885  https://dynamic-media-cdn.tripadvisor.com/medi...   \n",
       "10886  https://dynamic-media-cdn.tripadvisor.com/medi...   \n",
       "10887  https://dynamic-media-cdn.tripadvisor.com/medi...   \n",
       "10888  https://dynamic-media-cdn.tripadvisor.com/medi...   \n",
       "\n",
       "                                          Link to agency  \n",
       "0      https://www.tripadvisor.com/Attraction_Review-...  \n",
       "1      https://www.tripadvisor.com/Attraction_Review-...  \n",
       "2      https://www.tripadvisor.com/Attraction_Review-...  \n",
       "3      https://www.tripadvisor.com/Attraction_Review-...  \n",
       "4      https://www.tripadvisor.com/Attraction_Review-...  \n",
       "...                                                  ...  \n",
       "10884  https://www.tripadvisor.com/Attraction_Review-...  \n",
       "10885  https://www.tripadvisor.com/Attraction_Review-...  \n",
       "10886  https://www.tripadvisor.com/Attraction_Review-...  \n",
       "10887  https://www.tripadvisor.com/Attraction_Review-...  \n",
       "10888  https://www.tripadvisor.com/Attraction_Review-...  \n",
       "\n",
       "[10889 rows x 11 columns]"
      ]
     },
     "execution_count": 52,
     "metadata": {},
     "output_type": "execute_result"
    }
   ],
   "source": [
    "# reset the index\n",
    "df_clean.reset_index(drop=True)"
   ]
  },
  {
   "cell_type": "code",
   "execution_count": 53,
   "metadata": {},
   "outputs": [
    {
     "name": "stdout",
     "output_type": "stream",
     "text": [
      "<class 'pandas.core.frame.DataFrame'>\n",
      "Int64Index: 10889 entries, 1 to 17573\n",
      "Data columns (total 11 columns):\n",
      " #   Column          Non-Null Count  Dtype  \n",
      "---  ------          --------------  -----  \n",
      " 0   Tour            10889 non-null  object \n",
      " 1   Type            10889 non-null  object \n",
      " 2   Duration        10889 non-null  float32\n",
      " 3   Price           10889 non-null  float32\n",
      " 4   Price Per       10889 non-null  object \n",
      " 5   Cancellation    10889 non-null  object \n",
      " 6   Tour By         10889 non-null  object \n",
      " 7   City            10889 non-null  object \n",
      " 8   Country         10889 non-null  object \n",
      " 9   Image           10889 non-null  object \n",
      " 10  Link to agency  10889 non-null  object \n",
      "dtypes: float32(2), object(9)\n",
      "memory usage: 935.8+ KB\n"
     ]
    }
   ],
   "source": [
    "# to check the last changes\n",
    "df_clean.info()"
   ]
  },
  {
   "cell_type": "code",
   "execution_count": 54,
   "metadata": {},
   "outputs": [],
   "source": [
    "# Store the clean dataset\n",
    "df_clean.to_csv('clean_df.csv')"
   ]
  }
 ],
 "metadata": {
  "interpreter": {
   "hash": "2921360646c6f5c3a0729850114a5b22e8fb4acfaad82aa3253023e7dda6a667"
  },
  "kernelspec": {
   "display_name": "Python 3.9.10 64-bit (windows store)",
   "language": "python",
   "name": "python3"
  },
  "language_info": {
   "codemirror_mode": {
    "name": "ipython",
    "version": 3
   },
   "file_extension": ".py",
   "mimetype": "text/x-python",
   "name": "python",
   "nbconvert_exporter": "python",
   "pygments_lexer": "ipython3",
   "version": "3.9.10"
  },
  "orig_nbformat": 4
 },
 "nbformat": 4,
 "nbformat_minor": 2
}

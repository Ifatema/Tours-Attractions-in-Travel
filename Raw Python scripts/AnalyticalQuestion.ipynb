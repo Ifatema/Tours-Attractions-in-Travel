{
 "cells": [
  {
   "cell_type": "code",
   "execution_count": null,
   "metadata": {},
   "outputs": [],
   "source": [
    "# importing libraries\n",
    "import pandas as pd\n",
    "import numpy as np\n",
    "import matplotlib.pyplot as plt\n",
    "import seaborn as sns\n",
    "import folium\n",
    "import plotly.express as px"
   ]
  },
  {
   "cell_type": "code",
   "execution_count": null,
   "metadata": {},
   "outputs": [],
   "source": [
    "# reading tour dataframes\n",
    "df = pd.read_csv(r'..\\EDA\\clean_df.csv')"
   ]
  },
  {
   "cell_type": "code",
   "execution_count": null,
   "metadata": {},
   "outputs": [],
   "source": [
    "# drop the Unnamed: 0 column\n",
    "df.drop('Unnamed: 0', axis=1, inplace=True)"
   ]
  },
  {
   "cell_type": "code",
   "execution_count": null,
   "metadata": {},
   "outputs": [],
   "source": [
    "# show randomly 15 rows\n",
    "df.sample(n = 15)"
   ]
  },
  {
   "cell_type": "markdown",
   "metadata": {},
   "source": [
    "### *Questions:*\n",
    "In this section I will answer analytical questions related to the data.\n",
    "<br>\n",
    "\n",
    "##### 1. How long most tours are? What is the average tour price for that?"
   ]
  },
  {
   "cell_type": "code",
   "execution_count": null,
   "metadata": {},
   "outputs": [],
   "source": [
    "# find the median of the Duration\n",
    "median_Duration = df['Duration'].median()\n",
    "print('The median duration for the tours in this dataset is', median_Duration ,'hours long')"
   ]
  },
  {
   "cell_type": "code",
   "execution_count": null,
   "metadata": {},
   "outputs": [],
   "source": [
    "# split the Duration in the dataset into two lists less than the median and greater than the median (4 hours long)\n",
    "short = df.query('Duration < {}'.format(median_Duration))\n",
    "long = df.query('Duration >= {}'.format(median_Duration))\n",
    "\n",
    "# split the average Price based on the long of duration\n",
    "short_price = short['Price'].mean()\n",
    "long_price = long['Price'].mean()"
   ]
  },
  {
   "cell_type": "code",
   "execution_count": null,
   "metadata": {},
   "outputs": [],
   "source": [
    "# bar plot to find the average price for each type of tour duration (short & long)\n",
    "locations = [1, 2]\n",
    "heights = [short_price, long_price]\n",
    "labels = ['short Tour', 'long Tour']\n",
    "plt.figure(figsize=(15,8))\n",
    "plt.bar(locations, heights, tick_label=labels,color=['#458B74'])\n",
    "plt.title('Average Price by Tour Duration Time',fontsize=22, color ='#000000')\n",
    "plt.xticks( color ='#000000',fontsize=12)\n",
    "plt.yticks(color ='#000000',fontsize=12)\n",
    "plt.xlabel('Duration in hours',fontsize=15, color ='#000000')\n",
    "plt.ylabel('Average Price in $',fontsize=15, color ='#000000');"
   ]
  },
  {
   "cell_type": "markdown",
   "metadata": {},
   "source": [
    "##### 2. How does the tour duration affect the tour price?"
   ]
  },
  {
   "cell_type": "code",
   "execution_count": null,
   "metadata": {},
   "outputs": [],
   "source": [
    "# scatter plot to show the relationship between the duration & price\n",
    "x = df['Duration']\n",
    "y = df['Price']\n",
    "plt.style.use('seaborn-darkgrid')\n",
    "plt.figure(figsize=(20,10))\n",
    "plt.scatter(x, y, c='#458B74', s=100, alpha=0.5)\n",
    "plt.xticks( color ='#000000',fontsize=12)\n",
    "plt.yticks(color ='#000000',fontsize=12)\n",
    "plt.xlabel('Tour Duration in hours',fontsize=20, color ='#000000')\n",
    "plt.ylabel('Tour Price in $',fontsize=20, color ='#000000')\n",
    "plt.title('Tour Duration vs Tour Price',fontsize=22, color ='#000000');"
   ]
  },
  {
   "cell_type": "markdown",
   "metadata": {},
   "source": [
    "##### 3. Compare the tours average price of different countries.\n",
    "*3.1 Regardless the other features* "
   ]
  },
  {
   "cell_type": "code",
   "execution_count": null,
   "metadata": {},
   "outputs": [],
   "source": [
    "# group the average price by the country column regardless other fetures\n",
    "groups = df.groupby(['Country']).Price.agg(['mean'])\n",
    "groups.plot.bar(figsize=(20,10), color=('#458B74'))\n",
    "plt.title('Average Tour Price in Each Country',fontsize=22, color ='#000000')\n",
    "plt.xlabel('Country',fontsize=22, color ='#000000')\n",
    "plt.ylabel('Average Price in $',fontsize=22, color ='#000000')\n",
    "plt.yticks(fontsize=15)\n",
    "plt.xticks(fontsize=15)\n",
    "plt.show()"
   ]
  },
  {
   "cell_type": "code",
   "execution_count": null,
   "metadata": {},
   "outputs": [],
   "source": [
    "# check the maximum price if the country == Oman \n",
    "df.loc[df['Country']== 'Oman']['Price'].max()"
   ]
  },
  {
   "cell_type": "code",
   "execution_count": null,
   "metadata": {},
   "outputs": [],
   "source": [
    "# check why Oman has the highest average\n",
    "df.loc[df['Price']==5452.47]"
   ]
  },
  {
   "cell_type": "code",
   "execution_count": null,
   "metadata": {},
   "outputs": [],
   "source": [
    "# groupby the Price per adult/group \n",
    "pd.crosstab(df['Country'],df['Price Per']).plot.bar(figsize=(20,10), color=('#458B74','#E3CF57'))\n",
    "\n",
    "plt.title('Average Price per (Adult/Group) in Each Country',fontsize=22, color ='#000000')\n",
    "plt.xlabel('Country',fontsize=22, color ='#000000')\n",
    "plt.ylabel('Average Price in $',fontsize=22, color ='#000000')\n",
    "plt.yticks(fontsize=12)\n",
    "plt.xticks(fontsize=12)\n",
    "plt.show()"
   ]
  },
  {
   "cell_type": "markdown",
   "metadata": {},
   "source": [
    "##### 4. Compare distribution of tour price for different cities (can be reproducible)"
   ]
  },
  {
   "cell_type": "code",
   "execution_count": null,
   "metadata": {},
   "outputs": [],
   "source": [
    "# histogram to show the distribution of the price for a specific city (Change the name of the city)\n",
    "city = df[df['City'] == 'Beijing']\n",
    "city['Price'].hist(figsize=(15,8), color= ('#458B74'))\n",
    "plt.xlabel('Price in $',fontsize=12, color ='#000000')\n",
    "plt.ylabel('Density',fontsize=12, color ='#000000')\n",
    "plt.title('Distribution of the Tour Price per City (Beijing)',fontsize=22, color ='#000000');"
   ]
  },
  {
   "cell_type": "code",
   "execution_count": null,
   "metadata": {},
   "outputs": [],
   "source": [
    "# histogram to show the distribution of the price for a specific city (Change the name of the city)\n",
    "city = df[df['City'] == 'Shanghai']\n",
    "city['Price'].hist(figsize=(15,8),color= ('#458B74'))\n",
    "plt.xlabel('Price in $',fontsize=12, color ='#000000')\n",
    "plt.ylabel('Density',fontsize=12, color ='#000000')\n",
    "plt.title('Distribution of the Tour Price per City (Shanghai)',fontsize=22, color ='#000000');"
   ]
  },
  {
   "cell_type": "code",
   "execution_count": null,
   "metadata": {},
   "outputs": [],
   "source": [
    "# histogram to show the distribution of the price for a specific city (Change the name of the city)\n",
    "city = df[df['City'] == 'Hong Kong']\n",
    "city['Price'].hist(figsize=(15,8), color= ('#458B74'))\n",
    "plt.xlabel('Price in $',fontsize=12, color ='#000000')\n",
    "plt.ylabel('Density',fontsize=12, color ='#000000')\n",
    "plt.title('Distribution of the Tour Price per City (Hong Kong)',fontsize=22, color ='#000000');"
   ]
  },
  {
   "cell_type": "markdown",
   "metadata": {},
   "source": [
    "##### 5. How does the tour type affect the tour price?"
   ]
  },
  {
   "cell_type": "code",
   "execution_count": null,
   "metadata": {},
   "outputs": [],
   "source": [
    "# What is the average price in each Type?\n",
    "df.groupby(['Type']).Price.agg(['mean']).plot.bar(figsize=(50,20), color=('#458B74'))\n",
    "plt.title('Average Tour Price in based on Tour Type',fontsize=45, color ='#000000')\n",
    "plt.xlabel('Tour Type',fontsize=35, color ='#000000')\n",
    "plt.ylabel('Average Price in $',fontsize=35, color ='#000000')\n",
    "plt.yticks(fontsize=20)\n",
    "plt.xticks(fontsize=20)\n",
    "plt.show()"
   ]
  },
  {
   "cell_type": "markdown",
   "metadata": {},
   "source": [
    "### City Map"
   ]
  },
  {
   "cell_type": "code",
   "execution_count": null,
   "metadata": {},
   "outputs": [],
   "source": [
    "# see the unique values in City column to add the Latitude and Longitude columns \n",
    "df.City.unique()"
   ]
  },
  {
   "cell_type": "code",
   "execution_count": null,
   "metadata": {},
   "outputs": [],
   "source": [
    "# add Latitude for each city\n",
    "def Latitude (row):\n",
    "   if row['City'] == 'Abu Dhabi' :\n",
    "      return 24.4539\n",
    "   if row['City'] == 'Al Ula' :\n",
    "      return 26.6031\n",
    "   if row['City'] == 'Antalya' :\n",
    "      return 36.8969\n",
    "   if row['City'] == 'Beijing':\n",
    "      return 39.9042\n",
    "   if row['City']  == 'Berlin':\n",
    "      return 52.5200\n",
    "   if row['City'] == 'Buenos Aires':\n",
    "      return 34.6037\n",
    "   if row['City'] == 'Cairo':\n",
    "      return 30.0444\n",
    "   if row['City'] == 'Cape Town':\n",
    "      return 33.9249\n",
    "   if row['City']  == 'Chicago':\n",
    "      return 41.8781\n",
    "   if row['City'] == 'Riyadh':\n",
    "      return 24.7136\n",
    "   if row['City'] == 'Athens':\n",
    "      return 37.9838\n",
    "   if row['City'] == 'Doha':\n",
    "      return 25.2854\n",
    "   if row['City']  == 'Istanbul':\n",
    "      return 41.0082\n",
    "   if row['City'] == 'Jeddah':\n",
    "      return 21.4858\n",
    "   if row['City'] == 'Kuala Lumpur':\n",
    "      return 3.1390\n",
    "   if row['City'] == 'London':\n",
    "      return 51.5072\n",
    "   if row['City']  == 'Madrid':\n",
    "      return 40.4168\n",
    "   if row['City'] == 'Marrakech':\n",
    "      return 31.6295\n",
    "   if row['City'] == 'Mumbai':\n",
    "      return 19.0760\n",
    "   if row['City'] == 'Muscat':\n",
    "      return 23.5880\n",
    "   if row['City']  == 'New York':\n",
    "      return 40.7128\n",
    "   if row['City'] == 'Orlando':\n",
    "      return 28.5384\n",
    "   if row['City'] == 'Rio de Janeiro':\n",
    "      return 22.9068\n",
    "   if row['City'] == 'Paris':\n",
    "      return 48.8566\n",
    "   if row['City'] == 'Rome':\n",
    "      return 41.9028\n",
    "   if row['City'] == 'Singapore':\n",
    "      return 1.3521\n",
    "   if row['City'] == 'Shanghai':\n",
    "      return 31.2304\n",
    "   if row['City'] == 'Seoul':\n",
    "      return 37.5665\n",
    "   if row['City'] == 'Tokyo':\n",
    "      return 35.6762\n",
    "   if row['City'] == 'Amsterdam':\n",
    "      return 52.3676\n",
    "   if row['City'] == 'Barcelona':\n",
    "      return 41.3874\n",
    "   if row['City'] == 'Hong Kong':\n",
    "      return 22.3193\n",
    "   if row['City'] == 'Los Angeles':\n",
    "      return 34.0522\n",
    "   if row['City'] == 'Las Vegas':\n",
    "      return 36.1699\n",
    "   if row['City'] == 'Mexico City':\n",
    "      return 19.4326\n",
    "   if row['City'] == 'Sydney':\n",
    "      return 33.8688\n",
    "   if row['City'] == 'Toronto':\n",
    "      return 43.6532\n",
    "   if row['City'] == 'Vienna':\n",
    "      return 48.2082\n",
    "   if row['City'] == 'Dubai':\n",
    "      return 55.2708\n",
    "   return 'Other'"
   ]
  },
  {
   "cell_type": "code",
   "execution_count": null,
   "metadata": {},
   "outputs": [],
   "source": [
    "# add Longitude for each city\n",
    "def Longitude (row):\n",
    "   if row['City'] == 'Abu Dhabi' :\n",
    "      return 54.3773\n",
    "   if row['City'] == 'Al Ula' :\n",
    "      return 37.9295\n",
    "   if row['City'] == 'Antalya' :\n",
    "      return 30.7133\n",
    "   if row['City'] == 'Beijing':\n",
    "      return 116.4074\n",
    "   if row['City']  == 'Berlin':\n",
    "      return 13.4050\n",
    "   if row['City'] == 'Buenos Aires':\n",
    "      return 58.3816\n",
    "   if row['City'] == 'Cairo':\n",
    "      return 31.2357\n",
    "   if row['City'] == 'Cape Town':\n",
    "      return 18.4241\n",
    "   if row['City']  == 'Chicago':\n",
    "      return 87.6298\n",
    "   if row['City'] == 'Riyadh':\n",
    "      return 46.6753\n",
    "   if row['City'] == 'Athens':\n",
    "      return 23.7275\n",
    "   if row['City'] == 'Doha':\n",
    "      return 51.5310\n",
    "   if row['City']  == 'Istanbul':\n",
    "      return 28.9784\n",
    "   if row['City'] == 'Jeddah':\n",
    "      return 39.1925\n",
    "   if row['City'] == 'Kuala Lumpur':\n",
    "      return 101.6869\n",
    "   if row['City'] == 'London':\n",
    "      return 0.1276\n",
    "   if row['City']  == 'Madrid':\n",
    "      return 3.7038\n",
    "   if row['City'] == 'Marrakech':\n",
    "      return 7.9811\n",
    "   if row['City'] == 'Mumbai':\n",
    "      return 72.8777\n",
    "   if row['City'] == 'Muscat':\n",
    "      return 58.3829\n",
    "   if row['City']  == 'New York':\n",
    "      return 74.0060\n",
    "   if row['City'] == 'Orlando':\n",
    "      return 81.3789\n",
    "   if row['City'] == 'Rio de Janeiro':\n",
    "      return 43.1729\n",
    "   if row['City'] == 'Paris':\n",
    "      return 2.3522\n",
    "   if row['City'] == 'Rome':\n",
    "      return 12.4964\n",
    "   if row['City'] == 'Singapore':\n",
    "      return 103.8198\n",
    "   if row['City'] == 'Shanghai':\n",
    "      return 121.4737\n",
    "   if row['City'] == 'Seoul':\n",
    "      return 126.9780\n",
    "   if row['City'] == 'Tokyo':\n",
    "      return 139.6503\n",
    "   if row['City'] == 'Amsterdam':\n",
    "      return 4.9041\n",
    "   if row['City'] == 'Barcelona':\n",
    "      return 2.1686\n",
    "   if row['City'] == 'Hong Kong':\n",
    "      return 114.1694\n",
    "   if row['City'] == 'Los Angeles':\n",
    "      return 118.2437\n",
    "   if row['City'] == 'Las Vegas':\n",
    "      return 115.1398\n",
    "   if row['City'] == 'Mexico City':\n",
    "      return 99.1332\n",
    "   if row['City'] == 'Sydney':\n",
    "      return 151.2093\n",
    "   if row['City'] == 'Toronto':\n",
    "      return 79.3832\n",
    "   if row['City'] == 'Vienna':\n",
    "      return 16.3738\n",
    "   if row['City'] == 'Dubai':\n",
    "      return 25.2048\n",
    "   return 'Other'"
   ]
  },
  {
   "cell_type": "code",
   "execution_count": null,
   "metadata": {},
   "outputs": [],
   "source": [
    "# add new column for Latitude\n",
    "df['Latitude'] = df.apply (lambda row: Latitude(row), axis=1)"
   ]
  },
  {
   "cell_type": "code",
   "execution_count": null,
   "metadata": {},
   "outputs": [],
   "source": [
    "# add new column for Longitude\n",
    "df['Longitude'] = df.apply (lambda row: Longitude(row), axis=1)"
   ]
  },
  {
   "cell_type": "code",
   "execution_count": null,
   "metadata": {},
   "outputs": [],
   "source": [
    "# to check the new columns\n",
    "df.sample()"
   ]
  },
  {
   "cell_type": "code",
   "execution_count": null,
   "metadata": {},
   "outputs": [],
   "source": [
    "# map dictionary \n",
    "my_map = folium.Map(\n",
    "    location= [25.3800, 49.5888],\n",
    "    zoom_start=2\n",
    ")\n",
    "my_map\n",
    "\n",
    "# loop all the cities in the dataset\n",
    "for _, city in df.iterrows():\n",
    "    folium.Marker(\n",
    "        location=[city['Latitude'], city['Longitude']],\n",
    "        popup= city['City'],\n",
    "        tooltip= city['City']\n",
    "        ).add_to(my_map)\n",
    "\n",
    "my_map"
   ]
  },
  {
   "cell_type": "code",
   "execution_count": null,
   "metadata": {},
   "outputs": [],
   "source": [
    "# saving the map\n",
    "my_map.save('tourCitiesMap.html')"
   ]
  }
 ],
 "metadata": {
  "interpreter": {
   "hash": "2921360646c6f5c3a0729850114a5b22e8fb4acfaad82aa3253023e7dda6a667"
  },
  "kernelspec": {
   "display_name": "Python 3.9.10 64-bit (windows store)",
   "language": "python",
   "name": "python3"
  },
  "language_info": {
   "codemirror_mode": {
    "name": "ipython",
    "version": 3
   },
   "file_extension": ".py",
   "mimetype": "text/x-python",
   "name": "python",
   "nbconvert_exporter": "python",
   "pygments_lexer": "ipython3",
   "version": "3.9.10"
  },
  "orig_nbformat": 4
 },
 "nbformat": 4,
 "nbformat_minor": 2
}

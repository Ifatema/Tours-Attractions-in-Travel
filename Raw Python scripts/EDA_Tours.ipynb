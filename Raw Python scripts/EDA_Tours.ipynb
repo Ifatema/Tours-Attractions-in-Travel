{
 "cells": [
  {
   "cell_type": "code",
   "execution_count": null,
   "metadata": {},
   "outputs": [],
   "source": [
    "# importing libraries\n",
    "import pandas as pd\n",
    "import numpy as np\n",
    "import matplotlib.pyplot as plt\n",
    "import seaborn as sns"
   ]
  },
  {
   "cell_type": "code",
   "execution_count": null,
   "metadata": {},
   "outputs": [],
   "source": [
    "# reading tour dataframes\n",
    "df = pd.read_csv(r'..\\Tour data\\all_Tours.csv')"
   ]
  },
  {
   "cell_type": "code",
   "execution_count": null,
   "metadata": {},
   "outputs": [],
   "source": [
    "# showing the first 5 rows\n",
    "df.head()"
   ]
  },
  {
   "cell_type": "code",
   "execution_count": null,
   "metadata": {},
   "outputs": [],
   "source": [
    "# information about the dataframe\n",
    "df.info()"
   ]
  },
  {
   "cell_type": "code",
   "execution_count": null,
   "metadata": {},
   "outputs": [],
   "source": [
    "# making copy for cleaning\n",
    "df_clean = df.copy()"
   ]
  },
  {
   "cell_type": "markdown",
   "metadata": {},
   "source": [
    "## Cleaning "
   ]
  },
  {
   "cell_type": "markdown",
   "metadata": {},
   "source": [
    "*1. General cleaning* <br>\n",
    "*1.1 Drop the null values*"
   ]
  },
  {
   "cell_type": "code",
   "execution_count": null,
   "metadata": {},
   "outputs": [],
   "source": [
    "# drop the null value\n",
    "df_clean = df_clean.dropna()"
   ]
  },
  {
   "cell_type": "markdown",
   "metadata": {},
   "source": [
    "*1.2 Rename Tour Name, Tour Type, Tour Duration, Tour Price & Link columns*"
   ]
  },
  {
   "cell_type": "code",
   "execution_count": null,
   "metadata": {},
   "outputs": [],
   "source": [
    "# renaming the columns\n",
    "df_clean.rename(columns={'Tour Name':'Tour', 'Tour Type':'Type', 'Tour Duration':'Duration', 'Tour Price':'Price', 'Link':'Link to agency'}, inplace=True)"
   ]
  },
  {
   "cell_type": "code",
   "execution_count": null,
   "metadata": {},
   "outputs": [],
   "source": [
    "# check the above\n",
    "df_clean.info()"
   ]
  },
  {
   "cell_type": "markdown",
   "metadata": {},
   "source": [
    "*2. Specific column cleaning*\n",
    "<br>\n",
    "*2.1 Remove unnecessary column*"
   ]
  },
  {
   "cell_type": "code",
   "execution_count": null,
   "metadata": {},
   "outputs": [],
   "source": [
    "# drop the Unnamed: 0 column\n",
    "df_clean.drop('Unnamed: 0', axis=1, inplace=True)"
   ]
  },
  {
   "cell_type": "markdown",
   "metadata": {},
   "source": [
    "*2.2 Image column*"
   ]
  },
  {
   "cell_type": "code",
   "execution_count": null,
   "metadata": {},
   "outputs": [],
   "source": [
    "# Replace the image column\n",
    "df_clean = df_clean[['Tour', 'Type', 'Duration', 'Price', 'Price Per', 'Cancellation','Tour By', 'City', 'Country', 'Image', 'Link to agency']]"
   ]
  },
  {
   "cell_type": "markdown",
   "metadata": {},
   "source": [
    "*2.3 Tour Name column*"
   ]
  },
  {
   "cell_type": "code",
   "execution_count": null,
   "metadata": {},
   "outputs": [],
   "source": [
    "# check the number of unique values in Tour name\n",
    "df_clean['Tour'].nunique()"
   ]
  },
  {
   "cell_type": "code",
   "execution_count": null,
   "metadata": {},
   "outputs": [],
   "source": [
    "# check the value counts in Tour name\n",
    "df_clean['Tour'].value_counts()"
   ]
  },
  {
   "cell_type": "code",
   "execution_count": null,
   "metadata": {},
   "outputs": [],
   "source": [
    "# drop the duplicates in Tour column\n",
    "df_clean.drop_duplicates(subset=['Tour'],inplace=True)"
   ]
  },
  {
   "cell_type": "code",
   "execution_count": null,
   "metadata": {},
   "outputs": [],
   "source": [
    "# to check the above\n",
    "df_clean.info()"
   ]
  },
  {
   "cell_type": "markdown",
   "metadata": {},
   "source": [
    "*2.4 Tour Type column*"
   ]
  },
  {
   "cell_type": "code",
   "execution_count": null,
   "metadata": {},
   "outputs": [],
   "source": [
    "# check the number of unique values in Tour Type\n",
    "df_clean['Type'].nunique()"
   ]
  },
  {
   "cell_type": "code",
   "execution_count": null,
   "metadata": {},
   "outputs": [],
   "source": [
    "# Bar chart for the top 10 Type\n",
    "x = df_clean['Type'].value_counts().head(10).index\n",
    "y = df_clean['Type'].value_counts().head(10)\n",
    "\n",
    "plt.style.use('seaborn-darkgrid')\n",
    "plt.figure(figsize=(20,10))\n",
    "plt.xticks( color ='#000000',fontsize=12, rotation = 15)\n",
    "plt.yticks(color ='#000000',fontsize=12)\n",
    "plt.bar(x, y, color= ('#458B74'), width=0.6)\n",
    "plt.xlabel('Tour Type',fontsize=20, color ='#000000')\n",
    "plt.ylabel('Number of tour',fontsize=20, color ='#000000')\n",
    "plt.title('The top 10 Tour Types',fontsize=22, color ='#000000')\n",
    "plt.show();"
   ]
  },
  {
   "cell_type": "markdown",
   "metadata": {},
   "source": [
    "*2.5 Tour Duration column*"
   ]
  },
  {
   "cell_type": "code",
   "execution_count": null,
   "metadata": {},
   "outputs": [],
   "source": [
    "# check the number of unique values in Tour Duration\n",
    "df_clean['Duration'].nunique()"
   ]
  },
  {
   "cell_type": "code",
   "execution_count": null,
   "metadata": {},
   "outputs": [],
   "source": [
    "# check the value count in Tour Duration\n",
    "df_clean['Duration'].value_counts()"
   ]
  },
  {
   "cell_type": "markdown",
   "metadata": {},
   "source": [
    "*2.5.1 Separate the time value and the duration unit in two columns*"
   ]
  },
  {
   "cell_type": "code",
   "execution_count": null,
   "metadata": {},
   "outputs": [],
   "source": [
    "# separate each the duration (in number) and the unit making new columns\n",
    "df_clean[['Time','Unit']] = df_clean.Duration.str.split(\" \",expand=True)\n",
    "df_clean"
   ]
  },
  {
   "cell_type": "markdown",
   "metadata": {},
   "source": [
    "*2.5.2 Removing other characters in Time column*"
   ]
  },
  {
   "cell_type": "code",
   "execution_count": null,
   "metadata": {},
   "outputs": [],
   "source": [
    "# removing the + sign from Time column, by using str.replace\n",
    "df_clean['Time'] = df_clean['Time'].str.replace('+', '')\n",
    "df_clean['Time'] = df_clean['Time'].str.replace(',', '')"
   ]
  },
  {
   "cell_type": "markdown",
   "metadata": {},
   "source": [
    "*After removing + sign and the comma , now I can separate the other format in Time column* <br> \n",
    "<br>\n",
    "*2.5.3 Separate the numbers in Time column to minimum duration & maximum duration*"
   ]
  },
  {
   "cell_type": "code",
   "execution_count": null,
   "metadata": {},
   "outputs": [],
   "source": [
    "# separate each the Time value in XX-XX this format to two column minD (minimum Duration) & maxD (maximum Duration)\n",
    "df_clean[['minD','maxD']] = df_clean.Time.str.split(\"–\",expand=True)\n",
    "df_clean"
   ]
  },
  {
   "cell_type": "markdown",
   "metadata": {},
   "source": [
    "*2.5.4 Convert data type to float*"
   ]
  },
  {
   "cell_type": "code",
   "execution_count": null,
   "metadata": {},
   "outputs": [],
   "source": [
    "# convert the data type of minD & maxD to float\n",
    "df_clean['minD'] = pd.to_numeric(df_clean['minD'], downcast=\"float\")\n",
    "df_clean['maxD'] = pd.to_numeric(df_clean['maxD'], downcast=\"float\")"
   ]
  },
  {
   "cell_type": "markdown",
   "metadata": {},
   "source": [
    "*2.5.5 Calculate time average*"
   ]
  },
  {
   "cell_type": "code",
   "execution_count": null,
   "metadata": {},
   "outputs": [],
   "source": [
    "# fill the null value in maxD with the same vale in minD for later on average\n",
    "df_clean['maxD'].fillna(df_clean['minD'], inplace=True)"
   ]
  },
  {
   "cell_type": "code",
   "execution_count": null,
   "metadata": {},
   "outputs": [],
   "source": [
    "# calculating the average Time\n",
    "df_clean['AverageTime'] = (df_clean['minD'] + df_clean['maxD']) / 2"
   ]
  },
  {
   "cell_type": "code",
   "execution_count": null,
   "metadata": {},
   "outputs": [],
   "source": [
    "# drop the Duration, Time, minD & maxD columns\n",
    "df_clean.drop(['Duration', 'Time', 'minD','maxD'], axis=1, inplace=True)"
   ]
  },
  {
   "cell_type": "markdown",
   "metadata": {},
   "source": [
    "*2.5.6 Convert time average to hours*"
   ]
  },
  {
   "cell_type": "code",
   "execution_count": null,
   "metadata": {},
   "outputs": [],
   "source": [
    "# Convert days to hours\n",
    "df_clean.loc[df_clean['Unit']=='days', ['AverageTime']] *= 24\n",
    "df_clean.loc[df_clean['Unit']=='days', ['AverageTime']] *= 24\n",
    "\n",
    "# Convert minutes to hours\n",
    "df_clean.loc[df_clean['Unit']=='minutes', ['AverageTime']] /= 60\n",
    "df_clean.loc[df_clean['Unit']=='minute', ['AverageTime']] /= 60\n",
    "\n",
    "# make sure hour will be the same\n",
    "df_clean.loc[df_clean['Unit']=='hours', ['AverageTime']] *= 1\n",
    "df_clean.loc[df_clean['Unit']=='hour', ['AverageTime']] *= 1"
   ]
  },
  {
   "cell_type": "markdown",
   "metadata": {},
   "source": [
    "*2.5.7 Rename, drop and replace columns after convertaing to average time in hour*"
   ]
  },
  {
   "cell_type": "code",
   "execution_count": null,
   "metadata": {},
   "outputs": [],
   "source": [
    "# Rename AverageTime column\n",
    "df_clean.rename(columns={'AverageTime':'Duration'}, inplace=True)"
   ]
  },
  {
   "cell_type": "code",
   "execution_count": null,
   "metadata": {},
   "outputs": [],
   "source": [
    "# drop the Unit column\n",
    "df_clean.drop('Unit', axis=1, inplace=True)"
   ]
  },
  {
   "cell_type": "code",
   "execution_count": null,
   "metadata": {},
   "outputs": [],
   "source": [
    "# Replace the duration column\n",
    "df_clean = df_clean[['Tour', 'Type', 'Duration', 'Price', 'Price Per', 'Cancellation','Tour By', 'City', 'Country', 'Image', 'Link to agency']]"
   ]
  },
  {
   "cell_type": "code",
   "execution_count": null,
   "metadata": {},
   "outputs": [],
   "source": [
    "# limit a float to two decimal places\n",
    "df_clean.Duration = round(df_clean.Duration, 2)"
   ]
  },
  {
   "cell_type": "code",
   "execution_count": null,
   "metadata": {},
   "outputs": [],
   "source": [
    "# check the values\n",
    "df_clean.Duration.value_counts()"
   ]
  },
  {
   "cell_type": "code",
   "execution_count": null,
   "metadata": {},
   "outputs": [],
   "source": [
    "# check all the changes in the above section 2.5 Tour Duration column\n",
    "df_clean.info()"
   ]
  },
  {
   "cell_type": "code",
   "execution_count": null,
   "metadata": {},
   "outputs": [],
   "source": [
    "# scatter chart for the tour duration\n",
    "x = df_clean['Duration'].value_counts().index\n",
    "y = df_clean['Duration'].value_counts()\n",
    "plt.style.use('seaborn-darkgrid')\n",
    "plt.figure(figsize=(20,10))\n",
    "plt.scatter(x, y, color='#458B74')\n",
    "plt.xticks( color ='#000000',fontsize=12)\n",
    "plt.yticks(color ='#000000',fontsize=12)\n",
    "plt.xlabel('Tour duration in hour',fontsize=20, color ='#000000')\n",
    "plt.ylabel(' Number of tour',fontsize=20, color ='#000000')\n",
    "plt.title('Tour Duration ',fontsize=22, color ='#000000')\n",
    "plt.show();"
   ]
  },
  {
   "cell_type": "code",
   "execution_count": null,
   "metadata": {},
   "outputs": [],
   "source": [
    "# finding the maximum value and drop it\n",
    "df_clean['Duration'].max()"
   ]
  },
  {
   "cell_type": "code",
   "execution_count": null,
   "metadata": {},
   "outputs": [],
   "source": [
    "# drop the extrem value\n",
    "df_clean = df_clean[df_clean.Duration != 105408.0]"
   ]
  },
  {
   "cell_type": "code",
   "execution_count": null,
   "metadata": {},
   "outputs": [],
   "source": [
    "# Statistic summary of duration column\n",
    "df_clean['Duration'].describe()"
   ]
  },
  {
   "cell_type": "code",
   "execution_count": null,
   "metadata": {},
   "outputs": [],
   "source": [
    "# scatter chart for the tour duration after droping the extrem\n",
    "x = df_clean['Duration'].value_counts().index\n",
    "y = df_clean['Duration'].value_counts()\n",
    "plt.style.use('seaborn-darkgrid')\n",
    "plt.figure(figsize=(20,10))\n",
    "plt.scatter(x, y, color='#458B74', s=100, alpha=0.7)\n",
    "plt.xlim(0, 100)\n",
    "plt.xticks( color ='#000000',fontsize=12)\n",
    "plt.yticks(color ='#000000',fontsize=12)\n",
    "plt.xlabel('Tour duration in hour',fontsize=20, color ='#000000')\n",
    "plt.ylabel(' Number of tour',fontsize=20, color ='#000000')\n",
    "plt.title('Tour Duration ',fontsize=22, color ='#000000')\n",
    "plt.show();"
   ]
  },
  {
   "cell_type": "markdown",
   "metadata": {},
   "source": [
    "*2.6 Tour Price column*"
   ]
  },
  {
   "cell_type": "code",
   "execution_count": null,
   "metadata": {},
   "outputs": [],
   "source": [
    "# summary statistics for the price based on the Country column\n",
    "df_clean[['Country','Price']].groupby('Country').describe()"
   ]
  },
  {
   "cell_type": "code",
   "execution_count": null,
   "metadata": {},
   "outputs": [],
   "source": [
    "# removing the $ sign and , from ‘Price’ column using str.replace\n",
    "df_clean['Price'] = df_clean['Price'].str.replace('$', '')\n",
    "df_clean['Price'] = df_clean['Price'].str.replace(',', '')"
   ]
  },
  {
   "cell_type": "code",
   "execution_count": null,
   "metadata": {},
   "outputs": [],
   "source": [
    "# convert the data type of Price to float\n",
    "df_clean['Price'] = pd.to_numeric(df_clean['Price'], downcast=\"float\")"
   ]
  },
  {
   "cell_type": "code",
   "execution_count": null,
   "metadata": {},
   "outputs": [],
   "source": [
    "# limit a float to two decimal places\n",
    "df_clean.Price = round(df_clean.Price, 2)"
   ]
  },
  {
   "cell_type": "code",
   "execution_count": null,
   "metadata": {},
   "outputs": [],
   "source": [
    "# to check the above \n",
    "df_clean['Price'].dtype"
   ]
  },
  {
   "cell_type": "code",
   "execution_count": null,
   "metadata": {},
   "outputs": [],
   "source": [
    "# Statistic summary of price column\n",
    "df_clean['Price'].describe()"
   ]
  },
  {
   "cell_type": "code",
   "execution_count": null,
   "metadata": {},
   "outputs": [],
   "source": [
    "# distribution plot for the price\n",
    "plt.style.use('seaborn-darkgrid')\n",
    "sns.set(font_scale=1.5)\n",
    "plt.figure(figsize=(20,10))\n",
    "sns.distplot(df_clean['Price'],color= ('#458B74'))\n",
    "plt.title('The distribution of tour price',fontsize=22, color ='#000000');"
   ]
  },
  {
   "cell_type": "markdown",
   "metadata": {},
   "source": [
    "*2.7 Price Per adult/group*"
   ]
  },
  {
   "cell_type": "code",
   "execution_count": null,
   "metadata": {},
   "outputs": [],
   "source": [
    "# Scatter plot of the price per adult vs. price per group\n",
    "plt.style.use('seaborn-darkgrid')\n",
    "df_clean.plot(x='Price Per', y='Price', kind='scatter',figsize=(15,8), color='#458B74', s=100, alpha=0.5 , title='Price per Adult vs. Price per Group Based on Price');"
   ]
  },
  {
   "cell_type": "markdown",
   "metadata": {},
   "source": [
    "*2.8 Cancellation column*"
   ]
  },
  {
   "cell_type": "code",
   "execution_count": null,
   "metadata": {},
   "outputs": [],
   "source": [
    "# check the column values \n",
    "df_clean['Cancellation'].value_counts()"
   ]
  },
  {
   "cell_type": "code",
   "execution_count": null,
   "metadata": {},
   "outputs": [],
   "source": [
    "# remove the LIKELY TO SELL OUT* value\n",
    "df_clean = df_clean[df_clean.Cancellation != 'LIKELY TO SELL OUT*']"
   ]
  },
  {
   "cell_type": "markdown",
   "metadata": {},
   "source": [
    "*2.9 Tour By column*"
   ]
  },
  {
   "cell_type": "code",
   "execution_count": null,
   "metadata": {},
   "outputs": [],
   "source": [
    "# number of unique value\n",
    "df_clean['Tour By'].nunique()"
   ]
  },
  {
   "cell_type": "markdown",
   "metadata": {},
   "source": [
    "*2.10 City & Country columns*"
   ]
  },
  {
   "cell_type": "code",
   "execution_count": null,
   "metadata": {},
   "outputs": [],
   "source": [
    "# show number of unique values in each city & country column\n",
    "print('Number of unoque value in City column:',df_clean['City'].nunique())\n",
    "print('Number of unoque value in Country column:',df_clean['Country'].nunique())"
   ]
  },
  {
   "cell_type": "code",
   "execution_count": null,
   "metadata": {},
   "outputs": [],
   "source": [
    "# reset the index\n",
    "df_clean.reset_index(drop=True)"
   ]
  },
  {
   "cell_type": "code",
   "execution_count": null,
   "metadata": {},
   "outputs": [],
   "source": [
    "# to check the last changes\n",
    "df_clean.info()"
   ]
  },
  {
   "cell_type": "code",
   "execution_count": null,
   "metadata": {},
   "outputs": [],
   "source": [
    "# Store the clean dataset\n",
    "df_clean.to_csv('clean_df.csv')"
   ]
  }
 ],
 "metadata": {
  "interpreter": {
   "hash": "2921360646c6f5c3a0729850114a5b22e8fb4acfaad82aa3253023e7dda6a667"
  },
  "kernelspec": {
   "display_name": "Python 3.9.10 64-bit (windows store)",
   "language": "python",
   "name": "python3"
  },
  "language_info": {
   "codemirror_mode": {
    "name": "ipython",
    "version": 3
   },
   "file_extension": ".py",
   "mimetype": "text/x-python",
   "name": "python",
   "nbconvert_exporter": "python",
   "pygments_lexer": "ipython3",
   "version": "3.9.10"
  },
  "orig_nbformat": 4
 },
 "nbformat": 4,
 "nbformat_minor": 2
}

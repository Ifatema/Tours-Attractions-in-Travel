{
 "cells": [
  {
   "cell_type": "code",
   "execution_count": null,
   "metadata": {},
   "outputs": [],
   "source": [
    "# importing libraries\n",
    "import pandas as pd\n",
    "import numpy as np\n",
    "import matplotlib.pyplot as plt\n",
    "import seaborn as sns"
   ]
  },
  {
   "cell_type": "code",
   "execution_count": null,
   "metadata": {},
   "outputs": [],
   "source": [
    "# reading tour dataframes\n",
    "df1 = pd.read_csv(r'..\\Tour data\\AbuDhabiclean.csv')\n",
    "df2 = pd.read_csv(r'..\\Tour data\\AlUlaclean.csv')\n",
    "df3 = pd.read_csv(r'..\\Tour data\\Antalyaclean.csv')\n",
    "df4 = pd.read_csv(r'..\\Tour data\\Beijingclean.csv')\n",
    "df5 = pd.read_csv(r'..\\Tour data\\Berlinclean.csv')\n",
    "df6 = pd.read_csv(r'..\\Tour data\\Buenos Airesclean.csv')\n",
    "df7 = pd.read_csv(r'..\\Tour data\\Cairoclean.csv')\n",
    "df8 = pd.read_csv(r'..\\Tour data\\Cape Townclean.csv')\n",
    "df9 = pd.read_csv(r'..\\Tour data\\Chicagoclean.csv')\n",
    "df10 = pd.read_csv(r'..\\Tour data\\Riyadhclean.csv')\n",
    "df11 = pd.read_csv(r'..\\Tour data\\Athensclean.csv')\n",
    "df12 = pd.read_csv(r'..\\Tour data\\Dohaclean.csv')\n",
    "df13 = pd.read_csv(r'..\\Tour data\\Istanbulclean.csv')\n",
    "df14 = pd.read_csv(r'..\\Tour data\\Jeddahclean.csv')\n",
    "df15 = pd.read_csv(r'..\\Tour data\\Kuala Lumpurclean.csv')\n",
    "df16 = pd.read_csv(r'..\\Tour data\\Londonclean.csv')\n",
    "df17 = pd.read_csv(r'..\\Tour data\\Madridclean.csv')\n",
    "df18 = pd.read_csv(r'..\\Tour data\\Marrakechclean.csv')\n",
    "df19 = pd.read_csv(r'..\\Tour data\\Mumbaiclean.csv')\n",
    "df20 = pd.read_csv(r'..\\Tour data\\Muscatclean.csv')\n",
    "df21 = pd.read_csv(r'..\\Tour data\\NewYorkclean.csv')\n",
    "df22 = pd.read_csv(r'..\\Tour data\\Orlandoclean.csv')\n",
    "df23 = pd.read_csv(r'..\\Tour data\\Rio de Janeiroclean.csv')\n",
    "df24 = pd.read_csv(r'..\\Tour data\\Parisclean.csv')\n",
    "df25 = pd.read_csv(r'..\\Tour data\\Romeclean.csv')\n",
    "df26 = pd.read_csv(r'..\\Tour data\\Singaporeclean.csv')\n",
    "df27 = pd.read_csv(r'..\\Tour data\\Shanghaiclean.csv')\n",
    "df28 = pd.read_csv(r'..\\Tour data\\Seoulclean.csv')\n",
    "df29 = pd.read_csv(r'..\\Tour data\\Tokyoclean.csv')\n",
    "df30 = pd.read_csv(r'..\\Tour data\\Amsterdamclean.csv')\n",
    "df31 = pd.read_csv(r'..\\Tour data\\Barcelonaclean.csv')\n",
    "df32 = pd.read_csv(r'..\\Tour data\\Hong Kongclean.csv')\n",
    "df33 = pd.read_csv(r'..\\Tour data\\LAclean.csv')\n",
    "df34 = pd.read_csv(r'..\\Tour data\\LVclean.csv')\n",
    "df35 = pd.read_csv(r'..\\Tour data\\Mexico Cityclean.csv')\n",
    "df36 = pd.read_csv(r'..\\Tour data\\Sydneyclean.csv')\n",
    "df37 = pd.read_csv(r'..\\Tour data\\Torontoclean.csv')\n",
    "df38 = pd.read_csv(r'..\\Tour data\\Viennaclean.csv')\n",
    "df39 = pd.read_csv(r'..\\Tour data\\Dubaiclean.csv')"
   ]
  },
  {
   "cell_type": "code",
   "execution_count": null,
   "metadata": {},
   "outputs": [],
   "source": [
    "# Concatenating DataFrames \n",
    "all_dfs = [df1, df2, df3, df4, df5, df6, df7, df8, df9, df10, df11, df12, df13, df14, df15, df16, df17, df18, df19, df20, df21, df22, df23, df24, df25, df26, df27, df28, df29, df30, df31, df32, df33, df34, df35, df36, df37, df38, df39]\n",
    "\n",
    "df = pd.concat(all_dfs)"
   ]
  },
  {
   "cell_type": "code",
   "execution_count": null,
   "metadata": {},
   "outputs": [],
   "source": [
    "# drop the Unnamed: 0 column\n",
    "df.drop('Unnamed: 0', axis=1, inplace=True)"
   ]
  },
  {
   "cell_type": "code",
   "execution_count": null,
   "metadata": {},
   "outputs": [],
   "source": [
    "# to check the concatenating\n",
    "df.head()"
   ]
  },
  {
   "cell_type": "code",
   "execution_count": null,
   "metadata": {},
   "outputs": [],
   "source": [
    "df.info()"
   ]
  },
  {
   "cell_type": "code",
   "execution_count": null,
   "metadata": {},
   "outputs": [],
   "source": [
    "# Store the clean dataset\n",
    "df.to_csv('all_Tours.csv')"
   ]
  }
 ],
 "metadata": {
  "interpreter": {
   "hash": "2921360646c6f5c3a0729850114a5b22e8fb4acfaad82aa3253023e7dda6a667"
  },
  "kernelspec": {
   "display_name": "Python 3.9.10 64-bit (windows store)",
   "language": "python",
   "name": "python3"
  },
  "language_info": {
   "codemirror_mode": {
    "name": "ipython",
    "version": 3
   },
   "file_extension": ".py",
   "mimetype": "text/x-python",
   "name": "python",
   "nbconvert_exporter": "python",
   "pygments_lexer": "ipython3",
   "version": "3.9.10"
  },
  "orig_nbformat": 4
 },
 "nbformat": 4,
 "nbformat_minor": 2
}

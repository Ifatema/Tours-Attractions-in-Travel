{
 "cells": [
  {
   "cell_type": "code",
   "execution_count": 27,
   "metadata": {},
   "outputs": [],
   "source": [
    "# importing libraries\n",
    "import pandas as pd\n",
    "import numpy as np\n",
    "import matplotlib.pyplot as plt\n",
    "import seaborn as sns"
   ]
  },
  {
   "cell_type": "code",
   "execution_count": 28,
   "metadata": {},
   "outputs": [],
   "source": [
    "# loading the dataframe\n",
    "messy_df = pd.read_csv('AbuDhabi.csv')"
   ]
  },
  {
   "cell_type": "code",
   "execution_count": 29,
   "metadata": {},
   "outputs": [
    {
     "data": {
      "text/plain": [
       "Index(['WlYyy', 'FmrIP href', 'dugSS src', 'bUshh', 'cIVmB', 'iPqaD href 2',\n",
       "       'WlYyy 2', 'WlYyy 3', 'WlYyy 4'],\n",
       "      dtype='object')"
      ]
     },
     "execution_count": 29,
     "metadata": {},
     "output_type": "execute_result"
    }
   ],
   "source": [
    "messy_df.columns"
   ]
  },
  {
   "cell_type": "code",
   "execution_count": 30,
   "metadata": {},
   "outputs": [
    {
     "data": {
      "text/html": [
       "<div>\n",
       "<style scoped>\n",
       "    .dataframe tbody tr th:only-of-type {\n",
       "        vertical-align: middle;\n",
       "    }\n",
       "\n",
       "    .dataframe tbody tr th {\n",
       "        vertical-align: top;\n",
       "    }\n",
       "\n",
       "    .dataframe thead th {\n",
       "        text-align: right;\n",
       "    }\n",
       "</style>\n",
       "<table border=\"1\" class=\"dataframe\">\n",
       "  <thead>\n",
       "    <tr style=\"text-align: right;\">\n",
       "      <th></th>\n",
       "      <th>WlYyy</th>\n",
       "      <th>FmrIP href</th>\n",
       "      <th>dugSS src</th>\n",
       "      <th>bUshh</th>\n",
       "      <th>cIVmB</th>\n",
       "      <th>iPqaD href 2</th>\n",
       "      <th>WlYyy 2</th>\n",
       "      <th>WlYyy 3</th>\n",
       "      <th>WlYyy 4</th>\n",
       "    </tr>\n",
       "  </thead>\n",
       "  <tbody>\n",
       "    <tr>\n",
       "      <th>0</th>\n",
       "      <td>619 places sorted by traveler favorites</td>\n",
       "      <td>NaN</td>\n",
       "      <td>NaN</td>\n",
       "      <td>NaN</td>\n",
       "      <td>NaN</td>\n",
       "      <td>NaN</td>\n",
       "      <td>NaN</td>\n",
       "      <td>NaN</td>\n",
       "      <td>NaN</td>\n",
       "    </tr>\n",
       "    <tr>\n",
       "      <th>1</th>\n",
       "      <td>34,753</td>\n",
       "      <td>https://www.tripadvisor.com/Attraction_Review-...</td>\n",
       "      <td>https://dynamic-media-cdn.tripadvisor.com/medi...</td>\n",
       "      <td>Sheikh Zayed Grand Mosque Center</td>\n",
       "      <td>1.0</td>\n",
       "      <td>https://www.tripadvisor.com/Attraction_Review-...</td>\n",
       "      <td>Religious Sites</td>\n",
       "      <td>Open now</td>\n",
       "      <td>By</td>\n",
       "    </tr>\n",
       "    <tr>\n",
       "      <th>2</th>\n",
       "      <td>4,127</td>\n",
       "      <td>https://www.tripadvisor.com/Attraction_Review-...</td>\n",
       "      <td>https://dynamic-media-cdn.tripadvisor.com/medi...</td>\n",
       "      <td>Louvre Abu Dhabi</td>\n",
       "      <td>2.0</td>\n",
       "      <td>https://www.tripadvisor.com/Attraction_Review-...</td>\n",
       "      <td>Art Museums • History Museums</td>\n",
       "      <td>Open now</td>\n",
       "      <td>By</td>\n",
       "    </tr>\n",
       "    <tr>\n",
       "      <th>3</th>\n",
       "      <td>5,994</td>\n",
       "      <td>https://www.tripadvisor.com/Attraction_Review-...</td>\n",
       "      <td>https://dynamic-media-cdn.tripadvisor.com/medi...</td>\n",
       "      <td>Emirates Palace</td>\n",
       "      <td>3.0</td>\n",
       "      <td>https://www.tripadvisor.com/Attraction_Review-...</td>\n",
       "      <td>Architectural Buildings</td>\n",
       "      <td>Open now</td>\n",
       "      <td>By</td>\n",
       "    </tr>\n",
       "    <tr>\n",
       "      <th>4</th>\n",
       "      <td>4,249</td>\n",
       "      <td>https://www.tripadvisor.com/Attraction_Review-...</td>\n",
       "      <td>https://dynamic-media-cdn.tripadvisor.com/medi...</td>\n",
       "      <td>Yas Marina Circuit</td>\n",
       "      <td>4.0</td>\n",
       "      <td>https://www.tripadvisor.com/Attraction_Review-...</td>\n",
       "      <td>Auto Racing Tracks</td>\n",
       "      <td>Open now</td>\n",
       "      <td>By</td>\n",
       "    </tr>\n",
       "  </tbody>\n",
       "</table>\n",
       "</div>"
      ],
      "text/plain": [
       "                                     WlYyy  \\\n",
       "0  619 places sorted by traveler favorites   \n",
       "1                                   34,753   \n",
       "2                                    4,127   \n",
       "3                                    5,994   \n",
       "4                                    4,249   \n",
       "\n",
       "                                          FmrIP href  \\\n",
       "0                                                NaN   \n",
       "1  https://www.tripadvisor.com/Attraction_Review-...   \n",
       "2  https://www.tripadvisor.com/Attraction_Review-...   \n",
       "3  https://www.tripadvisor.com/Attraction_Review-...   \n",
       "4  https://www.tripadvisor.com/Attraction_Review-...   \n",
       "\n",
       "                                           dugSS src  \\\n",
       "0                                                NaN   \n",
       "1  https://dynamic-media-cdn.tripadvisor.com/medi...   \n",
       "2  https://dynamic-media-cdn.tripadvisor.com/medi...   \n",
       "3  https://dynamic-media-cdn.tripadvisor.com/medi...   \n",
       "4  https://dynamic-media-cdn.tripadvisor.com/medi...   \n",
       "\n",
       "                              bUshh  cIVmB  \\\n",
       "0                               NaN    NaN   \n",
       "1  Sheikh Zayed Grand Mosque Center    1.0   \n",
       "2                  Louvre Abu Dhabi    2.0   \n",
       "3                   Emirates Palace    3.0   \n",
       "4                Yas Marina Circuit    4.0   \n",
       "\n",
       "                                        iPqaD href 2  \\\n",
       "0                                                NaN   \n",
       "1  https://www.tripadvisor.com/Attraction_Review-...   \n",
       "2  https://www.tripadvisor.com/Attraction_Review-...   \n",
       "3  https://www.tripadvisor.com/Attraction_Review-...   \n",
       "4  https://www.tripadvisor.com/Attraction_Review-...   \n",
       "\n",
       "                         WlYyy 2   WlYyy 3 WlYyy 4  \n",
       "0                            NaN       NaN     NaN  \n",
       "1                Religious Sites  Open now      By  \n",
       "2  Art Museums • History Museums  Open now      By  \n",
       "3        Architectural Buildings  Open now      By  \n",
       "4             Auto Racing Tracks  Open now      By  "
      ]
     },
     "execution_count": 30,
     "metadata": {},
     "output_type": "execute_result"
    }
   ],
   "source": [
    "# take a look of the first 5 rows in the data\n",
    "messy_df.head()"
   ]
  },
  {
   "cell_type": "code",
   "execution_count": 31,
   "metadata": {},
   "outputs": [
    {
     "name": "stdout",
     "output_type": "stream",
     "text": [
      "<class 'pandas.core.frame.DataFrame'>\n",
      "RangeIndex: 534 entries, 0 to 533\n",
      "Data columns (total 9 columns):\n",
      " #   Column        Non-Null Count  Dtype  \n",
      "---  ------        --------------  -----  \n",
      " 0   WlYyy         336 non-null    object \n",
      " 1   FmrIP href    512 non-null    object \n",
      " 2   dugSS src     378 non-null    object \n",
      " 3   bUshh         512 non-null    object \n",
      " 4   cIVmB         512 non-null    float64\n",
      " 5   iPqaD href 2  314 non-null    object \n",
      " 6   WlYyy 2       533 non-null    object \n",
      " 7   WlYyy 3       194 non-null    object \n",
      " 8   WlYyy 4       117 non-null    object \n",
      "dtypes: float64(1), object(8)\n",
      "memory usage: 37.7+ KB\n"
     ]
    }
   ],
   "source": [
    "# check the datatype & non-null count\n",
    "messy_df.info()"
   ]
  },
  {
   "cell_type": "code",
   "execution_count": 32,
   "metadata": {},
   "outputs": [],
   "source": [
    "# making a cop of the data to clean it\n",
    "df = messy_df.copy()"
   ]
  },
  {
   "cell_type": "code",
   "execution_count": 33,
   "metadata": {},
   "outputs": [],
   "source": [
    "# dropping the unnecessary columns\n",
    "df.drop(['WlYyy', 'FmrIP href', 'dugSS src', 'cIVmB', 'iPqaD href 2', 'WlYyy 3', 'WlYyy 4'], axis=1 , inplace=True)"
   ]
  },
  {
   "cell_type": "code",
   "execution_count": 34,
   "metadata": {},
   "outputs": [],
   "source": [
    "# renaming the columns\n",
    "df.rename(columns={'bUshh':'Attraction Name', 'WlYyy 2':'Attraction Type'}, inplace=True)"
   ]
  },
  {
   "cell_type": "code",
   "execution_count": 35,
   "metadata": {},
   "outputs": [],
   "source": [
    "# adding new columns\n",
    "df['City'] = 'Abu Dhabi'\n",
    "df['Country'] = 'United Arab Emirates'"
   ]
  },
  {
   "cell_type": "code",
   "execution_count": 36,
   "metadata": {},
   "outputs": [
    {
     "data": {
      "text/plain": [
       "53"
      ]
     },
     "execution_count": 36,
     "metadata": {},
     "output_type": "execute_result"
    }
   ],
   "source": [
    "# check the total duplicated rows\n",
    "sum(df.duplicated())"
   ]
  },
  {
   "cell_type": "code",
   "execution_count": 37,
   "metadata": {},
   "outputs": [
    {
     "data": {
      "text/html": [
       "<div>\n",
       "<style scoped>\n",
       "    .dataframe tbody tr th:only-of-type {\n",
       "        vertical-align: middle;\n",
       "    }\n",
       "\n",
       "    .dataframe tbody tr th {\n",
       "        vertical-align: top;\n",
       "    }\n",
       "\n",
       "    .dataframe thead th {\n",
       "        text-align: right;\n",
       "    }\n",
       "</style>\n",
       "<table border=\"1\" class=\"dataframe\">\n",
       "  <thead>\n",
       "    <tr style=\"text-align: right;\">\n",
       "      <th></th>\n",
       "      <th>Attraction Name</th>\n",
       "      <th>Attraction Type</th>\n",
       "      <th>City</th>\n",
       "      <th>Country</th>\n",
       "    </tr>\n",
       "  </thead>\n",
       "  <tbody>\n",
       "    <tr>\n",
       "      <th>0</th>\n",
       "      <td>NaN</td>\n",
       "      <td>NaN</td>\n",
       "      <td>Abu Dhabi</td>\n",
       "      <td>United Arab Emirates</td>\n",
       "    </tr>\n",
       "    <tr>\n",
       "      <th>1</th>\n",
       "      <td>Sheikh Zayed Grand Mosque Center</td>\n",
       "      <td>Religious Sites</td>\n",
       "      <td>Abu Dhabi</td>\n",
       "      <td>United Arab Emirates</td>\n",
       "    </tr>\n",
       "    <tr>\n",
       "      <th>2</th>\n",
       "      <td>Louvre Abu Dhabi</td>\n",
       "      <td>Art Museums • History Museums</td>\n",
       "      <td>Abu Dhabi</td>\n",
       "      <td>United Arab Emirates</td>\n",
       "    </tr>\n",
       "    <tr>\n",
       "      <th>3</th>\n",
       "      <td>Emirates Palace</td>\n",
       "      <td>Architectural Buildings</td>\n",
       "      <td>Abu Dhabi</td>\n",
       "      <td>United Arab Emirates</td>\n",
       "    </tr>\n",
       "    <tr>\n",
       "      <th>4</th>\n",
       "      <td>Yas Marina Circuit</td>\n",
       "      <td>Auto Racing Tracks</td>\n",
       "      <td>Abu Dhabi</td>\n",
       "      <td>United Arab Emirates</td>\n",
       "    </tr>\n",
       "    <tr>\n",
       "      <th>...</th>\n",
       "      <td>...</td>\n",
       "      <td>...</td>\n",
       "      <td>...</td>\n",
       "      <td>...</td>\n",
       "    </tr>\n",
       "    <tr>\n",
       "      <th>528</th>\n",
       "      <td>Gamers Lounge Game Center</td>\n",
       "      <td>Game &amp; Entertainment Centers</td>\n",
       "      <td>Abu Dhabi</td>\n",
       "      <td>United Arab Emirates</td>\n",
       "    </tr>\n",
       "    <tr>\n",
       "      <th>529</th>\n",
       "      <td>Sipra International</td>\n",
       "      <td>Mysterious Sites</td>\n",
       "      <td>Abu Dhabi</td>\n",
       "      <td>United Arab Emirates</td>\n",
       "    </tr>\n",
       "    <tr>\n",
       "      <th>530</th>\n",
       "      <td>Thai Style Beauty Salon</td>\n",
       "      <td>Arab Baths • Hammams &amp; Turkish Baths</td>\n",
       "      <td>Abu Dhabi</td>\n",
       "      <td>United Arab Emirates</td>\n",
       "    </tr>\n",
       "    <tr>\n",
       "      <th>531</th>\n",
       "      <td>Massage Spa - Shabiya</td>\n",
       "      <td>Spas</td>\n",
       "      <td>Abu Dhabi</td>\n",
       "      <td>United Arab Emirates</td>\n",
       "    </tr>\n",
       "    <tr>\n",
       "      <th>532</th>\n",
       "      <td>Naas Flowers</td>\n",
       "      <td>Speciality &amp; Gift Shops</td>\n",
       "      <td>Abu Dhabi</td>\n",
       "      <td>United Arab Emirates</td>\n",
       "    </tr>\n",
       "  </tbody>\n",
       "</table>\n",
       "<p>481 rows × 4 columns</p>\n",
       "</div>"
      ],
      "text/plain": [
       "                      Attraction Name                       Attraction Type  \\\n",
       "0                                 NaN                                   NaN   \n",
       "1    Sheikh Zayed Grand Mosque Center                       Religious Sites   \n",
       "2                    Louvre Abu Dhabi         Art Museums • History Museums   \n",
       "3                     Emirates Palace               Architectural Buildings   \n",
       "4                  Yas Marina Circuit                    Auto Racing Tracks   \n",
       "..                                ...                                   ...   \n",
       "528         Gamers Lounge Game Center          Game & Entertainment Centers   \n",
       "529               Sipra International                      Mysterious Sites   \n",
       "530           Thai Style Beauty Salon  Arab Baths • Hammams & Turkish Baths   \n",
       "531             Massage Spa - Shabiya                                  Spas   \n",
       "532                      Naas Flowers               Speciality & Gift Shops   \n",
       "\n",
       "          City               Country  \n",
       "0    Abu Dhabi  United Arab Emirates  \n",
       "1    Abu Dhabi  United Arab Emirates  \n",
       "2    Abu Dhabi  United Arab Emirates  \n",
       "3    Abu Dhabi  United Arab Emirates  \n",
       "4    Abu Dhabi  United Arab Emirates  \n",
       "..         ...                   ...  \n",
       "528  Abu Dhabi  United Arab Emirates  \n",
       "529  Abu Dhabi  United Arab Emirates  \n",
       "530  Abu Dhabi  United Arab Emirates  \n",
       "531  Abu Dhabi  United Arab Emirates  \n",
       "532  Abu Dhabi  United Arab Emirates  \n",
       "\n",
       "[481 rows x 4 columns]"
      ]
     },
     "execution_count": 37,
     "metadata": {},
     "output_type": "execute_result"
    }
   ],
   "source": [
    "# drop the duplicated rows\n",
    "df.drop_duplicates()"
   ]
  },
  {
   "cell_type": "code",
   "execution_count": 38,
   "metadata": {},
   "outputs": [
    {
     "data": {
      "text/plain": [
       "Index(['Attraction Name', 'Attraction Type', 'City', 'Country'], dtype='object')"
      ]
     },
     "execution_count": 38,
     "metadata": {},
     "output_type": "execute_result"
    }
   ],
   "source": [
    "df.columns"
   ]
  },
  {
   "cell_type": "code",
   "execution_count": 39,
   "metadata": {},
   "outputs": [
    {
     "data": {
      "text/plain": [
       "Attraction Name    22\n",
       "Attraction Type     1\n",
       "City                0\n",
       "Country             0\n",
       "dtype: int64"
      ]
     },
     "execution_count": 39,
     "metadata": {},
     "output_type": "execute_result"
    }
   ],
   "source": [
    "#checking for total null values\n",
    "df.isnull().sum() "
   ]
  },
  {
   "cell_type": "code",
   "execution_count": 40,
   "metadata": {},
   "outputs": [
    {
     "data": {
      "text/html": [
       "<div>\n",
       "<style scoped>\n",
       "    .dataframe tbody tr th:only-of-type {\n",
       "        vertical-align: middle;\n",
       "    }\n",
       "\n",
       "    .dataframe tbody tr th {\n",
       "        vertical-align: top;\n",
       "    }\n",
       "\n",
       "    .dataframe thead th {\n",
       "        text-align: right;\n",
       "    }\n",
       "</style>\n",
       "<table border=\"1\" class=\"dataframe\">\n",
       "  <thead>\n",
       "    <tr style=\"text-align: right;\">\n",
       "      <th></th>\n",
       "      <th>Attraction Name</th>\n",
       "      <th>Attraction Type</th>\n",
       "      <th>City</th>\n",
       "      <th>Country</th>\n",
       "    </tr>\n",
       "  </thead>\n",
       "  <tbody>\n",
       "    <tr>\n",
       "      <th>0</th>\n",
       "      <td>NaN</td>\n",
       "      <td>NaN</td>\n",
       "      <td>Abu Dhabi</td>\n",
       "      <td>United Arab Emirates</td>\n",
       "    </tr>\n",
       "    <tr>\n",
       "      <th>1</th>\n",
       "      <td>Sheikh Zayed Grand Mosque Center</td>\n",
       "      <td>Religious Sites</td>\n",
       "      <td>Abu Dhabi</td>\n",
       "      <td>United Arab Emirates</td>\n",
       "    </tr>\n",
       "    <tr>\n",
       "      <th>2</th>\n",
       "      <td>Louvre Abu Dhabi</td>\n",
       "      <td>Art Museums • History Museums</td>\n",
       "      <td>Abu Dhabi</td>\n",
       "      <td>United Arab Emirates</td>\n",
       "    </tr>\n",
       "    <tr>\n",
       "      <th>3</th>\n",
       "      <td>Emirates Palace</td>\n",
       "      <td>Architectural Buildings</td>\n",
       "      <td>Abu Dhabi</td>\n",
       "      <td>United Arab Emirates</td>\n",
       "    </tr>\n",
       "    <tr>\n",
       "      <th>4</th>\n",
       "      <td>Yas Marina Circuit</td>\n",
       "      <td>Auto Racing Tracks</td>\n",
       "      <td>Abu Dhabi</td>\n",
       "      <td>United Arab Emirates</td>\n",
       "    </tr>\n",
       "    <tr>\n",
       "      <th>...</th>\n",
       "      <td>...</td>\n",
       "      <td>...</td>\n",
       "      <td>...</td>\n",
       "      <td>...</td>\n",
       "    </tr>\n",
       "    <tr>\n",
       "      <th>529</th>\n",
       "      <td>Sipra International</td>\n",
       "      <td>Mysterious Sites</td>\n",
       "      <td>Abu Dhabi</td>\n",
       "      <td>United Arab Emirates</td>\n",
       "    </tr>\n",
       "    <tr>\n",
       "      <th>530</th>\n",
       "      <td>Thai Style Beauty Salon</td>\n",
       "      <td>Arab Baths • Hammams &amp; Turkish Baths</td>\n",
       "      <td>Abu Dhabi</td>\n",
       "      <td>United Arab Emirates</td>\n",
       "    </tr>\n",
       "    <tr>\n",
       "      <th>531</th>\n",
       "      <td>Massage Spa - Shabiya</td>\n",
       "      <td>Spas</td>\n",
       "      <td>Abu Dhabi</td>\n",
       "      <td>United Arab Emirates</td>\n",
       "    </tr>\n",
       "    <tr>\n",
       "      <th>532</th>\n",
       "      <td>Naas Flowers</td>\n",
       "      <td>Speciality &amp; Gift Shops</td>\n",
       "      <td>Abu Dhabi</td>\n",
       "      <td>United Arab Emirates</td>\n",
       "    </tr>\n",
       "    <tr>\n",
       "      <th>533</th>\n",
       "      <td>NaN</td>\n",
       "      <td>1</td>\n",
       "      <td>Abu Dhabi</td>\n",
       "      <td>United Arab Emirates</td>\n",
       "    </tr>\n",
       "  </tbody>\n",
       "</table>\n",
       "<p>534 rows × 4 columns</p>\n",
       "</div>"
      ],
      "text/plain": [
       "                      Attraction Name                       Attraction Type  \\\n",
       "0                                 NaN                                   NaN   \n",
       "1    Sheikh Zayed Grand Mosque Center                       Religious Sites   \n",
       "2                    Louvre Abu Dhabi         Art Museums • History Museums   \n",
       "3                     Emirates Palace               Architectural Buildings   \n",
       "4                  Yas Marina Circuit                    Auto Racing Tracks   \n",
       "..                                ...                                   ...   \n",
       "529               Sipra International                      Mysterious Sites   \n",
       "530           Thai Style Beauty Salon  Arab Baths • Hammams & Turkish Baths   \n",
       "531             Massage Spa - Shabiya                                  Spas   \n",
       "532                      Naas Flowers               Speciality & Gift Shops   \n",
       "533                               NaN                                     1   \n",
       "\n",
       "          City               Country  \n",
       "0    Abu Dhabi  United Arab Emirates  \n",
       "1    Abu Dhabi  United Arab Emirates  \n",
       "2    Abu Dhabi  United Arab Emirates  \n",
       "3    Abu Dhabi  United Arab Emirates  \n",
       "4    Abu Dhabi  United Arab Emirates  \n",
       "..         ...                   ...  \n",
       "529  Abu Dhabi  United Arab Emirates  \n",
       "530  Abu Dhabi  United Arab Emirates  \n",
       "531  Abu Dhabi  United Arab Emirates  \n",
       "532  Abu Dhabi  United Arab Emirates  \n",
       "533  Abu Dhabi  United Arab Emirates  \n",
       "\n",
       "[534 rows x 4 columns]"
      ]
     },
     "execution_count": 40,
     "metadata": {},
     "output_type": "execute_result"
    }
   ],
   "source": [
    "# reset the index\n",
    "df.reset_index(drop=True)"
   ]
  },
  {
   "cell_type": "code",
   "execution_count": 41,
   "metadata": {},
   "outputs": [
    {
     "name": "stdout",
     "output_type": "stream",
     "text": [
      "<class 'pandas.core.frame.DataFrame'>\n",
      "RangeIndex: 534 entries, 0 to 533\n",
      "Data columns (total 4 columns):\n",
      " #   Column           Non-Null Count  Dtype \n",
      "---  ------           --------------  ----- \n",
      " 0   Attraction Name  512 non-null    object\n",
      " 1   Attraction Type  533 non-null    object\n",
      " 2   City             534 non-null    object\n",
      " 3   Country          534 non-null    object\n",
      "dtypes: object(4)\n",
      "memory usage: 16.8+ KB\n"
     ]
    }
   ],
   "source": [
    "df.info()"
   ]
  },
  {
   "cell_type": "code",
   "execution_count": 42,
   "metadata": {},
   "outputs": [],
   "source": [
    "# Store the clean dataset\n",
    "df.to_csv('AbuDhabiclean.csv')"
   ]
  }
 ],
 "metadata": {
  "interpreter": {
   "hash": "2921360646c6f5c3a0729850114a5b22e8fb4acfaad82aa3253023e7dda6a667"
  },
  "kernelspec": {
   "display_name": "Python 3.9.10 64-bit (windows store)",
   "language": "python",
   "name": "python3"
  },
  "language_info": {
   "codemirror_mode": {
    "name": "ipython",
    "version": 3
   },
   "file_extension": ".py",
   "mimetype": "text/x-python",
   "name": "python",
   "nbconvert_exporter": "python",
   "pygments_lexer": "ipython3",
   "version": "3.9.10"
  },
  "orig_nbformat": 4
 },
 "nbformat": 4,
 "nbformat_minor": 2
}

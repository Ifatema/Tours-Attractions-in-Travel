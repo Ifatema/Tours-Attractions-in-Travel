{
 "cells": [
  {
   "cell_type": "code",
   "execution_count": 5,
   "metadata": {},
   "outputs": [],
   "source": [
    "# importing libraries\n",
    "import pandas as pd\n",
    "import numpy as np\n",
    "import matplotlib.pyplot as plt\n",
    "import seaborn as sns"
   ]
  },
  {
   "cell_type": "code",
   "execution_count": 6,
   "metadata": {},
   "outputs": [],
   "source": [
    "# loading the dataframe\n",
    "messy_df = pd.read_csv('Jeddah.csv')"
   ]
  },
  {
   "cell_type": "code",
   "execution_count": 7,
   "metadata": {},
   "outputs": [
    {
     "data": {
      "text/plain": [
       "Index(['WlYyy', 'FmrIP href', 'dugSS src', 'bUshh', 'cIVmB', 'iPqaD href 2',\n",
       "       'WlYyy 2'],\n",
       "      dtype='object')"
      ]
     },
     "execution_count": 7,
     "metadata": {},
     "output_type": "execute_result"
    }
   ],
   "source": [
    "messy_df.columns"
   ]
  },
  {
   "cell_type": "code",
   "execution_count": 8,
   "metadata": {},
   "outputs": [
    {
     "data": {
      "text/html": [
       "<div>\n",
       "<style scoped>\n",
       "    .dataframe tbody tr th:only-of-type {\n",
       "        vertical-align: middle;\n",
       "    }\n",
       "\n",
       "    .dataframe tbody tr th {\n",
       "        vertical-align: top;\n",
       "    }\n",
       "\n",
       "    .dataframe thead th {\n",
       "        text-align: right;\n",
       "    }\n",
       "</style>\n",
       "<table border=\"1\" class=\"dataframe\">\n",
       "  <thead>\n",
       "    <tr style=\"text-align: right;\">\n",
       "      <th></th>\n",
       "      <th>WlYyy</th>\n",
       "      <th>FmrIP href</th>\n",
       "      <th>dugSS src</th>\n",
       "      <th>bUshh</th>\n",
       "      <th>cIVmB</th>\n",
       "      <th>iPqaD href 2</th>\n",
       "      <th>WlYyy 2</th>\n",
       "    </tr>\n",
       "  </thead>\n",
       "  <tbody>\n",
       "    <tr>\n",
       "      <th>0</th>\n",
       "      <td>191 places sorted by traveler favorites</td>\n",
       "      <td>NaN</td>\n",
       "      <td>NaN</td>\n",
       "      <td>NaN</td>\n",
       "      <td>NaN</td>\n",
       "      <td>NaN</td>\n",
       "      <td>NaN</td>\n",
       "    </tr>\n",
       "    <tr>\n",
       "      <th>1</th>\n",
       "      <td>1,049</td>\n",
       "      <td>https://www.tripadvisor.com/Attraction_Review-...</td>\n",
       "      <td>https://dynamic-media-cdn.tripadvisor.com/medi...</td>\n",
       "      <td>Al-Balad</td>\n",
       "      <td>1.0</td>\n",
       "      <td>https://www.tripadvisor.com/Attraction_Review-...</td>\n",
       "      <td>Historic Sites • Neighborhoods</td>\n",
       "    </tr>\n",
       "    <tr>\n",
       "      <th>2</th>\n",
       "      <td>926</td>\n",
       "      <td>https://www.tripadvisor.com/Attraction_Review-...</td>\n",
       "      <td>https://dynamic-media-cdn.tripadvisor.com/medi...</td>\n",
       "      <td>Red Sea Mall</td>\n",
       "      <td>2.0</td>\n",
       "      <td>https://www.tripadvisor.com/Attraction_Review-...</td>\n",
       "      <td>Shopping Malls</td>\n",
       "    </tr>\n",
       "    <tr>\n",
       "      <th>3</th>\n",
       "      <td>791</td>\n",
       "      <td>https://www.tripadvisor.com/Attraction_Review-...</td>\n",
       "      <td>https://dynamic-media-cdn.tripadvisor.com/medi...</td>\n",
       "      <td>Jeddah Corniche</td>\n",
       "      <td>3.0</td>\n",
       "      <td>https://www.tripadvisor.com/Attraction_Review-...</td>\n",
       "      <td>Points of Interest &amp; Landmarks</td>\n",
       "    </tr>\n",
       "    <tr>\n",
       "      <th>4</th>\n",
       "      <td>1,231</td>\n",
       "      <td>https://www.tripadvisor.com/Attraction_Review-...</td>\n",
       "      <td>https://dynamic-media-cdn.tripadvisor.com/medi...</td>\n",
       "      <td>King Fahd's Fountain</td>\n",
       "      <td>4.0</td>\n",
       "      <td>https://www.tripadvisor.com/Attraction_Review-...</td>\n",
       "      <td>Fountains</td>\n",
       "    </tr>\n",
       "  </tbody>\n",
       "</table>\n",
       "</div>"
      ],
      "text/plain": [
       "                                     WlYyy  \\\n",
       "0  191 places sorted by traveler favorites   \n",
       "1                                    1,049   \n",
       "2                                      926   \n",
       "3                                      791   \n",
       "4                                    1,231   \n",
       "\n",
       "                                          FmrIP href  \\\n",
       "0                                                NaN   \n",
       "1  https://www.tripadvisor.com/Attraction_Review-...   \n",
       "2  https://www.tripadvisor.com/Attraction_Review-...   \n",
       "3  https://www.tripadvisor.com/Attraction_Review-...   \n",
       "4  https://www.tripadvisor.com/Attraction_Review-...   \n",
       "\n",
       "                                           dugSS src                 bUshh  \\\n",
       "0                                                NaN                   NaN   \n",
       "1  https://dynamic-media-cdn.tripadvisor.com/medi...              Al-Balad   \n",
       "2  https://dynamic-media-cdn.tripadvisor.com/medi...          Red Sea Mall   \n",
       "3  https://dynamic-media-cdn.tripadvisor.com/medi...       Jeddah Corniche   \n",
       "4  https://dynamic-media-cdn.tripadvisor.com/medi...  King Fahd's Fountain   \n",
       "\n",
       "   cIVmB                                       iPqaD href 2  \\\n",
       "0    NaN                                                NaN   \n",
       "1    1.0  https://www.tripadvisor.com/Attraction_Review-...   \n",
       "2    2.0  https://www.tripadvisor.com/Attraction_Review-...   \n",
       "3    3.0  https://www.tripadvisor.com/Attraction_Review-...   \n",
       "4    4.0  https://www.tripadvisor.com/Attraction_Review-...   \n",
       "\n",
       "                          WlYyy 2  \n",
       "0                             NaN  \n",
       "1  Historic Sites • Neighborhoods  \n",
       "2                  Shopping Malls  \n",
       "3  Points of Interest & Landmarks  \n",
       "4                       Fountains  "
      ]
     },
     "execution_count": 8,
     "metadata": {},
     "output_type": "execute_result"
    }
   ],
   "source": [
    "# take a look of the first 5 rows in the data\n",
    "messy_df.head()"
   ]
  },
  {
   "cell_type": "code",
   "execution_count": 9,
   "metadata": {},
   "outputs": [
    {
     "name": "stdout",
     "output_type": "stream",
     "text": [
      "<class 'pandas.core.frame.DataFrame'>\n",
      "RangeIndex: 170 entries, 0 to 169\n",
      "Data columns (total 7 columns):\n",
      " #   Column        Non-Null Count  Dtype  \n",
      "---  ------        --------------  -----  \n",
      " 0   WlYyy         129 non-null    object \n",
      " 1   FmrIP href    162 non-null    object \n",
      " 2   dugSS src     126 non-null    object \n",
      " 3   bUshh         162 non-null    object \n",
      " 4   cIVmB         162 non-null    float64\n",
      " 5   iPqaD href 2  121 non-null    object \n",
      " 6   WlYyy 2       169 non-null    object \n",
      "dtypes: float64(1), object(6)\n",
      "memory usage: 9.4+ KB\n"
     ]
    }
   ],
   "source": [
    "# check the datatype & non-null count\n",
    "messy_df.info()"
   ]
  },
  {
   "cell_type": "code",
   "execution_count": 10,
   "metadata": {},
   "outputs": [],
   "source": [
    "# making a cop of the data to clean it\n",
    "df = messy_df.copy()"
   ]
  },
  {
   "cell_type": "code",
   "execution_count": 11,
   "metadata": {},
   "outputs": [],
   "source": [
    "# dropping the unnecessary columns\n",
    "df.drop(['WlYyy', 'FmrIP href', 'dugSS src', 'cIVmB', 'iPqaD href 2'], axis=1 , inplace=True)"
   ]
  },
  {
   "cell_type": "code",
   "execution_count": 12,
   "metadata": {},
   "outputs": [],
   "source": [
    "# renaming the columns\n",
    "df.rename(columns={ 'bUshh':'Attraction Name', 'WlYyy 2':'Attraction Type'}, inplace=True)"
   ]
  },
  {
   "cell_type": "code",
   "execution_count": 13,
   "metadata": {},
   "outputs": [],
   "source": [
    "# adding new columns\n",
    "df['City'] = 'Jeddah'\n",
    "df['Country'] = 'Saudi Arabia'"
   ]
  },
  {
   "cell_type": "code",
   "execution_count": 14,
   "metadata": {},
   "outputs": [
    {
     "data": {
      "text/plain": [
       "46"
      ]
     },
     "execution_count": 14,
     "metadata": {},
     "output_type": "execute_result"
    }
   ],
   "source": [
    "# check the total duplicated rows\n",
    "sum(df.duplicated())"
   ]
  },
  {
   "cell_type": "code",
   "execution_count": 15,
   "metadata": {},
   "outputs": [
    {
     "data": {
      "text/html": [
       "<div>\n",
       "<style scoped>\n",
       "    .dataframe tbody tr th:only-of-type {\n",
       "        vertical-align: middle;\n",
       "    }\n",
       "\n",
       "    .dataframe tbody tr th {\n",
       "        vertical-align: top;\n",
       "    }\n",
       "\n",
       "    .dataframe thead th {\n",
       "        text-align: right;\n",
       "    }\n",
       "</style>\n",
       "<table border=\"1\" class=\"dataframe\">\n",
       "  <thead>\n",
       "    <tr style=\"text-align: right;\">\n",
       "      <th></th>\n",
       "      <th>Attraction Name</th>\n",
       "      <th>Attraction Type</th>\n",
       "      <th>City</th>\n",
       "      <th>Country</th>\n",
       "    </tr>\n",
       "  </thead>\n",
       "  <tbody>\n",
       "    <tr>\n",
       "      <th>0</th>\n",
       "      <td>NaN</td>\n",
       "      <td>NaN</td>\n",
       "      <td>Jeddah</td>\n",
       "      <td>Saudi Arabia</td>\n",
       "    </tr>\n",
       "    <tr>\n",
       "      <th>1</th>\n",
       "      <td>Al-Balad</td>\n",
       "      <td>Historic Sites • Neighborhoods</td>\n",
       "      <td>Jeddah</td>\n",
       "      <td>Saudi Arabia</td>\n",
       "    </tr>\n",
       "    <tr>\n",
       "      <th>2</th>\n",
       "      <td>Red Sea Mall</td>\n",
       "      <td>Shopping Malls</td>\n",
       "      <td>Jeddah</td>\n",
       "      <td>Saudi Arabia</td>\n",
       "    </tr>\n",
       "    <tr>\n",
       "      <th>3</th>\n",
       "      <td>Jeddah Corniche</td>\n",
       "      <td>Points of Interest &amp; Landmarks</td>\n",
       "      <td>Jeddah</td>\n",
       "      <td>Saudi Arabia</td>\n",
       "    </tr>\n",
       "    <tr>\n",
       "      <th>4</th>\n",
       "      <td>King Fahd's Fountain</td>\n",
       "      <td>Fountains</td>\n",
       "      <td>Jeddah</td>\n",
       "      <td>Saudi Arabia</td>\n",
       "    </tr>\n",
       "    <tr>\n",
       "      <th>...</th>\n",
       "      <td>...</td>\n",
       "      <td>...</td>\n",
       "      <td>...</td>\n",
       "      <td>...</td>\n",
       "    </tr>\n",
       "    <tr>\n",
       "      <th>163</th>\n",
       "      <td>Cheeky Monkeys</td>\n",
       "      <td>Game &amp; Entertainment Centers</td>\n",
       "      <td>Jeddah</td>\n",
       "      <td>Saudi Arabia</td>\n",
       "    </tr>\n",
       "    <tr>\n",
       "      <th>164</th>\n",
       "      <td>Mega Paintball</td>\n",
       "      <td>Sporting Events</td>\n",
       "      <td>Jeddah</td>\n",
       "      <td>Saudi Arabia</td>\n",
       "    </tr>\n",
       "    <tr>\n",
       "      <th>165</th>\n",
       "      <td>Mega Paintball</td>\n",
       "      <td>Game &amp; Entertainment Centers</td>\n",
       "      <td>Jeddah</td>\n",
       "      <td>Saudi Arabia</td>\n",
       "    </tr>\n",
       "    <tr>\n",
       "      <th>167</th>\n",
       "      <td>The Outfit Maker</td>\n",
       "      <td>Shopping Malls</td>\n",
       "      <td>Jeddah</td>\n",
       "      <td>Saudi Arabia</td>\n",
       "    </tr>\n",
       "    <tr>\n",
       "      <th>168</th>\n",
       "      <td>Mosque Mohammed Hassan Farsi</td>\n",
       "      <td>Points of Interest &amp; Landmarks • Religious Sites</td>\n",
       "      <td>Jeddah</td>\n",
       "      <td>Saudi Arabia</td>\n",
       "    </tr>\n",
       "  </tbody>\n",
       "</table>\n",
       "<p>124 rows × 4 columns</p>\n",
       "</div>"
      ],
      "text/plain": [
       "                  Attraction Name  \\\n",
       "0                             NaN   \n",
       "1                        Al-Balad   \n",
       "2                    Red Sea Mall   \n",
       "3                 Jeddah Corniche   \n",
       "4            King Fahd's Fountain   \n",
       "..                            ...   \n",
       "163                Cheeky Monkeys   \n",
       "164                Mega Paintball   \n",
       "165                Mega Paintball   \n",
       "167              The Outfit Maker   \n",
       "168  Mosque Mohammed Hassan Farsi   \n",
       "\n",
       "                                      Attraction Type    City       Country  \n",
       "0                                                 NaN  Jeddah  Saudi Arabia  \n",
       "1                      Historic Sites • Neighborhoods  Jeddah  Saudi Arabia  \n",
       "2                                      Shopping Malls  Jeddah  Saudi Arabia  \n",
       "3                      Points of Interest & Landmarks  Jeddah  Saudi Arabia  \n",
       "4                                           Fountains  Jeddah  Saudi Arabia  \n",
       "..                                                ...     ...           ...  \n",
       "163                      Game & Entertainment Centers  Jeddah  Saudi Arabia  \n",
       "164                                   Sporting Events  Jeddah  Saudi Arabia  \n",
       "165                      Game & Entertainment Centers  Jeddah  Saudi Arabia  \n",
       "167                                    Shopping Malls  Jeddah  Saudi Arabia  \n",
       "168  Points of Interest & Landmarks • Religious Sites  Jeddah  Saudi Arabia  \n",
       "\n",
       "[124 rows x 4 columns]"
      ]
     },
     "execution_count": 15,
     "metadata": {},
     "output_type": "execute_result"
    }
   ],
   "source": [
    "# drop the duplicated rows\n",
    "df.drop_duplicates()"
   ]
  },
  {
   "cell_type": "code",
   "execution_count": 16,
   "metadata": {},
   "outputs": [
    {
     "data": {
      "text/plain": [
       "Index(['Attraction Name', 'Attraction Type', 'City', 'Country'], dtype='object')"
      ]
     },
     "execution_count": 16,
     "metadata": {},
     "output_type": "execute_result"
    }
   ],
   "source": [
    "df.columns"
   ]
  },
  {
   "cell_type": "code",
   "execution_count": 17,
   "metadata": {},
   "outputs": [
    {
     "data": {
      "text/plain": [
       "Attraction Name    8\n",
       "Attraction Type    1\n",
       "City               0\n",
       "Country            0\n",
       "dtype: int64"
      ]
     },
     "execution_count": 17,
     "metadata": {},
     "output_type": "execute_result"
    }
   ],
   "source": [
    "#checking for total null values\n",
    "df.isnull().sum() "
   ]
  },
  {
   "cell_type": "code",
   "execution_count": 18,
   "metadata": {},
   "outputs": [
    {
     "data": {
      "text/html": [
       "<div>\n",
       "<style scoped>\n",
       "    .dataframe tbody tr th:only-of-type {\n",
       "        vertical-align: middle;\n",
       "    }\n",
       "\n",
       "    .dataframe tbody tr th {\n",
       "        vertical-align: top;\n",
       "    }\n",
       "\n",
       "    .dataframe thead th {\n",
       "        text-align: right;\n",
       "    }\n",
       "</style>\n",
       "<table border=\"1\" class=\"dataframe\">\n",
       "  <thead>\n",
       "    <tr style=\"text-align: right;\">\n",
       "      <th></th>\n",
       "      <th>Attraction Name</th>\n",
       "      <th>Attraction Type</th>\n",
       "      <th>City</th>\n",
       "      <th>Country</th>\n",
       "    </tr>\n",
       "  </thead>\n",
       "  <tbody>\n",
       "    <tr>\n",
       "      <th>0</th>\n",
       "      <td>NaN</td>\n",
       "      <td>NaN</td>\n",
       "      <td>Jeddah</td>\n",
       "      <td>Saudi Arabia</td>\n",
       "    </tr>\n",
       "    <tr>\n",
       "      <th>1</th>\n",
       "      <td>Al-Balad</td>\n",
       "      <td>Historic Sites • Neighborhoods</td>\n",
       "      <td>Jeddah</td>\n",
       "      <td>Saudi Arabia</td>\n",
       "    </tr>\n",
       "    <tr>\n",
       "      <th>2</th>\n",
       "      <td>Red Sea Mall</td>\n",
       "      <td>Shopping Malls</td>\n",
       "      <td>Jeddah</td>\n",
       "      <td>Saudi Arabia</td>\n",
       "    </tr>\n",
       "    <tr>\n",
       "      <th>3</th>\n",
       "      <td>Jeddah Corniche</td>\n",
       "      <td>Points of Interest &amp; Landmarks</td>\n",
       "      <td>Jeddah</td>\n",
       "      <td>Saudi Arabia</td>\n",
       "    </tr>\n",
       "    <tr>\n",
       "      <th>4</th>\n",
       "      <td>King Fahd's Fountain</td>\n",
       "      <td>Fountains</td>\n",
       "      <td>Jeddah</td>\n",
       "      <td>Saudi Arabia</td>\n",
       "    </tr>\n",
       "    <tr>\n",
       "      <th>...</th>\n",
       "      <td>...</td>\n",
       "      <td>...</td>\n",
       "      <td>...</td>\n",
       "      <td>...</td>\n",
       "    </tr>\n",
       "    <tr>\n",
       "      <th>165</th>\n",
       "      <td>Mega Paintball</td>\n",
       "      <td>Game &amp; Entertainment Centers</td>\n",
       "      <td>Jeddah</td>\n",
       "      <td>Saudi Arabia</td>\n",
       "    </tr>\n",
       "    <tr>\n",
       "      <th>166</th>\n",
       "      <td>Bomb Cosmetics</td>\n",
       "      <td>Speciality &amp; Gift Shops</td>\n",
       "      <td>Jeddah</td>\n",
       "      <td>Saudi Arabia</td>\n",
       "    </tr>\n",
       "    <tr>\n",
       "      <th>167</th>\n",
       "      <td>The Outfit Maker</td>\n",
       "      <td>Shopping Malls</td>\n",
       "      <td>Jeddah</td>\n",
       "      <td>Saudi Arabia</td>\n",
       "    </tr>\n",
       "    <tr>\n",
       "      <th>168</th>\n",
       "      <td>Mosque Mohammed Hassan Farsi</td>\n",
       "      <td>Points of Interest &amp; Landmarks • Religious Sites</td>\n",
       "      <td>Jeddah</td>\n",
       "      <td>Saudi Arabia</td>\n",
       "    </tr>\n",
       "    <tr>\n",
       "      <th>169</th>\n",
       "      <td>NaN</td>\n",
       "      <td>1</td>\n",
       "      <td>Jeddah</td>\n",
       "      <td>Saudi Arabia</td>\n",
       "    </tr>\n",
       "  </tbody>\n",
       "</table>\n",
       "<p>170 rows × 4 columns</p>\n",
       "</div>"
      ],
      "text/plain": [
       "                  Attraction Name  \\\n",
       "0                             NaN   \n",
       "1                        Al-Balad   \n",
       "2                    Red Sea Mall   \n",
       "3                 Jeddah Corniche   \n",
       "4            King Fahd's Fountain   \n",
       "..                            ...   \n",
       "165                Mega Paintball   \n",
       "166                Bomb Cosmetics   \n",
       "167              The Outfit Maker   \n",
       "168  Mosque Mohammed Hassan Farsi   \n",
       "169                           NaN   \n",
       "\n",
       "                                      Attraction Type    City       Country  \n",
       "0                                                 NaN  Jeddah  Saudi Arabia  \n",
       "1                      Historic Sites • Neighborhoods  Jeddah  Saudi Arabia  \n",
       "2                                      Shopping Malls  Jeddah  Saudi Arabia  \n",
       "3                      Points of Interest & Landmarks  Jeddah  Saudi Arabia  \n",
       "4                                           Fountains  Jeddah  Saudi Arabia  \n",
       "..                                                ...     ...           ...  \n",
       "165                      Game & Entertainment Centers  Jeddah  Saudi Arabia  \n",
       "166                           Speciality & Gift Shops  Jeddah  Saudi Arabia  \n",
       "167                                    Shopping Malls  Jeddah  Saudi Arabia  \n",
       "168  Points of Interest & Landmarks • Religious Sites  Jeddah  Saudi Arabia  \n",
       "169                                                 1  Jeddah  Saudi Arabia  \n",
       "\n",
       "[170 rows x 4 columns]"
      ]
     },
     "execution_count": 18,
     "metadata": {},
     "output_type": "execute_result"
    }
   ],
   "source": [
    "# reset the index\n",
    "df.reset_index(drop=True)"
   ]
  },
  {
   "cell_type": "code",
   "execution_count": 19,
   "metadata": {},
   "outputs": [
    {
     "name": "stdout",
     "output_type": "stream",
     "text": [
      "<class 'pandas.core.frame.DataFrame'>\n",
      "RangeIndex: 170 entries, 0 to 169\n",
      "Data columns (total 4 columns):\n",
      " #   Column           Non-Null Count  Dtype \n",
      "---  ------           --------------  ----- \n",
      " 0   Attraction Name  162 non-null    object\n",
      " 1   Attraction Type  169 non-null    object\n",
      " 2   City             170 non-null    object\n",
      " 3   Country          170 non-null    object\n",
      "dtypes: object(4)\n",
      "memory usage: 5.4+ KB\n"
     ]
    }
   ],
   "source": [
    "df.info()"
   ]
  },
  {
   "cell_type": "code",
   "execution_count": 20,
   "metadata": {},
   "outputs": [],
   "source": [
    "# Store the clean dataset\n",
    "df.to_csv('Jeddahclean.csv')"
   ]
  }
 ],
 "metadata": {
  "interpreter": {
   "hash": "2921360646c6f5c3a0729850114a5b22e8fb4acfaad82aa3253023e7dda6a667"
  },
  "kernelspec": {
   "display_name": "Python 3.9.10 64-bit (windows store)",
   "language": "python",
   "name": "python3"
  },
  "language_info": {
   "codemirror_mode": {
    "name": "ipython",
    "version": 3
   },
   "file_extension": ".py",
   "mimetype": "text/x-python",
   "name": "python",
   "nbconvert_exporter": "python",
   "pygments_lexer": "ipython3",
   "version": "3.9.10"
  },
  "orig_nbformat": 4
 },
 "nbformat": 4,
 "nbformat_minor": 2
}

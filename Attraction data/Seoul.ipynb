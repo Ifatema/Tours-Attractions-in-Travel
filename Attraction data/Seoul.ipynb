{
 "cells": [
  {
   "cell_type": "code",
   "execution_count": 5,
   "metadata": {},
   "outputs": [],
   "source": [
    "# importing libraries\n",
    "import pandas as pd\n",
    "import numpy as np\n",
    "import matplotlib.pyplot as plt\n",
    "import seaborn as sns"
   ]
  },
  {
   "cell_type": "code",
   "execution_count": 6,
   "metadata": {},
   "outputs": [],
   "source": [
    "# loading the dataframe\n",
    "messy_df = pd.read_csv('Seoul.csv')"
   ]
  },
  {
   "cell_type": "code",
   "execution_count": 8,
   "metadata": {},
   "outputs": [
    {
     "data": {
      "text/html": [
       "<div>\n",
       "<style scoped>\n",
       "    .dataframe tbody tr th:only-of-type {\n",
       "        vertical-align: middle;\n",
       "    }\n",
       "\n",
       "    .dataframe tbody tr th {\n",
       "        vertical-align: top;\n",
       "    }\n",
       "\n",
       "    .dataframe thead th {\n",
       "        text-align: right;\n",
       "    }\n",
       "</style>\n",
       "<table border=\"1\" class=\"dataframe\">\n",
       "  <thead>\n",
       "    <tr style=\"text-align: right;\">\n",
       "      <th></th>\n",
       "      <th>WlYyy</th>\n",
       "      <th>FmrIP href</th>\n",
       "      <th>dugSS src</th>\n",
       "      <th>bUshh</th>\n",
       "      <th>cIVmB</th>\n",
       "      <th>iPqaD href 2</th>\n",
       "      <th>WlYyy 2</th>\n",
       "      <th>WlYyy 3</th>\n",
       "    </tr>\n",
       "  </thead>\n",
       "  <tbody>\n",
       "    <tr>\n",
       "      <th>0</th>\n",
       "      <td>2,000+ places sorted by traveler favorites</td>\n",
       "      <td>NaN</td>\n",
       "      <td>NaN</td>\n",
       "      <td>NaN</td>\n",
       "      <td>NaN</td>\n",
       "      <td>NaN</td>\n",
       "      <td>NaN</td>\n",
       "      <td>NaN</td>\n",
       "    </tr>\n",
       "    <tr>\n",
       "      <th>1</th>\n",
       "      <td>10,654</td>\n",
       "      <td>https://www.tripadvisor.com/Attraction_Review-...</td>\n",
       "      <td>https://dynamic-media-cdn.tripadvisor.com/medi...</td>\n",
       "      <td>Gyeongbokgung Palace</td>\n",
       "      <td>1.0</td>\n",
       "      <td>https://www.tripadvisor.com/Attraction_Review-...</td>\n",
       "      <td>Historic Sites • History Museums</td>\n",
       "      <td>Jongno-gu</td>\n",
       "    </tr>\n",
       "    <tr>\n",
       "      <th>2</th>\n",
       "      <td>1,092</td>\n",
       "      <td>https://www.tripadvisor.com/Attraction_Review-...</td>\n",
       "      <td>https://dynamic-media-cdn.tripadvisor.com/medi...</td>\n",
       "      <td>Bukhansan National Park</td>\n",
       "      <td>2.0</td>\n",
       "      <td>https://www.tripadvisor.com/Attraction_Review-...</td>\n",
       "      <td>National Parks</td>\n",
       "      <td>NaN</td>\n",
       "    </tr>\n",
       "    <tr>\n",
       "      <th>3</th>\n",
       "      <td>10,353</td>\n",
       "      <td>https://www.tripadvisor.com/Attraction_Review-...</td>\n",
       "      <td>https://dynamic-media-cdn.tripadvisor.com/medi...</td>\n",
       "      <td>Myeongdong Shopping Street</td>\n",
       "      <td>3.0</td>\n",
       "      <td>https://www.tripadvisor.com/Attraction_Review-...</td>\n",
       "      <td>Neighborhoods • Points of Interest &amp; Landmarks</td>\n",
       "      <td>Myeongdong / Namdaemun</td>\n",
       "    </tr>\n",
       "    <tr>\n",
       "      <th>4</th>\n",
       "      <td>4,613</td>\n",
       "      <td>https://www.tripadvisor.com/Attraction_Review-...</td>\n",
       "      <td>https://dynamic-media-cdn.tripadvisor.com/medi...</td>\n",
       "      <td>Changdeokgung Palace</td>\n",
       "      <td>4.0</td>\n",
       "      <td>https://www.tripadvisor.com/Attraction_Review-...</td>\n",
       "      <td>Historic Sites • Architectural Buildings</td>\n",
       "      <td>Waryong-dong</td>\n",
       "    </tr>\n",
       "  </tbody>\n",
       "</table>\n",
       "</div>"
      ],
      "text/plain": [
       "                                        WlYyy  \\\n",
       "0  2,000+ places sorted by traveler favorites   \n",
       "1                                      10,654   \n",
       "2                                       1,092   \n",
       "3                                      10,353   \n",
       "4                                       4,613   \n",
       "\n",
       "                                          FmrIP href  \\\n",
       "0                                                NaN   \n",
       "1  https://www.tripadvisor.com/Attraction_Review-...   \n",
       "2  https://www.tripadvisor.com/Attraction_Review-...   \n",
       "3  https://www.tripadvisor.com/Attraction_Review-...   \n",
       "4  https://www.tripadvisor.com/Attraction_Review-...   \n",
       "\n",
       "                                           dugSS src  \\\n",
       "0                                                NaN   \n",
       "1  https://dynamic-media-cdn.tripadvisor.com/medi...   \n",
       "2  https://dynamic-media-cdn.tripadvisor.com/medi...   \n",
       "3  https://dynamic-media-cdn.tripadvisor.com/medi...   \n",
       "4  https://dynamic-media-cdn.tripadvisor.com/medi...   \n",
       "\n",
       "                        bUshh  cIVmB  \\\n",
       "0                         NaN    NaN   \n",
       "1        Gyeongbokgung Palace    1.0   \n",
       "2     Bukhansan National Park    2.0   \n",
       "3  Myeongdong Shopping Street    3.0   \n",
       "4        Changdeokgung Palace    4.0   \n",
       "\n",
       "                                        iPqaD href 2  \\\n",
       "0                                                NaN   \n",
       "1  https://www.tripadvisor.com/Attraction_Review-...   \n",
       "2  https://www.tripadvisor.com/Attraction_Review-...   \n",
       "3  https://www.tripadvisor.com/Attraction_Review-...   \n",
       "4  https://www.tripadvisor.com/Attraction_Review-...   \n",
       "\n",
       "                                          WlYyy 2                 WlYyy 3  \n",
       "0                                             NaN                     NaN  \n",
       "1                Historic Sites • History Museums               Jongno-gu  \n",
       "2                                  National Parks                     NaN  \n",
       "3  Neighborhoods • Points of Interest & Landmarks  Myeongdong / Namdaemun  \n",
       "4        Historic Sites • Architectural Buildings            Waryong-dong  "
      ]
     },
     "execution_count": 8,
     "metadata": {},
     "output_type": "execute_result"
    }
   ],
   "source": [
    "# take a look of the first 5 rows in the data\n",
    "messy_df.head()"
   ]
  },
  {
   "cell_type": "code",
   "execution_count": 9,
   "metadata": {},
   "outputs": [
    {
     "name": "stdout",
     "output_type": "stream",
     "text": [
      "<class 'pandas.core.frame.DataFrame'>\n",
      "RangeIndex: 602 entries, 0 to 601\n",
      "Data columns (total 8 columns):\n",
      " #   Column        Non-Null Count  Dtype  \n",
      "---  ------        --------------  -----  \n",
      " 0   WlYyy         601 non-null    object \n",
      " 1   FmrIP href    578 non-null    object \n",
      " 2   dugSS src     511 non-null    object \n",
      " 3   bUshh         578 non-null    object \n",
      " 4   cIVmB         578 non-null    float64\n",
      " 5   iPqaD href 2  577 non-null    object \n",
      " 6   WlYyy 2       599 non-null    object \n",
      " 7   WlYyy 3       484 non-null    object \n",
      "dtypes: float64(1), object(7)\n",
      "memory usage: 37.8+ KB\n"
     ]
    }
   ],
   "source": [
    "# check the datatype & non-null count\n",
    "messy_df.info()"
   ]
  },
  {
   "cell_type": "code",
   "execution_count": 10,
   "metadata": {},
   "outputs": [],
   "source": [
    "# making a cop of the data to clean it\n",
    "df = messy_df.copy()"
   ]
  },
  {
   "cell_type": "code",
   "execution_count": 11,
   "metadata": {},
   "outputs": [],
   "source": [
    "# dropping the unnecessary columns\n",
    "df.drop(['WlYyy', 'FmrIP href', 'dugSS src', 'cIVmB', 'iPqaD href 2', 'WlYyy 3'], axis=1 , inplace=True)"
   ]
  },
  {
   "cell_type": "code",
   "execution_count": 12,
   "metadata": {},
   "outputs": [],
   "source": [
    "# renaming the columns\n",
    "df.rename(columns={ 'bUshh':'Attraction Name', 'WlYyy 2':'Attraction Type'}, inplace=True)"
   ]
  },
  {
   "cell_type": "code",
   "execution_count": 13,
   "metadata": {},
   "outputs": [],
   "source": [
    "# adding new columns\n",
    "df['City'] = 'Seoul'\n",
    "df['Country'] = 'South Korea'"
   ]
  },
  {
   "cell_type": "code",
   "execution_count": 14,
   "metadata": {},
   "outputs": [
    {
     "data": {
      "text/plain": [
       "43"
      ]
     },
     "execution_count": 14,
     "metadata": {},
     "output_type": "execute_result"
    }
   ],
   "source": [
    "# check the total duplicated rows\n",
    "sum(df.duplicated())"
   ]
  },
  {
   "cell_type": "code",
   "execution_count": 15,
   "metadata": {},
   "outputs": [
    {
     "data": {
      "text/html": [
       "<div>\n",
       "<style scoped>\n",
       "    .dataframe tbody tr th:only-of-type {\n",
       "        vertical-align: middle;\n",
       "    }\n",
       "\n",
       "    .dataframe tbody tr th {\n",
       "        vertical-align: top;\n",
       "    }\n",
       "\n",
       "    .dataframe thead th {\n",
       "        text-align: right;\n",
       "    }\n",
       "</style>\n",
       "<table border=\"1\" class=\"dataframe\">\n",
       "  <thead>\n",
       "    <tr style=\"text-align: right;\">\n",
       "      <th></th>\n",
       "      <th>Attraction Name</th>\n",
       "      <th>Attraction Type</th>\n",
       "      <th>City</th>\n",
       "      <th>Country</th>\n",
       "    </tr>\n",
       "  </thead>\n",
       "  <tbody>\n",
       "    <tr>\n",
       "      <th>0</th>\n",
       "      <td>NaN</td>\n",
       "      <td>NaN</td>\n",
       "      <td>Seoul</td>\n",
       "      <td>South Korea</td>\n",
       "    </tr>\n",
       "    <tr>\n",
       "      <th>1</th>\n",
       "      <td>Gyeongbokgung Palace</td>\n",
       "      <td>Historic Sites • History Museums</td>\n",
       "      <td>Seoul</td>\n",
       "      <td>South Korea</td>\n",
       "    </tr>\n",
       "    <tr>\n",
       "      <th>2</th>\n",
       "      <td>Bukhansan National Park</td>\n",
       "      <td>National Parks</td>\n",
       "      <td>Seoul</td>\n",
       "      <td>South Korea</td>\n",
       "    </tr>\n",
       "    <tr>\n",
       "      <th>3</th>\n",
       "      <td>Myeongdong Shopping Street</td>\n",
       "      <td>Neighborhoods • Points of Interest &amp; Landmarks</td>\n",
       "      <td>Seoul</td>\n",
       "      <td>South Korea</td>\n",
       "    </tr>\n",
       "    <tr>\n",
       "      <th>4</th>\n",
       "      <td>Changdeokgung Palace</td>\n",
       "      <td>Historic Sites • Architectural Buildings</td>\n",
       "      <td>Seoul</td>\n",
       "      <td>South Korea</td>\n",
       "    </tr>\n",
       "    <tr>\n",
       "      <th>...</th>\n",
       "      <td>...</td>\n",
       "      <td>...</td>\n",
       "      <td>...</td>\n",
       "      <td>...</td>\n",
       "    </tr>\n",
       "    <tr>\n",
       "      <th>596</th>\n",
       "      <td>Korea GPS Travel(tours &amp; activities)</td>\n",
       "      <td>City Tours • Multi-day Tours</td>\n",
       "      <td>Seoul</td>\n",
       "      <td>South Korea</td>\n",
       "    </tr>\n",
       "    <tr>\n",
       "      <th>597</th>\n",
       "      <td>Color of Korea Tour</td>\n",
       "      <td>City Tours • Multi-day Tours</td>\n",
       "      <td>Seoul</td>\n",
       "      <td>South Korea</td>\n",
       "    </tr>\n",
       "    <tr>\n",
       "      <th>598</th>\n",
       "      <td>Janet's Cooking Studio &amp; Seoul Food Tour</td>\n",
       "      <td>Cooking Classes • Food Tours</td>\n",
       "      <td>Seoul</td>\n",
       "      <td>South Korea</td>\n",
       "    </tr>\n",
       "    <tr>\n",
       "      <th>599</th>\n",
       "      <td>Hello K Cooking Class</td>\n",
       "      <td>Cultural Tours • Cooking Classes</td>\n",
       "      <td>Seoul</td>\n",
       "      <td>South Korea</td>\n",
       "    </tr>\n",
       "    <tr>\n",
       "      <th>600</th>\n",
       "      <td>OME Cooking Lab</td>\n",
       "      <td>Cooking Classes</td>\n",
       "      <td>Seoul</td>\n",
       "      <td>South Korea</td>\n",
       "    </tr>\n",
       "  </tbody>\n",
       "</table>\n",
       "<p>559 rows × 4 columns</p>\n",
       "</div>"
      ],
      "text/plain": [
       "                              Attraction Name  \\\n",
       "0                                         NaN   \n",
       "1                        Gyeongbokgung Palace   \n",
       "2                     Bukhansan National Park   \n",
       "3                  Myeongdong Shopping Street   \n",
       "4                        Changdeokgung Palace   \n",
       "..                                        ...   \n",
       "596      Korea GPS Travel(tours & activities)   \n",
       "597                       Color of Korea Tour   \n",
       "598  Janet's Cooking Studio & Seoul Food Tour   \n",
       "599                     Hello K Cooking Class   \n",
       "600                           OME Cooking Lab   \n",
       "\n",
       "                                    Attraction Type   City      Country  \n",
       "0                                               NaN  Seoul  South Korea  \n",
       "1                  Historic Sites • History Museums  Seoul  South Korea  \n",
       "2                                    National Parks  Seoul  South Korea  \n",
       "3    Neighborhoods • Points of Interest & Landmarks  Seoul  South Korea  \n",
       "4          Historic Sites • Architectural Buildings  Seoul  South Korea  \n",
       "..                                              ...    ...          ...  \n",
       "596                    City Tours • Multi-day Tours  Seoul  South Korea  \n",
       "597                    City Tours • Multi-day Tours  Seoul  South Korea  \n",
       "598                    Cooking Classes • Food Tours  Seoul  South Korea  \n",
       "599                Cultural Tours • Cooking Classes  Seoul  South Korea  \n",
       "600                                 Cooking Classes  Seoul  South Korea  \n",
       "\n",
       "[559 rows x 4 columns]"
      ]
     },
     "execution_count": 15,
     "metadata": {},
     "output_type": "execute_result"
    }
   ],
   "source": [
    "# drop the duplicated rows\n",
    "df.drop_duplicates()"
   ]
  },
  {
   "cell_type": "code",
   "execution_count": 16,
   "metadata": {},
   "outputs": [
    {
     "data": {
      "text/plain": [
       "Index(['Attraction Name', 'Attraction Type', 'City', 'Country'], dtype='object')"
      ]
     },
     "execution_count": 16,
     "metadata": {},
     "output_type": "execute_result"
    }
   ],
   "source": [
    "df.columns"
   ]
  },
  {
   "cell_type": "code",
   "execution_count": 17,
   "metadata": {},
   "outputs": [
    {
     "data": {
      "text/plain": [
       "Attraction Name    24\n",
       "Attraction Type     3\n",
       "City                0\n",
       "Country             0\n",
       "dtype: int64"
      ]
     },
     "execution_count": 17,
     "metadata": {},
     "output_type": "execute_result"
    }
   ],
   "source": [
    "#checking for total null values\n",
    "df.isnull().sum() "
   ]
  },
  {
   "cell_type": "code",
   "execution_count": 18,
   "metadata": {},
   "outputs": [
    {
     "data": {
      "text/html": [
       "<div>\n",
       "<style scoped>\n",
       "    .dataframe tbody tr th:only-of-type {\n",
       "        vertical-align: middle;\n",
       "    }\n",
       "\n",
       "    .dataframe tbody tr th {\n",
       "        vertical-align: top;\n",
       "    }\n",
       "\n",
       "    .dataframe thead th {\n",
       "        text-align: right;\n",
       "    }\n",
       "</style>\n",
       "<table border=\"1\" class=\"dataframe\">\n",
       "  <thead>\n",
       "    <tr style=\"text-align: right;\">\n",
       "      <th></th>\n",
       "      <th>Attraction Name</th>\n",
       "      <th>Attraction Type</th>\n",
       "      <th>City</th>\n",
       "      <th>Country</th>\n",
       "    </tr>\n",
       "  </thead>\n",
       "  <tbody>\n",
       "    <tr>\n",
       "      <th>0</th>\n",
       "      <td>NaN</td>\n",
       "      <td>NaN</td>\n",
       "      <td>Seoul</td>\n",
       "      <td>South Korea</td>\n",
       "    </tr>\n",
       "    <tr>\n",
       "      <th>1</th>\n",
       "      <td>Gyeongbokgung Palace</td>\n",
       "      <td>Historic Sites • History Museums</td>\n",
       "      <td>Seoul</td>\n",
       "      <td>South Korea</td>\n",
       "    </tr>\n",
       "    <tr>\n",
       "      <th>2</th>\n",
       "      <td>Bukhansan National Park</td>\n",
       "      <td>National Parks</td>\n",
       "      <td>Seoul</td>\n",
       "      <td>South Korea</td>\n",
       "    </tr>\n",
       "    <tr>\n",
       "      <th>3</th>\n",
       "      <td>Myeongdong Shopping Street</td>\n",
       "      <td>Neighborhoods • Points of Interest &amp; Landmarks</td>\n",
       "      <td>Seoul</td>\n",
       "      <td>South Korea</td>\n",
       "    </tr>\n",
       "    <tr>\n",
       "      <th>4</th>\n",
       "      <td>Changdeokgung Palace</td>\n",
       "      <td>Historic Sites • Architectural Buildings</td>\n",
       "      <td>Seoul</td>\n",
       "      <td>South Korea</td>\n",
       "    </tr>\n",
       "    <tr>\n",
       "      <th>...</th>\n",
       "      <td>...</td>\n",
       "      <td>...</td>\n",
       "      <td>...</td>\n",
       "      <td>...</td>\n",
       "    </tr>\n",
       "    <tr>\n",
       "      <th>597</th>\n",
       "      <td>Color of Korea Tour</td>\n",
       "      <td>City Tours • Multi-day Tours</td>\n",
       "      <td>Seoul</td>\n",
       "      <td>South Korea</td>\n",
       "    </tr>\n",
       "    <tr>\n",
       "      <th>598</th>\n",
       "      <td>Janet's Cooking Studio &amp; Seoul Food Tour</td>\n",
       "      <td>Cooking Classes • Food Tours</td>\n",
       "      <td>Seoul</td>\n",
       "      <td>South Korea</td>\n",
       "    </tr>\n",
       "    <tr>\n",
       "      <th>599</th>\n",
       "      <td>Hello K Cooking Class</td>\n",
       "      <td>Cultural Tours • Cooking Classes</td>\n",
       "      <td>Seoul</td>\n",
       "      <td>South Korea</td>\n",
       "    </tr>\n",
       "    <tr>\n",
       "      <th>600</th>\n",
       "      <td>OME Cooking Lab</td>\n",
       "      <td>Cooking Classes</td>\n",
       "      <td>Seoul</td>\n",
       "      <td>South Korea</td>\n",
       "    </tr>\n",
       "    <tr>\n",
       "      <th>601</th>\n",
       "      <td>NaN</td>\n",
       "      <td>1</td>\n",
       "      <td>Seoul</td>\n",
       "      <td>South Korea</td>\n",
       "    </tr>\n",
       "  </tbody>\n",
       "</table>\n",
       "<p>602 rows × 4 columns</p>\n",
       "</div>"
      ],
      "text/plain": [
       "                              Attraction Name  \\\n",
       "0                                         NaN   \n",
       "1                        Gyeongbokgung Palace   \n",
       "2                     Bukhansan National Park   \n",
       "3                  Myeongdong Shopping Street   \n",
       "4                        Changdeokgung Palace   \n",
       "..                                        ...   \n",
       "597                       Color of Korea Tour   \n",
       "598  Janet's Cooking Studio & Seoul Food Tour   \n",
       "599                     Hello K Cooking Class   \n",
       "600                           OME Cooking Lab   \n",
       "601                                       NaN   \n",
       "\n",
       "                                    Attraction Type   City      Country  \n",
       "0                                               NaN  Seoul  South Korea  \n",
       "1                  Historic Sites • History Museums  Seoul  South Korea  \n",
       "2                                    National Parks  Seoul  South Korea  \n",
       "3    Neighborhoods • Points of Interest & Landmarks  Seoul  South Korea  \n",
       "4          Historic Sites • Architectural Buildings  Seoul  South Korea  \n",
       "..                                              ...    ...          ...  \n",
       "597                    City Tours • Multi-day Tours  Seoul  South Korea  \n",
       "598                    Cooking Classes • Food Tours  Seoul  South Korea  \n",
       "599                Cultural Tours • Cooking Classes  Seoul  South Korea  \n",
       "600                                 Cooking Classes  Seoul  South Korea  \n",
       "601                                               1  Seoul  South Korea  \n",
       "\n",
       "[602 rows x 4 columns]"
      ]
     },
     "execution_count": 18,
     "metadata": {},
     "output_type": "execute_result"
    }
   ],
   "source": [
    "# reset the index\n",
    "df.reset_index(drop=True)"
   ]
  },
  {
   "cell_type": "code",
   "execution_count": 19,
   "metadata": {},
   "outputs": [
    {
     "name": "stdout",
     "output_type": "stream",
     "text": [
      "<class 'pandas.core.frame.DataFrame'>\n",
      "RangeIndex: 602 entries, 0 to 601\n",
      "Data columns (total 4 columns):\n",
      " #   Column           Non-Null Count  Dtype \n",
      "---  ------           --------------  ----- \n",
      " 0   Attraction Name  578 non-null    object\n",
      " 1   Attraction Type  599 non-null    object\n",
      " 2   City             602 non-null    object\n",
      " 3   Country          602 non-null    object\n",
      "dtypes: object(4)\n",
      "memory usage: 18.9+ KB\n"
     ]
    }
   ],
   "source": [
    "df.info()"
   ]
  },
  {
   "cell_type": "code",
   "execution_count": 20,
   "metadata": {},
   "outputs": [],
   "source": [
    "# Store the clean dataset\n",
    "df.to_csv('Seoulclean.csv')"
   ]
  }
 ],
 "metadata": {
  "interpreter": {
   "hash": "2921360646c6f5c3a0729850114a5b22e8fb4acfaad82aa3253023e7dda6a667"
  },
  "kernelspec": {
   "display_name": "Python 3.9.10 64-bit (windows store)",
   "language": "python",
   "name": "python3"
  },
  "language_info": {
   "codemirror_mode": {
    "name": "ipython",
    "version": 3
   },
   "file_extension": ".py",
   "mimetype": "text/x-python",
   "name": "python",
   "nbconvert_exporter": "python",
   "pygments_lexer": "ipython3",
   "version": "3.9.10"
  },
  "orig_nbformat": 4
 },
 "nbformat": 4,
 "nbformat_minor": 2
}

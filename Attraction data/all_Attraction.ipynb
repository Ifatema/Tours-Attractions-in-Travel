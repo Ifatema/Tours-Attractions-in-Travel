{
 "cells": [
  {
   "cell_type": "code",
   "execution_count": 2,
   "metadata": {},
   "outputs": [],
   "source": [
    "# importing libraries\n",
    "import pandas as pd\n",
    "import numpy as np\n",
    "import matplotlib.pyplot as plt\n",
    "import seaborn as sns"
   ]
  },
  {
   "cell_type": "code",
   "execution_count": 3,
   "metadata": {},
   "outputs": [],
   "source": [
    "# reading Attraction dataframes\n",
    "df1 = pd.read_csv(r'..\\Attraction data\\AbuDhabiclean.csv')\n",
    "df2 = pd.read_csv(r'..\\Attraction data\\AlUlaclean.csv')\n",
    "df3 = pd.read_csv(r'..\\Attraction data\\Antalyaclean.csv')\n",
    "df4 = pd.read_csv(r'..\\Attraction data\\Beijingclean.csv')\n",
    "df5 = pd.read_csv(r'..\\Attraction data\\Berlinclean.csv')\n",
    "df6 = pd.read_csv(r'..\\Attraction data\\Buenos Airesclean.csv')\n",
    "#df7 = pd.read_csv(r'..\\Attraction data\\Cairoclean.csv')\n",
    "df8 = pd.read_csv(r'..\\Attraction data\\Cape Townclean.csv')\n",
    "df9 = pd.read_csv(r'..\\Attraction data\\Chicagoclean.csv')\n",
    "#df10 = pd.read_csv(r'..\\Attraction data\\Riyadhclean.csv')\n",
    "df11 = pd.read_csv(r'..\\Attraction data\\Athensclean.csv')\n",
    "df12 = pd.read_csv(r'..\\Attraction data\\Dohaclean.csv')\n",
    "df13 = pd.read_csv(r'..\\Attraction data\\Istanbulclean.csv')\n",
    "df14 = pd.read_csv(r'..\\Attraction data\\Jeddahclean.csv')\n",
    "df15 = pd.read_csv(r'..\\Attraction data\\Kuala Lumpurclean.csv')\n",
    "#df16 = pd.read_csv(r'..\\Attraction data\\Londonclean.csv')\n",
    "df17 = pd.read_csv(r'..\\Attraction data\\Madridclean.csv')\n",
    "df18 = pd.read_csv(r'..\\Attraction data\\Marrakechclean.csv')\n",
    "df19 = pd.read_csv(r'..\\Attraction data\\Mumbaiclean.csv')\n",
    "df20 = pd.read_csv(r'..\\Attraction data\\Muscatclean.csv')\n",
    "df21 = pd.read_csv(r'..\\Attraction data\\NewYorkclean.csv')\n",
    "df22 = pd.read_csv(r'..\\Attraction data\\Orlandoclean.csv')\n",
    "df23 = pd.read_csv(r'..\\Attraction data\\Rio de Janeiroclean.csv')\n",
    "#df24 = pd.read_csv(r'..\\Attraction data\\Parisclean.csv')\n",
    "df25 = pd.read_csv(r'..\\Attraction data\\Romeclean.csv')\n",
    "df26 = pd.read_csv(r'..\\Attraction data\\Singaporeclean.csv')\n",
    "df27 = pd.read_csv(r'..\\Attraction data\\Shanghaiclean.csv')\n",
    "df28 = pd.read_csv(r'..\\Attraction data\\Seoulclean.csv')\n",
    "df29 = pd.read_csv(r'..\\Attraction data\\Tokyoclean.csv')\n",
    "df30 = pd.read_csv(r'..\\Attraction data\\Amsterdamclean.csv')\n",
    "df31 = pd.read_csv(r'..\\Attraction data\\Barcelonaclean.csv')\n",
    "df32 = pd.read_csv(r'..\\Attraction data\\Hong Kongclean.csv')\n",
    "df33 = pd.read_csv(r'..\\Attraction data\\LAclean.csv')\n",
    "df34 = pd.read_csv(r'..\\Attraction data\\LVclean.csv')\n",
    "df35 = pd.read_csv(r'..\\Attraction data\\Mexico Cityclean.csv')\n",
    "df36 = pd.read_csv(r'..\\Attraction data\\Sydneyclean.csv')\n",
    "df37 = pd.read_csv(r'..\\Attraction data\\Torontoclean.csv')\n",
    "df38 = pd.read_csv(r'..\\Attraction data\\Viennaclean.csv')"
   ]
  },
  {
   "cell_type": "code",
   "execution_count": 4,
   "metadata": {},
   "outputs": [],
   "source": [
    "# Concatenating DataFrames \n",
    "all_dfs = [df1, df2, df3, df4, df5, df6,  df8, df9, df11, df12, df13, df14, df15, df17, df18, df19, df20, df21, df22, df23, df25, df26, df27, df28, df29, df30, df31, df32, df33, df34, df35, df36, df37, df38]\n",
    "\n",
    "df = pd.concat(all_dfs)"
   ]
  },
  {
   "cell_type": "code",
   "execution_count": 5,
   "metadata": {},
   "outputs": [],
   "source": [
    "# drop the Unnamed: 0 column\n",
    "df.drop('Unnamed: 0', axis=1, inplace=True)"
   ]
  },
  {
   "cell_type": "code",
   "execution_count": 6,
   "metadata": {},
   "outputs": [
    {
     "data": {
      "text/html": [
       "<div>\n",
       "<style scoped>\n",
       "    .dataframe tbody tr th:only-of-type {\n",
       "        vertical-align: middle;\n",
       "    }\n",
       "\n",
       "    .dataframe tbody tr th {\n",
       "        vertical-align: top;\n",
       "    }\n",
       "\n",
       "    .dataframe thead th {\n",
       "        text-align: right;\n",
       "    }\n",
       "</style>\n",
       "<table border=\"1\" class=\"dataframe\">\n",
       "  <thead>\n",
       "    <tr style=\"text-align: right;\">\n",
       "      <th></th>\n",
       "      <th>Attraction Name</th>\n",
       "      <th>Attraction Type</th>\n",
       "      <th>City</th>\n",
       "      <th>Country</th>\n",
       "    </tr>\n",
       "  </thead>\n",
       "  <tbody>\n",
       "    <tr>\n",
       "      <th>0</th>\n",
       "      <td>NaN</td>\n",
       "      <td>NaN</td>\n",
       "      <td>Abu Dhabi</td>\n",
       "      <td>United Arab Emirates</td>\n",
       "    </tr>\n",
       "    <tr>\n",
       "      <th>1</th>\n",
       "      <td>Sheikh Zayed Grand Mosque Center</td>\n",
       "      <td>Religious Sites</td>\n",
       "      <td>Abu Dhabi</td>\n",
       "      <td>United Arab Emirates</td>\n",
       "    </tr>\n",
       "    <tr>\n",
       "      <th>2</th>\n",
       "      <td>Louvre Abu Dhabi</td>\n",
       "      <td>Art Museums • History Museums</td>\n",
       "      <td>Abu Dhabi</td>\n",
       "      <td>United Arab Emirates</td>\n",
       "    </tr>\n",
       "    <tr>\n",
       "      <th>3</th>\n",
       "      <td>Emirates Palace</td>\n",
       "      <td>Architectural Buildings</td>\n",
       "      <td>Abu Dhabi</td>\n",
       "      <td>United Arab Emirates</td>\n",
       "    </tr>\n",
       "    <tr>\n",
       "      <th>4</th>\n",
       "      <td>Yas Marina Circuit</td>\n",
       "      <td>Auto Racing Tracks</td>\n",
       "      <td>Abu Dhabi</td>\n",
       "      <td>United Arab Emirates</td>\n",
       "    </tr>\n",
       "  </tbody>\n",
       "</table>\n",
       "</div>"
      ],
      "text/plain": [
       "                    Attraction Name                Attraction Type       City  \\\n",
       "0                               NaN                            NaN  Abu Dhabi   \n",
       "1  Sheikh Zayed Grand Mosque Center                Religious Sites  Abu Dhabi   \n",
       "2                  Louvre Abu Dhabi  Art Museums • History Museums  Abu Dhabi   \n",
       "3                   Emirates Palace        Architectural Buildings  Abu Dhabi   \n",
       "4                Yas Marina Circuit             Auto Racing Tracks  Abu Dhabi   \n",
       "\n",
       "                Country  \n",
       "0  United Arab Emirates  \n",
       "1  United Arab Emirates  \n",
       "2  United Arab Emirates  \n",
       "3  United Arab Emirates  \n",
       "4  United Arab Emirates  "
      ]
     },
     "execution_count": 6,
     "metadata": {},
     "output_type": "execute_result"
    }
   ],
   "source": [
    "# to check the concatenating\n",
    "df.head()"
   ]
  },
  {
   "cell_type": "code",
   "execution_count": 7,
   "metadata": {},
   "outputs": [
    {
     "name": "stdout",
     "output_type": "stream",
     "text": [
      "<class 'pandas.core.frame.DataFrame'>\n",
      "Int64Index: 15140 entries, 0 to 496\n",
      "Data columns (total 4 columns):\n",
      " #   Column           Non-Null Count  Dtype \n",
      "---  ------           --------------  ----- \n",
      " 0   Attraction Name  14550 non-null  object\n",
      " 1   Attraction Type  15085 non-null  object\n",
      " 2   City             15140 non-null  object\n",
      " 3   Country          15140 non-null  object\n",
      "dtypes: object(4)\n",
      "memory usage: 591.4+ KB\n"
     ]
    }
   ],
   "source": [
    "df.info()"
   ]
  }
 ],
 "metadata": {
  "interpreter": {
   "hash": "2921360646c6f5c3a0729850114a5b22e8fb4acfaad82aa3253023e7dda6a667"
  },
  "kernelspec": {
   "display_name": "Python 3.9.10 64-bit (windows store)",
   "language": "python",
   "name": "python3"
  },
  "language_info": {
   "codemirror_mode": {
    "name": "ipython",
    "version": 3
   },
   "file_extension": ".py",
   "mimetype": "text/x-python",
   "name": "python",
   "nbconvert_exporter": "python",
   "pygments_lexer": "ipython3",
   "version": "3.9.10"
  },
  "orig_nbformat": 4
 },
 "nbformat": 4,
 "nbformat_minor": 2
}

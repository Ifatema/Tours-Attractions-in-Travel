{
 "cells": [
  {
   "cell_type": "code",
   "execution_count": 5,
   "metadata": {},
   "outputs": [],
   "source": [
    "# importing libraries\n",
    "import pandas as pd\n",
    "import numpy as np\n",
    "import matplotlib.pyplot as plt\n",
    "import seaborn as sns"
   ]
  },
  {
   "cell_type": "code",
   "execution_count": 6,
   "metadata": {},
   "outputs": [],
   "source": [
    "# loading the dataframe\n",
    "messy_df = pd.read_csv('Mexico City.csv')"
   ]
  },
  {
   "cell_type": "code",
   "execution_count": 7,
   "metadata": {},
   "outputs": [
    {
     "data": {
      "text/html": [
       "<div>\n",
       "<style scoped>\n",
       "    .dataframe tbody tr th:only-of-type {\n",
       "        vertical-align: middle;\n",
       "    }\n",
       "\n",
       "    .dataframe tbody tr th {\n",
       "        vertical-align: top;\n",
       "    }\n",
       "\n",
       "    .dataframe thead th {\n",
       "        text-align: right;\n",
       "    }\n",
       "</style>\n",
       "<table border=\"1\" class=\"dataframe\">\n",
       "  <thead>\n",
       "    <tr style=\"text-align: right;\">\n",
       "      <th></th>\n",
       "      <th>WlYyy</th>\n",
       "      <th>FmrIP href</th>\n",
       "      <th>dugSS src</th>\n",
       "      <th>bUshh</th>\n",
       "      <th>cIVmB</th>\n",
       "      <th>iPqaD href 2</th>\n",
       "      <th>WlYyy 2</th>\n",
       "      <th>WlYyy 3</th>\n",
       "    </tr>\n",
       "  </thead>\n",
       "  <tbody>\n",
       "    <tr>\n",
       "      <th>0</th>\n",
       "      <td>1,000+ places sorted by traveler favorites</td>\n",
       "      <td>NaN</td>\n",
       "      <td>NaN</td>\n",
       "      <td>NaN</td>\n",
       "      <td>NaN</td>\n",
       "      <td>NaN</td>\n",
       "      <td>NaN</td>\n",
       "      <td>NaN</td>\n",
       "    </tr>\n",
       "    <tr>\n",
       "      <th>1</th>\n",
       "      <td>19,804</td>\n",
       "      <td>https://www.tripadvisor.com/Attraction_Review-...</td>\n",
       "      <td>https://dynamic-media-cdn.tripadvisor.com/medi...</td>\n",
       "      <td>Museo Nacional de Antropologia</td>\n",
       "      <td>1.0</td>\n",
       "      <td>https://www.tripadvisor.com/Attraction_Review-...</td>\n",
       "      <td>Natural History Museums • History Museums</td>\n",
       "      <td>Miguel Hidalgo</td>\n",
       "    </tr>\n",
       "    <tr>\n",
       "      <th>2</th>\n",
       "      <td>10,654</td>\n",
       "      <td>https://www.tripadvisor.com/Attraction_Review-...</td>\n",
       "      <td>https://dynamic-media-cdn.tripadvisor.com/medi...</td>\n",
       "      <td>Chapultepec Castle</td>\n",
       "      <td>2.0</td>\n",
       "      <td>https://www.tripadvisor.com/Attraction_Review-...</td>\n",
       "      <td>Castles</td>\n",
       "      <td>Miguel Hidalgo</td>\n",
       "    </tr>\n",
       "    <tr>\n",
       "      <th>3</th>\n",
       "      <td>7,815</td>\n",
       "      <td>https://www.tripadvisor.com/Attraction_Review-...</td>\n",
       "      <td>https://dynamic-media-cdn.tripadvisor.com/medi...</td>\n",
       "      <td>Basilica de Santa Maria de Guadalupe</td>\n",
       "      <td>3.0</td>\n",
       "      <td>https://www.tripadvisor.com/Attraction_Review-...</td>\n",
       "      <td>Historic Sites • Churches &amp; Cathedrals</td>\n",
       "      <td>Gustavo A. Madero</td>\n",
       "    </tr>\n",
       "    <tr>\n",
       "      <th>4</th>\n",
       "      <td>10,844</td>\n",
       "      <td>https://www.tripadvisor.com/Attraction_Review-...</td>\n",
       "      <td>https://dynamic-media-cdn.tripadvisor.com/medi...</td>\n",
       "      <td>Palacio de Bellas Artes</td>\n",
       "      <td>4.0</td>\n",
       "      <td>https://www.tripadvisor.com/Attraction_Review-...</td>\n",
       "      <td>Art Museums</td>\n",
       "      <td>Cuauhtémoc District</td>\n",
       "    </tr>\n",
       "  </tbody>\n",
       "</table>\n",
       "</div>"
      ],
      "text/plain": [
       "                                        WlYyy  \\\n",
       "0  1,000+ places sorted by traveler favorites   \n",
       "1                                      19,804   \n",
       "2                                      10,654   \n",
       "3                                       7,815   \n",
       "4                                      10,844   \n",
       "\n",
       "                                          FmrIP href  \\\n",
       "0                                                NaN   \n",
       "1  https://www.tripadvisor.com/Attraction_Review-...   \n",
       "2  https://www.tripadvisor.com/Attraction_Review-...   \n",
       "3  https://www.tripadvisor.com/Attraction_Review-...   \n",
       "4  https://www.tripadvisor.com/Attraction_Review-...   \n",
       "\n",
       "                                           dugSS src  \\\n",
       "0                                                NaN   \n",
       "1  https://dynamic-media-cdn.tripadvisor.com/medi...   \n",
       "2  https://dynamic-media-cdn.tripadvisor.com/medi...   \n",
       "3  https://dynamic-media-cdn.tripadvisor.com/medi...   \n",
       "4  https://dynamic-media-cdn.tripadvisor.com/medi...   \n",
       "\n",
       "                                  bUshh  cIVmB  \\\n",
       "0                                   NaN    NaN   \n",
       "1        Museo Nacional de Antropologia    1.0   \n",
       "2                    Chapultepec Castle    2.0   \n",
       "3  Basilica de Santa Maria de Guadalupe    3.0   \n",
       "4               Palacio de Bellas Artes    4.0   \n",
       "\n",
       "                                        iPqaD href 2  \\\n",
       "0                                                NaN   \n",
       "1  https://www.tripadvisor.com/Attraction_Review-...   \n",
       "2  https://www.tripadvisor.com/Attraction_Review-...   \n",
       "3  https://www.tripadvisor.com/Attraction_Review-...   \n",
       "4  https://www.tripadvisor.com/Attraction_Review-...   \n",
       "\n",
       "                                     WlYyy 2              WlYyy 3  \n",
       "0                                        NaN                  NaN  \n",
       "1  Natural History Museums • History Museums       Miguel Hidalgo  \n",
       "2                                    Castles       Miguel Hidalgo  \n",
       "3     Historic Sites • Churches & Cathedrals    Gustavo A. Madero  \n",
       "4                                Art Museums  Cuauhtémoc District  "
      ]
     },
     "execution_count": 7,
     "metadata": {},
     "output_type": "execute_result"
    }
   ],
   "source": [
    "# take a look of the first 5 rows in the data\n",
    "messy_df.head()"
   ]
  },
  {
   "cell_type": "code",
   "execution_count": 8,
   "metadata": {},
   "outputs": [
    {
     "name": "stdout",
     "output_type": "stream",
     "text": [
      "<class 'pandas.core.frame.DataFrame'>\n",
      "RangeIndex: 497 entries, 0 to 496\n",
      "Data columns (total 8 columns):\n",
      " #   Column        Non-Null Count  Dtype  \n",
      "---  ------        --------------  -----  \n",
      " 0   WlYyy         497 non-null    object \n",
      " 1   FmrIP href    480 non-null    object \n",
      " 2   dugSS src     452 non-null    object \n",
      " 3   bUshh         480 non-null    object \n",
      " 4   cIVmB         480 non-null    float64\n",
      " 5   iPqaD href 2  480 non-null    object \n",
      " 6   WlYyy 2       496 non-null    object \n",
      " 7   WlYyy 3       473 non-null    object \n",
      "dtypes: float64(1), object(7)\n",
      "memory usage: 31.2+ KB\n"
     ]
    }
   ],
   "source": [
    "# check the datatype & non-null count\n",
    "messy_df.info()"
   ]
  },
  {
   "cell_type": "code",
   "execution_count": 9,
   "metadata": {},
   "outputs": [],
   "source": [
    "# making a cop of the data to clean it\n",
    "df = messy_df.copy()"
   ]
  },
  {
   "cell_type": "code",
   "execution_count": 10,
   "metadata": {},
   "outputs": [],
   "source": [
    "# dropping the unnecessary columns\n",
    "df.drop(['WlYyy', 'FmrIP href', 'dugSS src', 'cIVmB', 'iPqaD href 2', 'WlYyy 3'], axis=1 , inplace=True)"
   ]
  },
  {
   "cell_type": "code",
   "execution_count": 11,
   "metadata": {},
   "outputs": [],
   "source": [
    "# renaming the columns\n",
    "df.rename(columns={ 'bUshh':'Attraction Name', 'WlYyy 2':'Attraction Type'}, inplace=True)"
   ]
  },
  {
   "cell_type": "code",
   "execution_count": 12,
   "metadata": {},
   "outputs": [],
   "source": [
    "# adding new columns\n",
    "df['City'] = 'Mexico City'\n",
    "df['Country'] = 'Mexico'"
   ]
  },
  {
   "cell_type": "code",
   "execution_count": 13,
   "metadata": {},
   "outputs": [
    {
     "data": {
      "text/plain": [
       "15"
      ]
     },
     "execution_count": 13,
     "metadata": {},
     "output_type": "execute_result"
    }
   ],
   "source": [
    "# check the total duplicated rows\n",
    "sum(df.duplicated())"
   ]
  },
  {
   "cell_type": "code",
   "execution_count": 14,
   "metadata": {},
   "outputs": [
    {
     "data": {
      "text/html": [
       "<div>\n",
       "<style scoped>\n",
       "    .dataframe tbody tr th:only-of-type {\n",
       "        vertical-align: middle;\n",
       "    }\n",
       "\n",
       "    .dataframe tbody tr th {\n",
       "        vertical-align: top;\n",
       "    }\n",
       "\n",
       "    .dataframe thead th {\n",
       "        text-align: right;\n",
       "    }\n",
       "</style>\n",
       "<table border=\"1\" class=\"dataframe\">\n",
       "  <thead>\n",
       "    <tr style=\"text-align: right;\">\n",
       "      <th></th>\n",
       "      <th>Attraction Name</th>\n",
       "      <th>Attraction Type</th>\n",
       "      <th>City</th>\n",
       "      <th>Country</th>\n",
       "    </tr>\n",
       "  </thead>\n",
       "  <tbody>\n",
       "    <tr>\n",
       "      <th>0</th>\n",
       "      <td>NaN</td>\n",
       "      <td>NaN</td>\n",
       "      <td>Mexico City</td>\n",
       "      <td>Mexico</td>\n",
       "    </tr>\n",
       "    <tr>\n",
       "      <th>1</th>\n",
       "      <td>Museo Nacional de Antropologia</td>\n",
       "      <td>Natural History Museums • History Museums</td>\n",
       "      <td>Mexico City</td>\n",
       "      <td>Mexico</td>\n",
       "    </tr>\n",
       "    <tr>\n",
       "      <th>2</th>\n",
       "      <td>Chapultepec Castle</td>\n",
       "      <td>Castles</td>\n",
       "      <td>Mexico City</td>\n",
       "      <td>Mexico</td>\n",
       "    </tr>\n",
       "    <tr>\n",
       "      <th>3</th>\n",
       "      <td>Basilica de Santa Maria de Guadalupe</td>\n",
       "      <td>Historic Sites • Churches &amp; Cathedrals</td>\n",
       "      <td>Mexico City</td>\n",
       "      <td>Mexico</td>\n",
       "    </tr>\n",
       "    <tr>\n",
       "      <th>4</th>\n",
       "      <td>Palacio de Bellas Artes</td>\n",
       "      <td>Art Museums</td>\n",
       "      <td>Mexico City</td>\n",
       "      <td>Mexico</td>\n",
       "    </tr>\n",
       "    <tr>\n",
       "      <th>...</th>\n",
       "      <td>...</td>\n",
       "      <td>...</td>\n",
       "      <td>...</td>\n",
       "      <td>...</td>\n",
       "    </tr>\n",
       "    <tr>\n",
       "      <th>491</th>\n",
       "      <td>Plaza Romita</td>\n",
       "      <td>Points of Interest &amp; Landmarks</td>\n",
       "      <td>Mexico City</td>\n",
       "      <td>Mexico</td>\n",
       "    </tr>\n",
       "    <tr>\n",
       "      <th>492</th>\n",
       "      <td>Capilla de la Concepción</td>\n",
       "      <td>Religious Sites</td>\n",
       "      <td>Mexico City</td>\n",
       "      <td>Mexico</td>\n",
       "    </tr>\n",
       "    <tr>\n",
       "      <th>493</th>\n",
       "      <td>Canales de Xochimilco</td>\n",
       "      <td>Bodies of Water</td>\n",
       "      <td>Mexico City</td>\n",
       "      <td>Mexico</td>\n",
       "    </tr>\n",
       "    <tr>\n",
       "      <th>494</th>\n",
       "      <td>Monumento a los Indios Verdes</td>\n",
       "      <td>Monuments &amp; Statues</td>\n",
       "      <td>Mexico City</td>\n",
       "      <td>Mexico</td>\n",
       "    </tr>\n",
       "    <tr>\n",
       "      <th>495</th>\n",
       "      <td>Catedral Ortodoxa Antioqueña</td>\n",
       "      <td>Churches &amp; Cathedrals</td>\n",
       "      <td>Mexico City</td>\n",
       "      <td>Mexico</td>\n",
       "    </tr>\n",
       "  </tbody>\n",
       "</table>\n",
       "<p>482 rows × 4 columns</p>\n",
       "</div>"
      ],
      "text/plain": [
       "                          Attraction Name  \\\n",
       "0                                     NaN   \n",
       "1          Museo Nacional de Antropologia   \n",
       "2                      Chapultepec Castle   \n",
       "3    Basilica de Santa Maria de Guadalupe   \n",
       "4                 Palacio de Bellas Artes   \n",
       "..                                    ...   \n",
       "491                          Plaza Romita   \n",
       "492              Capilla de la Concepción   \n",
       "493                 Canales de Xochimilco   \n",
       "494         Monumento a los Indios Verdes   \n",
       "495          Catedral Ortodoxa Antioqueña   \n",
       "\n",
       "                               Attraction Type         City Country  \n",
       "0                                          NaN  Mexico City  Mexico  \n",
       "1    Natural History Museums • History Museums  Mexico City  Mexico  \n",
       "2                                      Castles  Mexico City  Mexico  \n",
       "3       Historic Sites • Churches & Cathedrals  Mexico City  Mexico  \n",
       "4                                  Art Museums  Mexico City  Mexico  \n",
       "..                                         ...          ...     ...  \n",
       "491             Points of Interest & Landmarks  Mexico City  Mexico  \n",
       "492                            Religious Sites  Mexico City  Mexico  \n",
       "493                            Bodies of Water  Mexico City  Mexico  \n",
       "494                        Monuments & Statues  Mexico City  Mexico  \n",
       "495                      Churches & Cathedrals  Mexico City  Mexico  \n",
       "\n",
       "[482 rows x 4 columns]"
      ]
     },
     "execution_count": 14,
     "metadata": {},
     "output_type": "execute_result"
    }
   ],
   "source": [
    "# drop the duplicated rows\n",
    "df.drop_duplicates()"
   ]
  },
  {
   "cell_type": "code",
   "execution_count": 15,
   "metadata": {},
   "outputs": [
    {
     "data": {
      "text/plain": [
       "Index(['Attraction Name', 'Attraction Type', 'City', 'Country'], dtype='object')"
      ]
     },
     "execution_count": 15,
     "metadata": {},
     "output_type": "execute_result"
    }
   ],
   "source": [
    "df.columns"
   ]
  },
  {
   "cell_type": "code",
   "execution_count": 16,
   "metadata": {},
   "outputs": [
    {
     "data": {
      "text/plain": [
       "Attraction Name    17\n",
       "Attraction Type     1\n",
       "City                0\n",
       "Country             0\n",
       "dtype: int64"
      ]
     },
     "execution_count": 16,
     "metadata": {},
     "output_type": "execute_result"
    }
   ],
   "source": [
    "#checking for total null values\n",
    "df.isnull().sum() "
   ]
  },
  {
   "cell_type": "code",
   "execution_count": 17,
   "metadata": {},
   "outputs": [
    {
     "data": {
      "text/html": [
       "<div>\n",
       "<style scoped>\n",
       "    .dataframe tbody tr th:only-of-type {\n",
       "        vertical-align: middle;\n",
       "    }\n",
       "\n",
       "    .dataframe tbody tr th {\n",
       "        vertical-align: top;\n",
       "    }\n",
       "\n",
       "    .dataframe thead th {\n",
       "        text-align: right;\n",
       "    }\n",
       "</style>\n",
       "<table border=\"1\" class=\"dataframe\">\n",
       "  <thead>\n",
       "    <tr style=\"text-align: right;\">\n",
       "      <th></th>\n",
       "      <th>Attraction Name</th>\n",
       "      <th>Attraction Type</th>\n",
       "      <th>City</th>\n",
       "      <th>Country</th>\n",
       "    </tr>\n",
       "  </thead>\n",
       "  <tbody>\n",
       "    <tr>\n",
       "      <th>0</th>\n",
       "      <td>NaN</td>\n",
       "      <td>NaN</td>\n",
       "      <td>Mexico City</td>\n",
       "      <td>Mexico</td>\n",
       "    </tr>\n",
       "    <tr>\n",
       "      <th>1</th>\n",
       "      <td>Museo Nacional de Antropologia</td>\n",
       "      <td>Natural History Museums • History Museums</td>\n",
       "      <td>Mexico City</td>\n",
       "      <td>Mexico</td>\n",
       "    </tr>\n",
       "    <tr>\n",
       "      <th>2</th>\n",
       "      <td>Chapultepec Castle</td>\n",
       "      <td>Castles</td>\n",
       "      <td>Mexico City</td>\n",
       "      <td>Mexico</td>\n",
       "    </tr>\n",
       "    <tr>\n",
       "      <th>3</th>\n",
       "      <td>Basilica de Santa Maria de Guadalupe</td>\n",
       "      <td>Historic Sites • Churches &amp; Cathedrals</td>\n",
       "      <td>Mexico City</td>\n",
       "      <td>Mexico</td>\n",
       "    </tr>\n",
       "    <tr>\n",
       "      <th>4</th>\n",
       "      <td>Palacio de Bellas Artes</td>\n",
       "      <td>Art Museums</td>\n",
       "      <td>Mexico City</td>\n",
       "      <td>Mexico</td>\n",
       "    </tr>\n",
       "    <tr>\n",
       "      <th>...</th>\n",
       "      <td>...</td>\n",
       "      <td>...</td>\n",
       "      <td>...</td>\n",
       "      <td>...</td>\n",
       "    </tr>\n",
       "    <tr>\n",
       "      <th>492</th>\n",
       "      <td>Capilla de la Concepción</td>\n",
       "      <td>Religious Sites</td>\n",
       "      <td>Mexico City</td>\n",
       "      <td>Mexico</td>\n",
       "    </tr>\n",
       "    <tr>\n",
       "      <th>493</th>\n",
       "      <td>Canales de Xochimilco</td>\n",
       "      <td>Bodies of Water</td>\n",
       "      <td>Mexico City</td>\n",
       "      <td>Mexico</td>\n",
       "    </tr>\n",
       "    <tr>\n",
       "      <th>494</th>\n",
       "      <td>Monumento a los Indios Verdes</td>\n",
       "      <td>Monuments &amp; Statues</td>\n",
       "      <td>Mexico City</td>\n",
       "      <td>Mexico</td>\n",
       "    </tr>\n",
       "    <tr>\n",
       "      <th>495</th>\n",
       "      <td>Catedral Ortodoxa Antioqueña</td>\n",
       "      <td>Churches &amp; Cathedrals</td>\n",
       "      <td>Mexico City</td>\n",
       "      <td>Mexico</td>\n",
       "    </tr>\n",
       "    <tr>\n",
       "      <th>496</th>\n",
       "      <td>NaN</td>\n",
       "      <td>1</td>\n",
       "      <td>Mexico City</td>\n",
       "      <td>Mexico</td>\n",
       "    </tr>\n",
       "  </tbody>\n",
       "</table>\n",
       "<p>497 rows × 4 columns</p>\n",
       "</div>"
      ],
      "text/plain": [
       "                          Attraction Name  \\\n",
       "0                                     NaN   \n",
       "1          Museo Nacional de Antropologia   \n",
       "2                      Chapultepec Castle   \n",
       "3    Basilica de Santa Maria de Guadalupe   \n",
       "4                 Palacio de Bellas Artes   \n",
       "..                                    ...   \n",
       "492              Capilla de la Concepción   \n",
       "493                 Canales de Xochimilco   \n",
       "494         Monumento a los Indios Verdes   \n",
       "495          Catedral Ortodoxa Antioqueña   \n",
       "496                                   NaN   \n",
       "\n",
       "                               Attraction Type         City Country  \n",
       "0                                          NaN  Mexico City  Mexico  \n",
       "1    Natural History Museums • History Museums  Mexico City  Mexico  \n",
       "2                                      Castles  Mexico City  Mexico  \n",
       "3       Historic Sites • Churches & Cathedrals  Mexico City  Mexico  \n",
       "4                                  Art Museums  Mexico City  Mexico  \n",
       "..                                         ...          ...     ...  \n",
       "492                            Religious Sites  Mexico City  Mexico  \n",
       "493                            Bodies of Water  Mexico City  Mexico  \n",
       "494                        Monuments & Statues  Mexico City  Mexico  \n",
       "495                      Churches & Cathedrals  Mexico City  Mexico  \n",
       "496                                          1  Mexico City  Mexico  \n",
       "\n",
       "[497 rows x 4 columns]"
      ]
     },
     "execution_count": 17,
     "metadata": {},
     "output_type": "execute_result"
    }
   ],
   "source": [
    "# reset the index\n",
    "df.reset_index(drop=True)"
   ]
  },
  {
   "cell_type": "code",
   "execution_count": 18,
   "metadata": {},
   "outputs": [
    {
     "name": "stdout",
     "output_type": "stream",
     "text": [
      "<class 'pandas.core.frame.DataFrame'>\n",
      "RangeIndex: 497 entries, 0 to 496\n",
      "Data columns (total 4 columns):\n",
      " #   Column           Non-Null Count  Dtype \n",
      "---  ------           --------------  ----- \n",
      " 0   Attraction Name  480 non-null    object\n",
      " 1   Attraction Type  496 non-null    object\n",
      " 2   City             497 non-null    object\n",
      " 3   Country          497 non-null    object\n",
      "dtypes: object(4)\n",
      "memory usage: 15.7+ KB\n"
     ]
    }
   ],
   "source": [
    "df.info()"
   ]
  },
  {
   "cell_type": "code",
   "execution_count": 19,
   "metadata": {},
   "outputs": [],
   "source": [
    "# Store the clean dataset\n",
    "df.to_csv('Mexico Cityclean.csv')"
   ]
  }
 ],
 "metadata": {
  "interpreter": {
   "hash": "2921360646c6f5c3a0729850114a5b22e8fb4acfaad82aa3253023e7dda6a667"
  },
  "kernelspec": {
   "display_name": "Python 3.9.10 64-bit (windows store)",
   "language": "python",
   "name": "python3"
  },
  "language_info": {
   "codemirror_mode": {
    "name": "ipython",
    "version": 3
   },
   "file_extension": ".py",
   "mimetype": "text/x-python",
   "name": "python",
   "nbconvert_exporter": "python",
   "pygments_lexer": "ipython3",
   "version": "3.9.10"
  },
  "orig_nbformat": 4
 },
 "nbformat": 4,
 "nbformat_minor": 2
}

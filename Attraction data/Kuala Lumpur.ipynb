{
 "cells": [
  {
   "cell_type": "code",
   "execution_count": 5,
   "metadata": {},
   "outputs": [],
   "source": [
    "# importing libraries\n",
    "import pandas as pd\n",
    "import numpy as np\n",
    "import matplotlib.pyplot as plt\n",
    "import seaborn as sns"
   ]
  },
  {
   "cell_type": "code",
   "execution_count": 6,
   "metadata": {},
   "outputs": [],
   "source": [
    "# loading the dataframe\n",
    "messy_df = pd.read_csv('Kuala Lumpur.csv')"
   ]
  },
  {
   "cell_type": "code",
   "execution_count": 7,
   "metadata": {},
   "outputs": [
    {
     "data": {
      "text/plain": [
       "Index(['WlYyy', 'FmrIP href', 'dugSS src', 'bUshh', 'cIVmB', 'iPqaD href 2',\n",
       "       'WlYyy 2', 'WlYyy 3', 'iPqaD href 3', 'dugSS src 2', 'WlYyy 5', 'iPqaD',\n",
       "       'iPqaD href 5', 'WlYyy 6', 'dkvhj', 'WlYyy 7'],\n",
       "      dtype='object')"
      ]
     },
     "execution_count": 7,
     "metadata": {},
     "output_type": "execute_result"
    }
   ],
   "source": [
    "messy_df.columns"
   ]
  },
  {
   "cell_type": "code",
   "execution_count": 8,
   "metadata": {},
   "outputs": [
    {
     "data": {
      "text/html": [
       "<div>\n",
       "<style scoped>\n",
       "    .dataframe tbody tr th:only-of-type {\n",
       "        vertical-align: middle;\n",
       "    }\n",
       "\n",
       "    .dataframe tbody tr th {\n",
       "        vertical-align: top;\n",
       "    }\n",
       "\n",
       "    .dataframe thead th {\n",
       "        text-align: right;\n",
       "    }\n",
       "</style>\n",
       "<table border=\"1\" class=\"dataframe\">\n",
       "  <thead>\n",
       "    <tr style=\"text-align: right;\">\n",
       "      <th></th>\n",
       "      <th>WlYyy</th>\n",
       "      <th>FmrIP href</th>\n",
       "      <th>dugSS src</th>\n",
       "      <th>bUshh</th>\n",
       "      <th>cIVmB</th>\n",
       "      <th>iPqaD href 2</th>\n",
       "      <th>WlYyy 2</th>\n",
       "      <th>WlYyy 3</th>\n",
       "      <th>iPqaD href 3</th>\n",
       "      <th>dugSS src 2</th>\n",
       "      <th>WlYyy 5</th>\n",
       "      <th>iPqaD</th>\n",
       "      <th>iPqaD href 5</th>\n",
       "      <th>WlYyy 6</th>\n",
       "      <th>dkvhj</th>\n",
       "      <th>WlYyy 7</th>\n",
       "    </tr>\n",
       "  </thead>\n",
       "  <tbody>\n",
       "    <tr>\n",
       "      <th>0</th>\n",
       "      <td>1,000+ places sorted by traveler favorites</td>\n",
       "      <td>NaN</td>\n",
       "      <td>NaN</td>\n",
       "      <td>NaN</td>\n",
       "      <td>NaN</td>\n",
       "      <td>NaN</td>\n",
       "      <td>NaN</td>\n",
       "      <td>NaN</td>\n",
       "      <td>NaN</td>\n",
       "      <td>NaN</td>\n",
       "      <td>NaN</td>\n",
       "      <td>NaN</td>\n",
       "      <td>NaN</td>\n",
       "      <td>NaN</td>\n",
       "      <td>NaN</td>\n",
       "      <td>NaN</td>\n",
       "    </tr>\n",
       "    <tr>\n",
       "      <th>1</th>\n",
       "      <td>30,113</td>\n",
       "      <td>https://www.tripadvisor.com/Attraction_Review-...</td>\n",
       "      <td>https://dynamic-media-cdn.tripadvisor.com/medi...</td>\n",
       "      <td>Petronas Twin Towers</td>\n",
       "      <td>1.0</td>\n",
       "      <td>https://www.tripadvisor.com/Attraction_Review-...</td>\n",
       "      <td>Architectural Buildings</td>\n",
       "      <td>Open now</td>\n",
       "      <td>https://www.tripadvisor.com/Profile/217fredg</td>\n",
       "      <td>https://dynamic-media-cdn.tripadvisor.com/medi...</td>\n",
       "      <td>By</td>\n",
       "      <td>217fredg</td>\n",
       "      <td>https://www.tripadvisor.com/ShowUserReviews-g2...</td>\n",
       "      <td>The visit includes 15 min on the</td>\n",
       "      <td>sky bridge</td>\n",
       "      <td>which offers a great view and is an impressive...</td>\n",
       "    </tr>\n",
       "    <tr>\n",
       "      <th>2</th>\n",
       "      <td>106</td>\n",
       "      <td>https://www.tripadvisor.com/Attraction_Review-...</td>\n",
       "      <td>https://dynamic-media-cdn.tripadvisor.com/medi...</td>\n",
       "      <td>MinNature Malaysia</td>\n",
       "      <td>2.0</td>\n",
       "      <td>https://www.tripadvisor.com/Attraction_Review-...</td>\n",
       "      <td>Speciality Museums</td>\n",
       "      <td>Open now</td>\n",
       "      <td>https://www.tripadvisor.com/Profile/J0Ykk</td>\n",
       "      <td>https://dynamic-media-cdn.tripadvisor.com/medi...</td>\n",
       "      <td>By</td>\n",
       "      <td>J0Ykk</td>\n",
       "      <td>https://www.tripadvisor.com/ShowUserReviews-g2...</td>\n",
       "      <td>I admit, I was also incredibly curious as</td>\n",
       "      <td>Sungei Wang Plaza</td>\n",
       "      <td>was a blast from the past for me.</td>\n",
       "    </tr>\n",
       "    <tr>\n",
       "      <th>3</th>\n",
       "      <td>6,221</td>\n",
       "      <td>https://www.tripadvisor.com/Attraction_Review-...</td>\n",
       "      <td>https://dynamic-media-cdn.tripadvisor.com/medi...</td>\n",
       "      <td>Aquaria</td>\n",
       "      <td>3.0</td>\n",
       "      <td>https://www.tripadvisor.com/Attraction_Review-...</td>\n",
       "      <td>Aquariums</td>\n",
       "      <td>NaN</td>\n",
       "      <td>https://www.tripadvisor.com/Profile/MisterN52</td>\n",
       "      <td>https://dynamic-media-cdn.tripadvisor.com/medi...</td>\n",
       "      <td>By</td>\n",
       "      <td>MisterN52</td>\n",
       "      <td>https://www.tripadvisor.com/ShowUserReviews-g2...</td>\n",
       "      <td>It is worthwhile taking your time to appreciat...</td>\n",
       "      <td>marine life</td>\n",
       "      <td>on display, both fresh and saltwater.</td>\n",
       "    </tr>\n",
       "    <tr>\n",
       "      <th>4</th>\n",
       "      <td>13,093</td>\n",
       "      <td>https://www.tripadvisor.com/Attraction_Review-...</td>\n",
       "      <td>https://dynamic-media-cdn.tripadvisor.com/medi...</td>\n",
       "      <td>KLCC Park</td>\n",
       "      <td>4.0</td>\n",
       "      <td>https://www.tripadvisor.com/Attraction_Review-...</td>\n",
       "      <td>Parks</td>\n",
       "      <td>Open now</td>\n",
       "      <td>https://www.tripadvisor.com/Profile/128basils</td>\n",
       "      <td>https://dynamic-media-cdn.tripadvisor.com/medi...</td>\n",
       "      <td>By</td>\n",
       "      <td>128basils</td>\n",
       "      <td>https://www.tripadvisor.com/ShowUserReviews-g2...</td>\n",
       "      <td>excellent place to stroll and unwind after a b...</td>\n",
       "      <td>running track</td>\n",
       "      <td>.</td>\n",
       "    </tr>\n",
       "  </tbody>\n",
       "</table>\n",
       "</div>"
      ],
      "text/plain": [
       "                                        WlYyy  \\\n",
       "0  1,000+ places sorted by traveler favorites   \n",
       "1                                      30,113   \n",
       "2                                         106   \n",
       "3                                       6,221   \n",
       "4                                      13,093   \n",
       "\n",
       "                                          FmrIP href  \\\n",
       "0                                                NaN   \n",
       "1  https://www.tripadvisor.com/Attraction_Review-...   \n",
       "2  https://www.tripadvisor.com/Attraction_Review-...   \n",
       "3  https://www.tripadvisor.com/Attraction_Review-...   \n",
       "4  https://www.tripadvisor.com/Attraction_Review-...   \n",
       "\n",
       "                                           dugSS src                 bUshh  \\\n",
       "0                                                NaN                   NaN   \n",
       "1  https://dynamic-media-cdn.tripadvisor.com/medi...  Petronas Twin Towers   \n",
       "2  https://dynamic-media-cdn.tripadvisor.com/medi...    MinNature Malaysia   \n",
       "3  https://dynamic-media-cdn.tripadvisor.com/medi...               Aquaria   \n",
       "4  https://dynamic-media-cdn.tripadvisor.com/medi...             KLCC Park   \n",
       "\n",
       "   cIVmB                                       iPqaD href 2  \\\n",
       "0    NaN                                                NaN   \n",
       "1    1.0  https://www.tripadvisor.com/Attraction_Review-...   \n",
       "2    2.0  https://www.tripadvisor.com/Attraction_Review-...   \n",
       "3    3.0  https://www.tripadvisor.com/Attraction_Review-...   \n",
       "4    4.0  https://www.tripadvisor.com/Attraction_Review-...   \n",
       "\n",
       "                   WlYyy 2   WlYyy 3  \\\n",
       "0                      NaN       NaN   \n",
       "1  Architectural Buildings  Open now   \n",
       "2       Speciality Museums  Open now   \n",
       "3                Aquariums       NaN   \n",
       "4                    Parks  Open now   \n",
       "\n",
       "                                    iPqaD href 3  \\\n",
       "0                                            NaN   \n",
       "1   https://www.tripadvisor.com/Profile/217fredg   \n",
       "2      https://www.tripadvisor.com/Profile/J0Ykk   \n",
       "3  https://www.tripadvisor.com/Profile/MisterN52   \n",
       "4  https://www.tripadvisor.com/Profile/128basils   \n",
       "\n",
       "                                         dugSS src 2 WlYyy 5      iPqaD  \\\n",
       "0                                                NaN     NaN        NaN   \n",
       "1  https://dynamic-media-cdn.tripadvisor.com/medi...      By   217fredg   \n",
       "2  https://dynamic-media-cdn.tripadvisor.com/medi...      By      J0Ykk   \n",
       "3  https://dynamic-media-cdn.tripadvisor.com/medi...      By  MisterN52   \n",
       "4  https://dynamic-media-cdn.tripadvisor.com/medi...      By  128basils   \n",
       "\n",
       "                                        iPqaD href 5  \\\n",
       "0                                                NaN   \n",
       "1  https://www.tripadvisor.com/ShowUserReviews-g2...   \n",
       "2  https://www.tripadvisor.com/ShowUserReviews-g2...   \n",
       "3  https://www.tripadvisor.com/ShowUserReviews-g2...   \n",
       "4  https://www.tripadvisor.com/ShowUserReviews-g2...   \n",
       "\n",
       "                                             WlYyy 6              dkvhj  \\\n",
       "0                                                NaN                NaN   \n",
       "1                   The visit includes 15 min on the         sky bridge   \n",
       "2          I admit, I was also incredibly curious as  Sungei Wang Plaza   \n",
       "3  It is worthwhile taking your time to appreciat...        marine life   \n",
       "4  excellent place to stroll and unwind after a b...      running track   \n",
       "\n",
       "                                             WlYyy 7  \n",
       "0                                                NaN  \n",
       "1  which offers a great view and is an impressive...  \n",
       "2                  was a blast from the past for me.  \n",
       "3              on display, both fresh and saltwater.  \n",
       "4                                                  .  "
      ]
     },
     "execution_count": 8,
     "metadata": {},
     "output_type": "execute_result"
    }
   ],
   "source": [
    "# take a look of the first 5 rows in the data\n",
    "messy_df.head()"
   ]
  },
  {
   "cell_type": "code",
   "execution_count": 9,
   "metadata": {},
   "outputs": [
    {
     "name": "stdout",
     "output_type": "stream",
     "text": [
      "<class 'pandas.core.frame.DataFrame'>\n",
      "RangeIndex: 164 entries, 0 to 163\n",
      "Data columns (total 16 columns):\n",
      " #   Column        Non-Null Count  Dtype  \n",
      "---  ------        --------------  -----  \n",
      " 0   WlYyy         164 non-null    object \n",
      " 1   FmrIP href    155 non-null    object \n",
      " 2   dugSS src     155 non-null    object \n",
      " 3   bUshh         155 non-null    object \n",
      " 4   cIVmB         155 non-null    float64\n",
      " 5   iPqaD href 2  155 non-null    object \n",
      " 6   WlYyy 2       163 non-null    object \n",
      " 7   WlYyy 3       36 non-null     object \n",
      " 8   iPqaD href 3  50 non-null     object \n",
      " 9   dugSS src 2   50 non-null     object \n",
      " 10  WlYyy 5       50 non-null     object \n",
      " 11  iPqaD         50 non-null     object \n",
      " 12  iPqaD href 5  50 non-null     object \n",
      " 13  WlYyy 6       50 non-null     object \n",
      " 14  dkvhj         50 non-null     object \n",
      " 15  WlYyy 7       44 non-null     object \n",
      "dtypes: float64(1), object(15)\n",
      "memory usage: 20.6+ KB\n"
     ]
    }
   ],
   "source": [
    "# check the datatype & non-null count\n",
    "messy_df.info()"
   ]
  },
  {
   "cell_type": "code",
   "execution_count": 10,
   "metadata": {},
   "outputs": [],
   "source": [
    "# making a cop of the data to clean it\n",
    "df = messy_df.copy()"
   ]
  },
  {
   "cell_type": "code",
   "execution_count": 11,
   "metadata": {},
   "outputs": [],
   "source": [
    "# dropping the unnecessary columns\n",
    "df.drop(['WlYyy', 'FmrIP href', 'dugSS src',  'cIVmB', 'iPqaD href 2', 'WlYyy 3', 'iPqaD href 3', 'dugSS src 2', 'WlYyy 5', 'iPqaD','iPqaD href 5', 'WlYyy 6', 'dkvhj', 'WlYyy 7'], axis=1 , inplace=True)"
   ]
  },
  {
   "cell_type": "code",
   "execution_count": 12,
   "metadata": {},
   "outputs": [],
   "source": [
    "# renaming the columns\n",
    "df.rename(columns={ 'bUshh':'Attraction Name', 'WlYyy 2':'Attraction Type'}, inplace=True)"
   ]
  },
  {
   "cell_type": "code",
   "execution_count": 13,
   "metadata": {},
   "outputs": [],
   "source": [
    "# adding new columns\n",
    "df['City'] = 'Kuala Lumpur'\n",
    "df['Country'] = 'Malaysia'"
   ]
  },
  {
   "cell_type": "code",
   "execution_count": 14,
   "metadata": {},
   "outputs": [
    {
     "data": {
      "text/plain": [
       "11"
      ]
     },
     "execution_count": 14,
     "metadata": {},
     "output_type": "execute_result"
    }
   ],
   "source": [
    "# check the total duplicated rows\n",
    "sum(df.duplicated())"
   ]
  },
  {
   "cell_type": "code",
   "execution_count": 15,
   "metadata": {},
   "outputs": [
    {
     "data": {
      "text/html": [
       "<div>\n",
       "<style scoped>\n",
       "    .dataframe tbody tr th:only-of-type {\n",
       "        vertical-align: middle;\n",
       "    }\n",
       "\n",
       "    .dataframe tbody tr th {\n",
       "        vertical-align: top;\n",
       "    }\n",
       "\n",
       "    .dataframe thead th {\n",
       "        text-align: right;\n",
       "    }\n",
       "</style>\n",
       "<table border=\"1\" class=\"dataframe\">\n",
       "  <thead>\n",
       "    <tr style=\"text-align: right;\">\n",
       "      <th></th>\n",
       "      <th>Attraction Name</th>\n",
       "      <th>Attraction Type</th>\n",
       "      <th>City</th>\n",
       "      <th>Country</th>\n",
       "    </tr>\n",
       "  </thead>\n",
       "  <tbody>\n",
       "    <tr>\n",
       "      <th>0</th>\n",
       "      <td>NaN</td>\n",
       "      <td>NaN</td>\n",
       "      <td>Kuala Lumpur</td>\n",
       "      <td>Malaysia</td>\n",
       "    </tr>\n",
       "    <tr>\n",
       "      <th>1</th>\n",
       "      <td>Petronas Twin Towers</td>\n",
       "      <td>Architectural Buildings</td>\n",
       "      <td>Kuala Lumpur</td>\n",
       "      <td>Malaysia</td>\n",
       "    </tr>\n",
       "    <tr>\n",
       "      <th>2</th>\n",
       "      <td>MinNature Malaysia</td>\n",
       "      <td>Speciality Museums</td>\n",
       "      <td>Kuala Lumpur</td>\n",
       "      <td>Malaysia</td>\n",
       "    </tr>\n",
       "    <tr>\n",
       "      <th>3</th>\n",
       "      <td>Aquaria</td>\n",
       "      <td>Aquariums</td>\n",
       "      <td>Kuala Lumpur</td>\n",
       "      <td>Malaysia</td>\n",
       "    </tr>\n",
       "    <tr>\n",
       "      <th>4</th>\n",
       "      <td>KLCC Park</td>\n",
       "      <td>Parks</td>\n",
       "      <td>Kuala Lumpur</td>\n",
       "      <td>Malaysia</td>\n",
       "    </tr>\n",
       "    <tr>\n",
       "      <th>...</th>\n",
       "      <td>...</td>\n",
       "      <td>...</td>\n",
       "      <td>...</td>\n",
       "      <td>...</td>\n",
       "    </tr>\n",
       "    <tr>\n",
       "      <th>157</th>\n",
       "      <td>Saloma Link Bridge</td>\n",
       "      <td>Bridges</td>\n",
       "      <td>Kuala Lumpur</td>\n",
       "      <td>Malaysia</td>\n",
       "    </tr>\n",
       "    <tr>\n",
       "      <th>158</th>\n",
       "      <td>MABA Basketball Stadium</td>\n",
       "      <td>Arenas &amp; Stadiums</td>\n",
       "      <td>Kuala Lumpur</td>\n",
       "      <td>Malaysia</td>\n",
       "    </tr>\n",
       "    <tr>\n",
       "      <th>159</th>\n",
       "      <td>Wei-Ling Gallery</td>\n",
       "      <td>Art Galleries</td>\n",
       "      <td>Kuala Lumpur</td>\n",
       "      <td>Malaysia</td>\n",
       "    </tr>\n",
       "    <tr>\n",
       "      <th>160</th>\n",
       "      <td>The Jade Museum</td>\n",
       "      <td>Speciality Museums</td>\n",
       "      <td>Kuala Lumpur</td>\n",
       "      <td>Malaysia</td>\n",
       "    </tr>\n",
       "    <tr>\n",
       "      <th>161</th>\n",
       "      <td>Sri Veera Hanuman Temple</td>\n",
       "      <td>Religious Sites</td>\n",
       "      <td>Kuala Lumpur</td>\n",
       "      <td>Malaysia</td>\n",
       "    </tr>\n",
       "  </tbody>\n",
       "</table>\n",
       "<p>153 rows × 4 columns</p>\n",
       "</div>"
      ],
      "text/plain": [
       "              Attraction Name          Attraction Type          City   Country\n",
       "0                         NaN                      NaN  Kuala Lumpur  Malaysia\n",
       "1        Petronas Twin Towers  Architectural Buildings  Kuala Lumpur  Malaysia\n",
       "2          MinNature Malaysia       Speciality Museums  Kuala Lumpur  Malaysia\n",
       "3                     Aquaria                Aquariums  Kuala Lumpur  Malaysia\n",
       "4                   KLCC Park                    Parks  Kuala Lumpur  Malaysia\n",
       "..                        ...                      ...           ...       ...\n",
       "157        Saloma Link Bridge                  Bridges  Kuala Lumpur  Malaysia\n",
       "158   MABA Basketball Stadium        Arenas & Stadiums  Kuala Lumpur  Malaysia\n",
       "159          Wei-Ling Gallery            Art Galleries  Kuala Lumpur  Malaysia\n",
       "160           The Jade Museum       Speciality Museums  Kuala Lumpur  Malaysia\n",
       "161  Sri Veera Hanuman Temple          Religious Sites  Kuala Lumpur  Malaysia\n",
       "\n",
       "[153 rows x 4 columns]"
      ]
     },
     "execution_count": 15,
     "metadata": {},
     "output_type": "execute_result"
    }
   ],
   "source": [
    "# drop the duplicated rows\n",
    "df.drop_duplicates()"
   ]
  },
  {
   "cell_type": "code",
   "execution_count": 16,
   "metadata": {},
   "outputs": [
    {
     "data": {
      "text/plain": [
       "Index(['Attraction Name', 'Attraction Type', 'City', 'Country'], dtype='object')"
      ]
     },
     "execution_count": 16,
     "metadata": {},
     "output_type": "execute_result"
    }
   ],
   "source": [
    "df.columns"
   ]
  },
  {
   "cell_type": "code",
   "execution_count": 17,
   "metadata": {},
   "outputs": [
    {
     "data": {
      "text/plain": [
       "Attraction Name    9\n",
       "Attraction Type    1\n",
       "City               0\n",
       "Country            0\n",
       "dtype: int64"
      ]
     },
     "execution_count": 17,
     "metadata": {},
     "output_type": "execute_result"
    }
   ],
   "source": [
    "#checking for total null values\n",
    "df.isnull().sum() "
   ]
  },
  {
   "cell_type": "code",
   "execution_count": 18,
   "metadata": {},
   "outputs": [
    {
     "data": {
      "text/html": [
       "<div>\n",
       "<style scoped>\n",
       "    .dataframe tbody tr th:only-of-type {\n",
       "        vertical-align: middle;\n",
       "    }\n",
       "\n",
       "    .dataframe tbody tr th {\n",
       "        vertical-align: top;\n",
       "    }\n",
       "\n",
       "    .dataframe thead th {\n",
       "        text-align: right;\n",
       "    }\n",
       "</style>\n",
       "<table border=\"1\" class=\"dataframe\">\n",
       "  <thead>\n",
       "    <tr style=\"text-align: right;\">\n",
       "      <th></th>\n",
       "      <th>Attraction Name</th>\n",
       "      <th>Attraction Type</th>\n",
       "      <th>City</th>\n",
       "      <th>Country</th>\n",
       "    </tr>\n",
       "  </thead>\n",
       "  <tbody>\n",
       "    <tr>\n",
       "      <th>0</th>\n",
       "      <td>NaN</td>\n",
       "      <td>NaN</td>\n",
       "      <td>Kuala Lumpur</td>\n",
       "      <td>Malaysia</td>\n",
       "    </tr>\n",
       "    <tr>\n",
       "      <th>1</th>\n",
       "      <td>Petronas Twin Towers</td>\n",
       "      <td>Architectural Buildings</td>\n",
       "      <td>Kuala Lumpur</td>\n",
       "      <td>Malaysia</td>\n",
       "    </tr>\n",
       "    <tr>\n",
       "      <th>2</th>\n",
       "      <td>MinNature Malaysia</td>\n",
       "      <td>Speciality Museums</td>\n",
       "      <td>Kuala Lumpur</td>\n",
       "      <td>Malaysia</td>\n",
       "    </tr>\n",
       "    <tr>\n",
       "      <th>3</th>\n",
       "      <td>Aquaria</td>\n",
       "      <td>Aquariums</td>\n",
       "      <td>Kuala Lumpur</td>\n",
       "      <td>Malaysia</td>\n",
       "    </tr>\n",
       "    <tr>\n",
       "      <th>4</th>\n",
       "      <td>KLCC Park</td>\n",
       "      <td>Parks</td>\n",
       "      <td>Kuala Lumpur</td>\n",
       "      <td>Malaysia</td>\n",
       "    </tr>\n",
       "    <tr>\n",
       "      <th>...</th>\n",
       "      <td>...</td>\n",
       "      <td>...</td>\n",
       "      <td>...</td>\n",
       "      <td>...</td>\n",
       "    </tr>\n",
       "    <tr>\n",
       "      <th>159</th>\n",
       "      <td>Wei-Ling Gallery</td>\n",
       "      <td>Art Galleries</td>\n",
       "      <td>Kuala Lumpur</td>\n",
       "      <td>Malaysia</td>\n",
       "    </tr>\n",
       "    <tr>\n",
       "      <th>160</th>\n",
       "      <td>The Jade Museum</td>\n",
       "      <td>Speciality Museums</td>\n",
       "      <td>Kuala Lumpur</td>\n",
       "      <td>Malaysia</td>\n",
       "    </tr>\n",
       "    <tr>\n",
       "      <th>161</th>\n",
       "      <td>Sri Veera Hanuman Temple</td>\n",
       "      <td>Religious Sites</td>\n",
       "      <td>Kuala Lumpur</td>\n",
       "      <td>Malaysia</td>\n",
       "    </tr>\n",
       "    <tr>\n",
       "      <th>162</th>\n",
       "      <td>NaN</td>\n",
       "      <td>1</td>\n",
       "      <td>Kuala Lumpur</td>\n",
       "      <td>Malaysia</td>\n",
       "    </tr>\n",
       "    <tr>\n",
       "      <th>163</th>\n",
       "      <td>NaN</td>\n",
       "      <td>1</td>\n",
       "      <td>Kuala Lumpur</td>\n",
       "      <td>Malaysia</td>\n",
       "    </tr>\n",
       "  </tbody>\n",
       "</table>\n",
       "<p>164 rows × 4 columns</p>\n",
       "</div>"
      ],
      "text/plain": [
       "              Attraction Name          Attraction Type          City   Country\n",
       "0                         NaN                      NaN  Kuala Lumpur  Malaysia\n",
       "1        Petronas Twin Towers  Architectural Buildings  Kuala Lumpur  Malaysia\n",
       "2          MinNature Malaysia       Speciality Museums  Kuala Lumpur  Malaysia\n",
       "3                     Aquaria                Aquariums  Kuala Lumpur  Malaysia\n",
       "4                   KLCC Park                    Parks  Kuala Lumpur  Malaysia\n",
       "..                        ...                      ...           ...       ...\n",
       "159          Wei-Ling Gallery            Art Galleries  Kuala Lumpur  Malaysia\n",
       "160           The Jade Museum       Speciality Museums  Kuala Lumpur  Malaysia\n",
       "161  Sri Veera Hanuman Temple          Religious Sites  Kuala Lumpur  Malaysia\n",
       "162                       NaN                        1  Kuala Lumpur  Malaysia\n",
       "163                       NaN                        1  Kuala Lumpur  Malaysia\n",
       "\n",
       "[164 rows x 4 columns]"
      ]
     },
     "execution_count": 18,
     "metadata": {},
     "output_type": "execute_result"
    }
   ],
   "source": [
    "# reset the index\n",
    "df.reset_index(drop=True)"
   ]
  },
  {
   "cell_type": "code",
   "execution_count": 19,
   "metadata": {},
   "outputs": [
    {
     "name": "stdout",
     "output_type": "stream",
     "text": [
      "<class 'pandas.core.frame.DataFrame'>\n",
      "RangeIndex: 164 entries, 0 to 163\n",
      "Data columns (total 4 columns):\n",
      " #   Column           Non-Null Count  Dtype \n",
      "---  ------           --------------  ----- \n",
      " 0   Attraction Name  155 non-null    object\n",
      " 1   Attraction Type  163 non-null    object\n",
      " 2   City             164 non-null    object\n",
      " 3   Country          164 non-null    object\n",
      "dtypes: object(4)\n",
      "memory usage: 5.2+ KB\n"
     ]
    }
   ],
   "source": [
    "df.info()"
   ]
  },
  {
   "cell_type": "code",
   "execution_count": 20,
   "metadata": {},
   "outputs": [],
   "source": [
    "# Store the clean dataset\n",
    "df.to_csv('Kuala Lumpurclean.csv')"
   ]
  }
 ],
 "metadata": {
  "interpreter": {
   "hash": "2921360646c6f5c3a0729850114a5b22e8fb4acfaad82aa3253023e7dda6a667"
  },
  "kernelspec": {
   "display_name": "Python 3.9.10 64-bit (windows store)",
   "language": "python",
   "name": "python3"
  },
  "language_info": {
   "codemirror_mode": {
    "name": "ipython",
    "version": 3
   },
   "file_extension": ".py",
   "mimetype": "text/x-python",
   "name": "python",
   "nbconvert_exporter": "python",
   "pygments_lexer": "ipython3",
   "version": "3.9.10"
  },
  "orig_nbformat": 4
 },
 "nbformat": 4,
 "nbformat_minor": 2
}

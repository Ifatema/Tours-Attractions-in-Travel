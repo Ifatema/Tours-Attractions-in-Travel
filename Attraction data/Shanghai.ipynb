{
 "cells": [
  {
   "cell_type": "code",
   "execution_count": 5,
   "metadata": {},
   "outputs": [],
   "source": [
    "# importing libraries\n",
    "import pandas as pd\n",
    "import numpy as np\n",
    "import matplotlib.pyplot as plt\n",
    "import seaborn as sns"
   ]
  },
  {
   "cell_type": "code",
   "execution_count": 6,
   "metadata": {},
   "outputs": [],
   "source": [
    "# loading the dataframe\n",
    "messy_df = pd.read_csv('Shanghai.csv')"
   ]
  },
  {
   "cell_type": "code",
   "execution_count": 7,
   "metadata": {},
   "outputs": [
    {
     "data": {
      "text/html": [
       "<div>\n",
       "<style scoped>\n",
       "    .dataframe tbody tr th:only-of-type {\n",
       "        vertical-align: middle;\n",
       "    }\n",
       "\n",
       "    .dataframe tbody tr th {\n",
       "        vertical-align: top;\n",
       "    }\n",
       "\n",
       "    .dataframe thead th {\n",
       "        text-align: right;\n",
       "    }\n",
       "</style>\n",
       "<table border=\"1\" class=\"dataframe\">\n",
       "  <thead>\n",
       "    <tr style=\"text-align: right;\">\n",
       "      <th></th>\n",
       "      <th>WlYyy</th>\n",
       "      <th>FmrIP href</th>\n",
       "      <th>dugSS src</th>\n",
       "      <th>bUshh</th>\n",
       "      <th>cIVmB</th>\n",
       "      <th>iPqaD href 2</th>\n",
       "      <th>WlYyy 2</th>\n",
       "      <th>WlYyy 3</th>\n",
       "    </tr>\n",
       "  </thead>\n",
       "  <tbody>\n",
       "    <tr>\n",
       "      <th>0</th>\n",
       "      <td>2,000+ places sorted by traveler favorites</td>\n",
       "      <td>NaN</td>\n",
       "      <td>NaN</td>\n",
       "      <td>NaN</td>\n",
       "      <td>NaN</td>\n",
       "      <td>NaN</td>\n",
       "      <td>NaN</td>\n",
       "      <td>NaN</td>\n",
       "    </tr>\n",
       "    <tr>\n",
       "      <th>1</th>\n",
       "      <td>19,492</td>\n",
       "      <td>https://www.tripadvisor.com/Attraction_Review-...</td>\n",
       "      <td>https://dynamic-media-cdn.tripadvisor.com/medi...</td>\n",
       "      <td>The Bund (Wai Tan)</td>\n",
       "      <td>1.0</td>\n",
       "      <td>https://www.tripadvisor.com/Attraction_Review-...</td>\n",
       "      <td>Points of Interest &amp; Landmarks • Historic Walk...</td>\n",
       "      <td>Huangpu</td>\n",
       "    </tr>\n",
       "    <tr>\n",
       "      <th>2</th>\n",
       "      <td>1,924</td>\n",
       "      <td>https://www.tripadvisor.com/Attraction_Review-...</td>\n",
       "      <td>https://dynamic-media-cdn.tripadvisor.com/medi...</td>\n",
       "      <td>Shanghai Tower</td>\n",
       "      <td>2.0</td>\n",
       "      <td>https://www.tripadvisor.com/Attraction_Review-...</td>\n",
       "      <td>Observation Decks &amp; Towers</td>\n",
       "      <td>Pudong</td>\n",
       "    </tr>\n",
       "    <tr>\n",
       "      <th>3</th>\n",
       "      <td>6,601</td>\n",
       "      <td>https://www.tripadvisor.com/Attraction_Review-...</td>\n",
       "      <td>https://dynamic-media-cdn.tripadvisor.com/medi...</td>\n",
       "      <td>Oriental Pearl Tower (Dongfang Mingzhu)</td>\n",
       "      <td>3.0</td>\n",
       "      <td>https://www.tripadvisor.com/Attraction_Review-...</td>\n",
       "      <td>Points of Interest &amp; Landmarks • Architectural...</td>\n",
       "      <td>Pudong</td>\n",
       "    </tr>\n",
       "    <tr>\n",
       "      <th>4</th>\n",
       "      <td>10,569</td>\n",
       "      <td>https://www.tripadvisor.com/Attraction_Review-...</td>\n",
       "      <td>https://dynamic-media-cdn.tripadvisor.com/medi...</td>\n",
       "      <td>Yu Garden (Yuyuan)</td>\n",
       "      <td>4.0</td>\n",
       "      <td>https://www.tripadvisor.com/Attraction_Review-...</td>\n",
       "      <td>Gardens</td>\n",
       "      <td>Xiaodongmen</td>\n",
       "    </tr>\n",
       "  </tbody>\n",
       "</table>\n",
       "</div>"
      ],
      "text/plain": [
       "                                        WlYyy  \\\n",
       "0  2,000+ places sorted by traveler favorites   \n",
       "1                                      19,492   \n",
       "2                                       1,924   \n",
       "3                                       6,601   \n",
       "4                                      10,569   \n",
       "\n",
       "                                          FmrIP href  \\\n",
       "0                                                NaN   \n",
       "1  https://www.tripadvisor.com/Attraction_Review-...   \n",
       "2  https://www.tripadvisor.com/Attraction_Review-...   \n",
       "3  https://www.tripadvisor.com/Attraction_Review-...   \n",
       "4  https://www.tripadvisor.com/Attraction_Review-...   \n",
       "\n",
       "                                           dugSS src  \\\n",
       "0                                                NaN   \n",
       "1  https://dynamic-media-cdn.tripadvisor.com/medi...   \n",
       "2  https://dynamic-media-cdn.tripadvisor.com/medi...   \n",
       "3  https://dynamic-media-cdn.tripadvisor.com/medi...   \n",
       "4  https://dynamic-media-cdn.tripadvisor.com/medi...   \n",
       "\n",
       "                                     bUshh  cIVmB  \\\n",
       "0                                      NaN    NaN   \n",
       "1                       The Bund (Wai Tan)    1.0   \n",
       "2                           Shanghai Tower    2.0   \n",
       "3  Oriental Pearl Tower (Dongfang Mingzhu)    3.0   \n",
       "4                       Yu Garden (Yuyuan)    4.0   \n",
       "\n",
       "                                        iPqaD href 2  \\\n",
       "0                                                NaN   \n",
       "1  https://www.tripadvisor.com/Attraction_Review-...   \n",
       "2  https://www.tripadvisor.com/Attraction_Review-...   \n",
       "3  https://www.tripadvisor.com/Attraction_Review-...   \n",
       "4  https://www.tripadvisor.com/Attraction_Review-...   \n",
       "\n",
       "                                             WlYyy 2      WlYyy 3  \n",
       "0                                                NaN          NaN  \n",
       "1  Points of Interest & Landmarks • Historic Walk...      Huangpu  \n",
       "2                         Observation Decks & Towers       Pudong  \n",
       "3  Points of Interest & Landmarks • Architectural...       Pudong  \n",
       "4                                            Gardens  Xiaodongmen  "
      ]
     },
     "execution_count": 7,
     "metadata": {},
     "output_type": "execute_result"
    }
   ],
   "source": [
    "# take a look of the first 5 rows in the data\n",
    "messy_df.head()"
   ]
  },
  {
   "cell_type": "code",
   "execution_count": 8,
   "metadata": {},
   "outputs": [
    {
     "name": "stdout",
     "output_type": "stream",
     "text": [
      "<class 'pandas.core.frame.DataFrame'>\n",
      "RangeIndex: 345 entries, 0 to 344\n",
      "Data columns (total 8 columns):\n",
      " #   Column        Non-Null Count  Dtype  \n",
      "---  ------        --------------  -----  \n",
      " 0   WlYyy         345 non-null    object \n",
      " 1   FmrIP href    332 non-null    object \n",
      " 2   dugSS src     326 non-null    object \n",
      " 3   bUshh         332 non-null    object \n",
      " 4   cIVmB         332 non-null    float64\n",
      " 5   iPqaD href 2  332 non-null    object \n",
      " 6   WlYyy 2       342 non-null    object \n",
      " 7   WlYyy 3       320 non-null    object \n",
      "dtypes: float64(1), object(7)\n",
      "memory usage: 21.7+ KB\n"
     ]
    }
   ],
   "source": [
    "# check the datatype & non-null count\n",
    "messy_df.info()"
   ]
  },
  {
   "cell_type": "code",
   "execution_count": 9,
   "metadata": {},
   "outputs": [],
   "source": [
    "# making a cop of the data to clean it\n",
    "df = messy_df.copy()"
   ]
  },
  {
   "cell_type": "code",
   "execution_count": 10,
   "metadata": {},
   "outputs": [],
   "source": [
    "# dropping the unnecessary columns\n",
    "df.drop(['WlYyy', 'FmrIP href', 'dugSS src','cIVmB', 'iPqaD href 2','WlYyy 3'], axis=1 , inplace=True)"
   ]
  },
  {
   "cell_type": "code",
   "execution_count": 11,
   "metadata": {},
   "outputs": [],
   "source": [
    "# renaming the columns\n",
    "df.rename(columns={ 'bUshh':'Attraction Name', 'WlYyy 2':'Attraction Type'}, inplace=True)"
   ]
  },
  {
   "cell_type": "code",
   "execution_count": 12,
   "metadata": {},
   "outputs": [],
   "source": [
    "# adding new columns\n",
    "df['City'] = 'Shanghai'\n",
    "df['Country'] = 'China'"
   ]
  },
  {
   "cell_type": "code",
   "execution_count": 13,
   "metadata": {},
   "outputs": [
    {
     "data": {
      "text/plain": [
       "42"
      ]
     },
     "execution_count": 13,
     "metadata": {},
     "output_type": "execute_result"
    }
   ],
   "source": [
    "# check the total duplicated rows\n",
    "sum(df.duplicated())"
   ]
  },
  {
   "cell_type": "code",
   "execution_count": 14,
   "metadata": {},
   "outputs": [
    {
     "data": {
      "text/html": [
       "<div>\n",
       "<style scoped>\n",
       "    .dataframe tbody tr th:only-of-type {\n",
       "        vertical-align: middle;\n",
       "    }\n",
       "\n",
       "    .dataframe tbody tr th {\n",
       "        vertical-align: top;\n",
       "    }\n",
       "\n",
       "    .dataframe thead th {\n",
       "        text-align: right;\n",
       "    }\n",
       "</style>\n",
       "<table border=\"1\" class=\"dataframe\">\n",
       "  <thead>\n",
       "    <tr style=\"text-align: right;\">\n",
       "      <th></th>\n",
       "      <th>Attraction Name</th>\n",
       "      <th>Attraction Type</th>\n",
       "      <th>City</th>\n",
       "      <th>Country</th>\n",
       "    </tr>\n",
       "  </thead>\n",
       "  <tbody>\n",
       "    <tr>\n",
       "      <th>0</th>\n",
       "      <td>NaN</td>\n",
       "      <td>NaN</td>\n",
       "      <td>Shanghai</td>\n",
       "      <td>China</td>\n",
       "    </tr>\n",
       "    <tr>\n",
       "      <th>1</th>\n",
       "      <td>The Bund (Wai Tan)</td>\n",
       "      <td>Points of Interest &amp; Landmarks • Historic Walk...</td>\n",
       "      <td>Shanghai</td>\n",
       "      <td>China</td>\n",
       "    </tr>\n",
       "    <tr>\n",
       "      <th>2</th>\n",
       "      <td>Shanghai Tower</td>\n",
       "      <td>Observation Decks &amp; Towers</td>\n",
       "      <td>Shanghai</td>\n",
       "      <td>China</td>\n",
       "    </tr>\n",
       "    <tr>\n",
       "      <th>3</th>\n",
       "      <td>Oriental Pearl Tower (Dongfang Mingzhu)</td>\n",
       "      <td>Points of Interest &amp; Landmarks • Architectural...</td>\n",
       "      <td>Shanghai</td>\n",
       "      <td>China</td>\n",
       "    </tr>\n",
       "    <tr>\n",
       "      <th>4</th>\n",
       "      <td>Yu Garden (Yuyuan)</td>\n",
       "      <td>Gardens</td>\n",
       "      <td>Shanghai</td>\n",
       "      <td>China</td>\n",
       "    </tr>\n",
       "    <tr>\n",
       "      <th>...</th>\n",
       "      <td>...</td>\n",
       "      <td>...</td>\n",
       "      <td>...</td>\n",
       "      <td>...</td>\n",
       "    </tr>\n",
       "    <tr>\n",
       "      <th>339</th>\n",
       "      <td>Far East International Plaza</td>\n",
       "      <td>Shopping Malls</td>\n",
       "      <td>Shanghai</td>\n",
       "      <td>China</td>\n",
       "    </tr>\n",
       "    <tr>\n",
       "      <th>340</th>\n",
       "      <td>Star Live Plaza</td>\n",
       "      <td>Shopping Malls</td>\n",
       "      <td>Shanghai</td>\n",
       "      <td>China</td>\n",
       "    </tr>\n",
       "    <tr>\n",
       "      <th>341</th>\n",
       "      <td>Chin Grant Yang Temple</td>\n",
       "      <td>Ancient Ruins • Religious Sites</td>\n",
       "      <td>Shanghai</td>\n",
       "      <td>China</td>\n",
       "    </tr>\n",
       "    <tr>\n",
       "      <th>342</th>\n",
       "      <td>Yuan Shen Natatorium ( Swimming Pool)</td>\n",
       "      <td>Sports Complexes</td>\n",
       "      <td>Shanghai</td>\n",
       "      <td>China</td>\n",
       "    </tr>\n",
       "    <tr>\n",
       "      <th>343</th>\n",
       "      <td>Fuk in antique city Market</td>\n",
       "      <td>Antique Shops</td>\n",
       "      <td>Shanghai</td>\n",
       "      <td>China</td>\n",
       "    </tr>\n",
       "  </tbody>\n",
       "</table>\n",
       "<p>303 rows × 4 columns</p>\n",
       "</div>"
      ],
      "text/plain": [
       "                             Attraction Name  \\\n",
       "0                                        NaN   \n",
       "1                         The Bund (Wai Tan)   \n",
       "2                             Shanghai Tower   \n",
       "3    Oriental Pearl Tower (Dongfang Mingzhu)   \n",
       "4                         Yu Garden (Yuyuan)   \n",
       "..                                       ...   \n",
       "339             Far East International Plaza   \n",
       "340                          Star Live Plaza   \n",
       "341                   Chin Grant Yang Temple   \n",
       "342    Yuan Shen Natatorium ( Swimming Pool)   \n",
       "343               Fuk in antique city Market   \n",
       "\n",
       "                                       Attraction Type      City Country  \n",
       "0                                                  NaN  Shanghai   China  \n",
       "1    Points of Interest & Landmarks • Historic Walk...  Shanghai   China  \n",
       "2                           Observation Decks & Towers  Shanghai   China  \n",
       "3    Points of Interest & Landmarks • Architectural...  Shanghai   China  \n",
       "4                                              Gardens  Shanghai   China  \n",
       "..                                                 ...       ...     ...  \n",
       "339                                     Shopping Malls  Shanghai   China  \n",
       "340                                     Shopping Malls  Shanghai   China  \n",
       "341                    Ancient Ruins • Religious Sites  Shanghai   China  \n",
       "342                                   Sports Complexes  Shanghai   China  \n",
       "343                                      Antique Shops  Shanghai   China  \n",
       "\n",
       "[303 rows x 4 columns]"
      ]
     },
     "execution_count": 14,
     "metadata": {},
     "output_type": "execute_result"
    }
   ],
   "source": [
    "# drop the duplicated rows\n",
    "df.drop_duplicates()"
   ]
  },
  {
   "cell_type": "code",
   "execution_count": 15,
   "metadata": {},
   "outputs": [
    {
     "data": {
      "text/plain": [
       "Index(['Attraction Name', 'Attraction Type', 'City', 'Country'], dtype='object')"
      ]
     },
     "execution_count": 15,
     "metadata": {},
     "output_type": "execute_result"
    }
   ],
   "source": [
    "df.columns"
   ]
  },
  {
   "cell_type": "code",
   "execution_count": 16,
   "metadata": {},
   "outputs": [
    {
     "data": {
      "text/plain": [
       "Attraction Name    13\n",
       "Attraction Type     3\n",
       "City                0\n",
       "Country             0\n",
       "dtype: int64"
      ]
     },
     "execution_count": 16,
     "metadata": {},
     "output_type": "execute_result"
    }
   ],
   "source": [
    "#checking for total null values\n",
    "df.isnull().sum() "
   ]
  },
  {
   "cell_type": "code",
   "execution_count": 17,
   "metadata": {},
   "outputs": [
    {
     "data": {
      "text/html": [
       "<div>\n",
       "<style scoped>\n",
       "    .dataframe tbody tr th:only-of-type {\n",
       "        vertical-align: middle;\n",
       "    }\n",
       "\n",
       "    .dataframe tbody tr th {\n",
       "        vertical-align: top;\n",
       "    }\n",
       "\n",
       "    .dataframe thead th {\n",
       "        text-align: right;\n",
       "    }\n",
       "</style>\n",
       "<table border=\"1\" class=\"dataframe\">\n",
       "  <thead>\n",
       "    <tr style=\"text-align: right;\">\n",
       "      <th></th>\n",
       "      <th>Attraction Name</th>\n",
       "      <th>Attraction Type</th>\n",
       "      <th>City</th>\n",
       "      <th>Country</th>\n",
       "    </tr>\n",
       "  </thead>\n",
       "  <tbody>\n",
       "    <tr>\n",
       "      <th>0</th>\n",
       "      <td>NaN</td>\n",
       "      <td>NaN</td>\n",
       "      <td>Shanghai</td>\n",
       "      <td>China</td>\n",
       "    </tr>\n",
       "    <tr>\n",
       "      <th>1</th>\n",
       "      <td>The Bund (Wai Tan)</td>\n",
       "      <td>Points of Interest &amp; Landmarks • Historic Walk...</td>\n",
       "      <td>Shanghai</td>\n",
       "      <td>China</td>\n",
       "    </tr>\n",
       "    <tr>\n",
       "      <th>2</th>\n",
       "      <td>Shanghai Tower</td>\n",
       "      <td>Observation Decks &amp; Towers</td>\n",
       "      <td>Shanghai</td>\n",
       "      <td>China</td>\n",
       "    </tr>\n",
       "    <tr>\n",
       "      <th>3</th>\n",
       "      <td>Oriental Pearl Tower (Dongfang Mingzhu)</td>\n",
       "      <td>Points of Interest &amp; Landmarks • Architectural...</td>\n",
       "      <td>Shanghai</td>\n",
       "      <td>China</td>\n",
       "    </tr>\n",
       "    <tr>\n",
       "      <th>4</th>\n",
       "      <td>Yu Garden (Yuyuan)</td>\n",
       "      <td>Gardens</td>\n",
       "      <td>Shanghai</td>\n",
       "      <td>China</td>\n",
       "    </tr>\n",
       "    <tr>\n",
       "      <th>...</th>\n",
       "      <td>...</td>\n",
       "      <td>...</td>\n",
       "      <td>...</td>\n",
       "      <td>...</td>\n",
       "    </tr>\n",
       "    <tr>\n",
       "      <th>340</th>\n",
       "      <td>Star Live Plaza</td>\n",
       "      <td>Shopping Malls</td>\n",
       "      <td>Shanghai</td>\n",
       "      <td>China</td>\n",
       "    </tr>\n",
       "    <tr>\n",
       "      <th>341</th>\n",
       "      <td>Chin Grant Yang Temple</td>\n",
       "      <td>Ancient Ruins • Religious Sites</td>\n",
       "      <td>Shanghai</td>\n",
       "      <td>China</td>\n",
       "    </tr>\n",
       "    <tr>\n",
       "      <th>342</th>\n",
       "      <td>Yuan Shen Natatorium ( Swimming Pool)</td>\n",
       "      <td>Sports Complexes</td>\n",
       "      <td>Shanghai</td>\n",
       "      <td>China</td>\n",
       "    </tr>\n",
       "    <tr>\n",
       "      <th>343</th>\n",
       "      <td>Fuk in antique city Market</td>\n",
       "      <td>Antique Shops</td>\n",
       "      <td>Shanghai</td>\n",
       "      <td>China</td>\n",
       "    </tr>\n",
       "    <tr>\n",
       "      <th>344</th>\n",
       "      <td>NaN</td>\n",
       "      <td>1</td>\n",
       "      <td>Shanghai</td>\n",
       "      <td>China</td>\n",
       "    </tr>\n",
       "  </tbody>\n",
       "</table>\n",
       "<p>345 rows × 4 columns</p>\n",
       "</div>"
      ],
      "text/plain": [
       "                             Attraction Name  \\\n",
       "0                                        NaN   \n",
       "1                         The Bund (Wai Tan)   \n",
       "2                             Shanghai Tower   \n",
       "3    Oriental Pearl Tower (Dongfang Mingzhu)   \n",
       "4                         Yu Garden (Yuyuan)   \n",
       "..                                       ...   \n",
       "340                          Star Live Plaza   \n",
       "341                   Chin Grant Yang Temple   \n",
       "342    Yuan Shen Natatorium ( Swimming Pool)   \n",
       "343               Fuk in antique city Market   \n",
       "344                                      NaN   \n",
       "\n",
       "                                       Attraction Type      City Country  \n",
       "0                                                  NaN  Shanghai   China  \n",
       "1    Points of Interest & Landmarks • Historic Walk...  Shanghai   China  \n",
       "2                           Observation Decks & Towers  Shanghai   China  \n",
       "3    Points of Interest & Landmarks • Architectural...  Shanghai   China  \n",
       "4                                              Gardens  Shanghai   China  \n",
       "..                                                 ...       ...     ...  \n",
       "340                                     Shopping Malls  Shanghai   China  \n",
       "341                    Ancient Ruins • Religious Sites  Shanghai   China  \n",
       "342                                   Sports Complexes  Shanghai   China  \n",
       "343                                      Antique Shops  Shanghai   China  \n",
       "344                                                  1  Shanghai   China  \n",
       "\n",
       "[345 rows x 4 columns]"
      ]
     },
     "execution_count": 17,
     "metadata": {},
     "output_type": "execute_result"
    }
   ],
   "source": [
    "# reset the index\n",
    "df.reset_index(drop=True)"
   ]
  },
  {
   "cell_type": "code",
   "execution_count": 18,
   "metadata": {},
   "outputs": [
    {
     "name": "stdout",
     "output_type": "stream",
     "text": [
      "<class 'pandas.core.frame.DataFrame'>\n",
      "RangeIndex: 345 entries, 0 to 344\n",
      "Data columns (total 4 columns):\n",
      " #   Column           Non-Null Count  Dtype \n",
      "---  ------           --------------  ----- \n",
      " 0   Attraction Name  332 non-null    object\n",
      " 1   Attraction Type  342 non-null    object\n",
      " 2   City             345 non-null    object\n",
      " 3   Country          345 non-null    object\n",
      "dtypes: object(4)\n",
      "memory usage: 10.9+ KB\n"
     ]
    }
   ],
   "source": [
    "df.info()"
   ]
  },
  {
   "cell_type": "code",
   "execution_count": 19,
   "metadata": {},
   "outputs": [],
   "source": [
    "# Store the clean dataset\n",
    "df.to_csv('Shanghaiclean.csv')"
   ]
  }
 ],
 "metadata": {
  "interpreter": {
   "hash": "2921360646c6f5c3a0729850114a5b22e8fb4acfaad82aa3253023e7dda6a667"
  },
  "kernelspec": {
   "display_name": "Python 3.9.10 64-bit (windows store)",
   "language": "python",
   "name": "python3"
  },
  "language_info": {
   "codemirror_mode": {
    "name": "ipython",
    "version": 3
   },
   "file_extension": ".py",
   "mimetype": "text/x-python",
   "name": "python",
   "nbconvert_exporter": "python",
   "pygments_lexer": "ipython3",
   "version": "3.9.10"
  },
  "orig_nbformat": 4
 },
 "nbformat": 4,
 "nbformat_minor": 2
}
